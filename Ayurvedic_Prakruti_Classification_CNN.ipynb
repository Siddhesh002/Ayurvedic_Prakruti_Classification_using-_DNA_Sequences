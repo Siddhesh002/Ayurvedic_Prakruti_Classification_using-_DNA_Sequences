{
  "nbformat": 4,
  "nbformat_minor": 0,
  "metadata": {
    "colab": {
      "provenance": []
    },
    "kernelspec": {
      "name": "python3",
      "display_name": "Python 3"
    },
    "language_info": {
      "name": "python"
    }
  },
  "cells": [
    {
      "cell_type": "code",
      "metadata": {
        "id": "3ZNbuEfDrz0Y"
      },
      "source": [
        "import torch\n",
        "import torch.nn as nn\n",
        "from torchvision import datasets\n",
        "from torchvision import transforms\n",
        "import numpy as np\n",
        "import os\n",
        "import torch.nn.functional as F\n",
        "import torch.optim as optim\n",
        "import sys\n",
        "import pandas as pd\n",
        "import re\n",
        "from torch.utils.data import (TensorDataset, DataLoader, RandomSampler,\n",
        "                              SequentialSampler)\n",
        "import numpy as np\n",
        "import matplotlib.pyplot as plt\n",
        "from IPython.display import clear_output\n",
        "\n",
        "from sklearn.model_selection import train_test_split\n",
        "\n",
        "device = torch.device(\"cuda:0\" if torch.cuda.is_available() else \"cpu\")\n"
      ],
      "execution_count": null,
      "outputs": []
    },
    {
      "cell_type": "code",
      "metadata": {
        "colab": {
          "base_uri": "https://localhost:8080/"
        },
        "id": "2i177xGFrz0b",
        "outputId": "2470ae2e-cdb2-4f8a-b948-e0c8d71b9779"
      },
      "source": [
        "def label_to_count(labels):\n",
        "\n",
        "    label_to_count_dict = {}\n",
        "    for label in labels:\n",
        "        if label not in label_to_count_dict:\n",
        "            label_to_count_dict[label] = 0\n",
        "        label_to_count_dict[label] += 1\n",
        "    return label_to_count_dict\n",
        "\n",
        "\n",
        "def prepare_data(seqs):\n",
        "    \n",
        "    max_len = 0\n",
        "    \n",
        "    # build up a voc2ind (letters:token)\n",
        "    # based on ATGC and include padding and unknown tokens\n",
        "    voc2ind = {voc:ind for ind,voc in enumerate(['<pad>', '<unk>', 'A', 'T', 'C', 'G'])}\n",
        "    \n",
        "    i = len(voc2ind)\n",
        "    \n",
        "    # tokenize the sequences\n",
        "    tokenized_seqs = []\n",
        "    for seq in seqs:\n",
        "        tokenized_seq = []\n",
        "        for e in seq:\n",
        "            # make sure the sequence is upper case, a == A\n",
        "            # seq = seq.upper()\n",
        "            # if we haven't seen this letter before, add to the corupus\n",
        "            if not e in voc2ind:\n",
        "                voc2ind[e] = i\n",
        "                i += 1\n",
        "            tokenized_seq.append(voc2ind[e])\n",
        "        tokenized_seqs.append(tokenized_seq)\n",
        "        \n",
        "    return tokenized_seqs, voc2ind\n",
        "        \n",
        "res = prepare_data(['ATCG', 'TAGA', 'APO'])\n",
        "print(res)\n",
        "assert(res[0] == [[2, 3, 4, 5], [3, 2, 5, 2], [2, 6, 7]]), res[0]\n",
        "\n",
        "\n",
        "def prepare_labels(labels):\n",
        "    \n",
        "    tokenized_labels = []\n",
        "    label2token = {}\n",
        "    i = 0\n",
        "    for label in labels:\n",
        "        if not label in label2token:\n",
        "            label2token[label] = i\n",
        "            i += 1\n",
        "        tokenized_labels.append(label2token[label])\n",
        "    return tokenized_labels, label2token\n",
        "\n",
        "\n",
        "def pad(tokenized_seqs, voc2ind):\n",
        "    \n",
        "    padded_seqs = []\n",
        "    \n",
        "    # find max sequence length\n",
        "    max_len = 0\n",
        "    for seq in tokenized_seqs:\n",
        "        max_len = max(len(seq), max_len)\n",
        "    \n",
        "    # add padding so sequences are max_length\n",
        "    for seq in tokenized_seqs:\n",
        "        padded_seq = seq + [voc2ind['<pad>']] * (max_len - len(seq))\n",
        "        padded_seqs.append(padded_seq)\n",
        "        \n",
        "    return np.array(padded_seqs, dtype=np.float32)\n",
        "\n",
        "\n",
        "def data_loader(train_inputs, val_inputs, train_labels, val_labels,\n",
        "                batch_size=50):\n",
        "\n",
        "    # Convert data type to torch.Tensor\n",
        "    train_inputs, val_inputs, train_labels, val_labels =\\\n",
        "    tuple(torch.tensor(data) for data in\n",
        "          [train_inputs, val_inputs, train_labels, val_labels])\n",
        "\n",
        "    # Create DataLoader for training data\n",
        "    train_data = TensorDataset(train_inputs, train_labels)\n",
        "    train_sampler = RandomSampler(train_data)\n",
        "    train_dataloader = DataLoader(train_data, sampler=train_sampler, batch_size=batch_size)\n",
        "\n",
        "    # Create DataLoader for validation data\n",
        "    val_data = TensorDataset(val_inputs, val_labels)\n",
        "    val_sampler = SequentialSampler(val_data)\n",
        "    val_dataloader = DataLoader(val_data, sampler=val_sampler, batch_size=batch_size)\n",
        "\n",
        "    return train_dataloader, val_dataloader"
      ],
      "execution_count": null,
      "outputs": [
        {
          "output_type": "stream",
          "name": "stdout",
          "text": [
            "([[2, 3, 4, 5], [3, 2, 5, 2], [2, 6, 7]], {'<pad>': 0, '<unk>': 1, 'A': 2, 'T': 3, 'C': 4, 'G': 5, 'P': 6, 'O': 7})\n"
          ]
        }
      ]
    },
    {
      "cell_type": "code",
      "metadata": {
        "id": "AD0IQU5LLp1m"
      },
      "source": [
        "def train(net, dataloader, epochs=1, lr=0.01, momentum=0.9, decay=0.0, verbose=1):\n",
        "  \n",
        "  net.to(device)\n",
        "  losses_per_epoch = []\n",
        "  criterion = nn.CrossEntropyLoss()\n",
        "  optimizer = optim.SGD(net.parameters(), lr=lr, momentum=momentum, weight_decay=decay)\n",
        "  for epoch in range(epochs):\n",
        "    sum_loss = 0.0\n",
        "    losses = []\n",
        "    for i, batch in enumerate(dataloader, 0):\n",
        "        # get the inputs; data is a list of [inputs, labels]\n",
        "        inputs, labels = batch[0].to(device), batch[1].to(device)\n",
        "\n",
        "        # zero the parameter gradients\n",
        "        optimizer.zero_grad()\n",
        "\n",
        "        # forward + backward + optimize \n",
        "        outputs = net(inputs)\n",
        "        loss = criterion(outputs, labels)\n",
        "        loss.backward()\n",
        "        optimizer.step()\n",
        "\n",
        "        # print statistics\n",
        "        losses.append(loss.item())\n",
        "        sum_loss += loss.item()\n",
        "        if i % 100 == 99:    # print every 100 mini-batches\n",
        "            if verbose:\n",
        "              print('[%d, %5d] loss: %.3f' %\n",
        "                  (epoch + 1, i + 1, sum_loss / 100))\n",
        "            sum_loss = 0.0\n",
        "    # print(len(losses))\n",
        "    losses_per_epoch.append(np.mean(losses))\n",
        "  return losses_per_epoch"
      ],
      "execution_count": null,
      "outputs": []
    },
    {
      "cell_type": "code",
      "metadata": {
        "id": "0hY5-JvaLJUi"
      },
      "source": [
        "def accuracy(net, dataloader):\n",
        "    \n",
        "    correct = 0\n",
        "    total = 0\n",
        "    with torch.no_grad():\n",
        "        for batch in dataloader:\n",
        "            input, labels = batch[0].to(device), batch[1].to(device)\n",
        "            outputs = net(input)\n",
        "            _, predicted = torch.max(outputs.data, 1)\n",
        "            total += labels.size(0)\n",
        "            correct += (predicted == labels).sum().item()\n",
        "    return correct/total, correct, total\n",
        "\n",
        "def print_eval(net, train_dataloader, test_dataloader):\n",
        "    \n",
        "    train_acc = accuracy(net, train_dataloader)\n",
        "    test_acc = accuracy(net, test_dataloader)\n",
        "    \n",
        "\n",
        "    print(\"Train accuracy: \" + str(train_acc[0]) + \"\\t(\" + str(train_acc[1]) + \"/\" + str(train_acc[2]) + \")\")\n",
        "    print(\"Test accuracy: \" + str(test_acc[0]) + \"\\t(\" + str(test_acc[1]) + \"/\" + str(test_acc[2]) + \")\")\n",
        "          \n",
        "    return train_acc, test_acc\n",
        "\n",
        "def plot_losses(losses, smooth_val = None, title = \"\"):\n",
        "    \n",
        "    # loss = np.mean(losses, axis = 1)\n",
        "    epochs = [i for i in range(1, len(losses) + 1)]\n",
        "    if smooth_val is not None:\n",
        "        lossses = smooth(losses, smooth_val)\n",
        "    plt.plot(epochs, losses, marker=\"o\", linestyle=\"dashed\")\n",
        "    plt.xlabel(\"Epoch\")\n",
        "    plt.ylabel(\"Loss\")\n",
        "    plt.title(title)\n",
        "    \n",
        "\n",
        "def smooth(x, size):\n",
        "    \n",
        "    return np.convolve(x, np.ones(size)/size, mode='same')\n",
        "\n"
      ],
      "execution_count": null,
      "outputs": []
    },
    {
      "cell_type": "code",
      "source": [
        "import numpy as np\n",
        "import matplotlib.pyplot as plt\n",
        "import pandas as pd"
      ],
      "metadata": {
        "id": "M1H-vXPK-LHf"
      },
      "execution_count": null,
      "outputs": []
    },
    {
      "cell_type": "code",
      "source": [
        "dataset = pd.read_csv('Dataset.csv')\n",
        "seq = dataset.iloc[:,:-1].values\n",
        "labels = dataset.iloc[:,-1].values"
      ],
      "metadata": {
        "id": "RzjGH-F8-VGX"
      },
      "execution_count": null,
      "outputs": []
    },
    {
      "cell_type": "code",
      "source": [
        "print(seq)"
      ],
      "metadata": {
        "id": "8b7e2qyu-YpA"
      },
      "execution_count": null,
      "outputs": []
    },
    {
      "cell_type": "code",
      "source": [
        "print(labels)"
      ],
      "metadata": {
        "colab": {
          "base_uri": "https://localhost:8080/"
        },
        "id": "7Ov9zH-3-bYH",
        "outputId": "0eb7e501-2669-4917-ab0e-8c8875697dd4"
      },
      "execution_count": null,
      "outputs": [
        {
          "output_type": "stream",
          "name": "stdout",
          "text": [
            "['Kapha' 'Kapha' 'Kapha' ... 'Pitta' 'Pitta' 'Pitta']\n"
          ]
        }
      ]
    },
    {
      "cell_type": "code",
      "source": [
        "tokenized_seqs, voc2ind = prepare_data(seq)"
      ],
      "metadata": {
        "id": "3DnMRizk-6oh"
      },
      "execution_count": null,
      "outputs": []
    },
    {
      "cell_type": "code",
      "source": [
        "tokenized_seqs = pad(tokenized_seqs, voc2ind)"
      ],
      "metadata": {
        "id": "qQzfsEDd_eTP"
      },
      "execution_count": null,
      "outputs": []
    },
    {
      "cell_type": "code",
      "source": [
        "tokenized_labels, label2token = prepare_labels(labels)"
      ],
      "metadata": {
        "id": "mr4z5XwSADdG"
      },
      "execution_count": null,
      "outputs": []
    },
    {
      "cell_type": "code",
      "source": [
        "print(\"\\n\", tokenized_seqs, \"\\n\\n\", voc2ind, \"\\n\\n\", label_to_count(labels))"
      ],
      "metadata": {
        "id": "DZdH8GMTAPRY"
      },
      "execution_count": null,
      "outputs": []
    },
    {
      "cell_type": "code",
      "source": [
        "train_inputs, test_inputs, train_labels, test_labels = train_test_split(\n",
        "    tokenized_seqs, tokenized_labels, test_size=0.1, random_state=42)"
      ],
      "metadata": {
        "id": "npsC6xbsASPY"
      },
      "execution_count": null,
      "outputs": []
    },
    {
      "cell_type": "code",
      "source": [
        "train_dataloader, test_dataloader = data_loader(train_inputs, test_inputs, train_labels, test_labels, batch_size=50)"
      ],
      "metadata": {
        "id": "5SjF6WjSCO7g"
      },
      "execution_count": null,
      "outputs": []
    },
    {
      "cell_type": "markdown",
      "source": [
        "### Simple Linear Model"
      ],
      "metadata": {
        "id": "4LUFvAbZboHe"
      }
    },
    {
      "cell_type": "code",
      "metadata": {
        "id": "0ki7_-BPLJx6",
        "colab": {
          "base_uri": "https://localhost:8080/",
          "height": 347
        },
        "outputId": "de618614-d1c4-4413-9c81-9f858e8e61a9"
      },
      "source": [
        "FEATURE_SIZE = tokenized_seqs.shape[1]\n",
        "\n",
        "class SimpleNet(nn.Module):\n",
        "    def __init__(self, vocab_size, feature_size, num_classes=3):\n",
        "        super(SimpleNet, self).__init__()\n",
        "       \n",
        "        self.vocab_size = vocab_size\n",
        "        # embeded_dim: Dimension of word vectors.\n",
        "        self.feature_size = feature_size\n",
        "\n",
        "        self.encoder = nn.Embedding(self.vocab_size, self.feature_size)\n",
        "\n",
        "        self.fc1 = nn.Linear(feature_size, 1000)\n",
        "        self.fc2 = nn.Linear(1000, num_classes)\n",
        "\n",
        "    def forward(self, x):\n",
        "        x = torch.flatten(x, 1)\n",
        "        x = self.fc1(x)\n",
        "        x = F.relu(x)\n",
        "        x = self.fc2(x)\n",
        "        return x\n",
        "\n",
        "# Creating net and training\n",
        "net = SimpleNet(len(voc2ind), FEATURE_SIZE)\n",
        "losses = train(net, train_dataloader, epochs = 50)\n",
        "\n",
        "# Evaluation\n",
        "plot_losses(losses, title = \"Dataset: Convolutional Network Loss\")\n",
        "print_eval(net, train_dataloader, test_dataloader)\n",
        "print()"
      ],
      "execution_count": null,
      "outputs": [
        {
          "output_type": "stream",
          "name": "stdout",
          "text": [
            "Train accuracy: 0.3386380458919319\t(915/2702)\n",
            "Test accuracy: 0.2857142857142857\t(86/301)\n",
            "\n"
          ]
        },
        {
          "output_type": "display_data",
          "data": {
            "text/plain": [
              "<Figure size 432x288 with 1 Axes>"
            ],
            "image/png": "[encoded data removed]"
          },
          "metadata": {
            "needs_background": "light"
          }
        }
      ]
    },
    {
      "cell_type": "markdown",
      "source": [
        "### Experiments run with the model"
      ],
      "metadata": {
        "id": "rYxQCMG5Wzbm"
      }
    },
    {
      "cell_type": "code",
      "metadata": {
        "id": "v0vcIk8hsK0W",
        "colab": {
          "base_uri": "https://localhost:8080/",
          "height": 384
        },
        "outputId": "5348a434-029c-4a1c-f996-ddda19c5f689"
      },
      "source": [
        "\n",
        "ex = [['in_channels_conv1', 'out_channels_conv1', 'in_channels_conv2', 'out_channels_conv2', 'in_channels_fc1', 'kernel_size', 'stride'],\n",
        "      [60, 40, 20, 40, 40, 3, 3], #1\n",
        "      [60, 240, 120, 480, 480, 3, 3], #2 \n",
        "      [60, 480, 240, 960, 960, 3, 3], #3\n",
        "      [60, 480, 240, 960, 960, 6, 3], #4\n",
        "      [60, 480, 240, 480, 240, 3, 3], #5\n",
        "      [10, 80, 40, 160, 160, 6, 3], #6\n",
        "      [60, 480, 240, 960, 960, 6, 3], #7\n",
        "]\n",
        "i = 5\n",
        "\n",
        "FEATURE_SIZE = ex[i][0]\n",
        "\n",
        "class DSC_by_CNN(nn.Module):\n",
        "    def __init__(self, vocab_size, feature_size, num_classes=3):\n",
        "\n",
        "\n",
        "        super(DSC_by_CNN, self).__init__()\n",
        "       \n",
        "        self.vocab_size = vocab_size\n",
        "        # embeded_dim: Dimension of word vectors.\n",
        "        self.feature_size = feature_size\n",
        "\n",
        "        self.encoder = nn.Embedding(self.vocab_size, self.feature_size)\n",
        "        \n",
        "\n",
        "        self.conv1 = nn.Conv1d(in_channels=ex[i][0],\n",
        "                               out_channels=ex[i][1], \n",
        "                               kernel_size=ex[i][5],\n",
        "                               stride = ex[i][6],\n",
        "                               padding = 1)\n",
        "        self.conv2 = nn.Conv1d(in_channels=ex[i][2],\n",
        "                               out_channels=ex[i][3], \n",
        "                               kernel_size=ex[i][5],\n",
        "                               stride = ex[i][6],\n",
        "                               padding = 1)\n",
        "\n",
        "\n",
        "        # Activation\n",
        "        self.act = nn.ReLU()\n",
        "\n",
        "        # Pooling\n",
        "        self.pool = nn.MaxPool2d(3, 2, 1)\n",
        "\n",
        "        # fully connected layer\n",
        "        self.fc1 = nn.Linear(ex[i][4], 100)\n",
        "\n",
        "        # dropout\n",
        "        self.drop = nn.Dropout(p=0.5)\n",
        "\n",
        "\n",
        "    \n",
        "    def num_flat_features(self, x):\n",
        "        size = x.size()[1:]  # all dimensions except the batch dimension\n",
        "        num_features = 1\n",
        "        for s in size:\n",
        "            num_features *= s\n",
        "        return num_features        \n",
        "\n",
        "\n",
        "    def forward(self, x):\n",
        "       # b_input_ids = torch.tensor(b_input_ids).to(device).long()\n",
        "        x = torch.tensor(x).to(torch.int64)\n",
        "\n",
        "        # Encode. \n",
        "        # Output shape: (b, max_len, embedded_dim)\n",
        "        x = self.encoder(x)\n",
        "\n",
        "        # Output shape: (b, embedded_dim, max_len)\n",
        "        x = x.permute(0, 2, 1)\n",
        "\n",
        "        # convolutional layer 1\n",
        "        x = self.conv1(x)\n",
        "        x = self.act(x)\n",
        "        x = self.pool(x)\n",
        "\n",
        "        # convolutional layer 2\n",
        "        x = self.conv2(x)\n",
        "        x = self.act(x)\n",
        "        x = self.pool(x)\n",
        "\n",
        "        # flattening\n",
        "        x = x.view(-1, self.num_flat_features(x))\n",
        "\n",
        "        # fully linear layer + dropout\n",
        "        x = self.drop(x)\n",
        "        # x = self.softm(x)\n",
        "        x = self.fc1(x)\n",
        "\n",
        "        return x\n",
        "\n",
        "# Creating net and training\n",
        "net = DSC_by_CNN(len(voc2ind), FEATURE_SIZE)\n",
        "losses = train(net, train_dataloader, epochs=50, lr=0.01, decay = ex[i][-3])\n",
        "\n",
        "# Evaluation\n",
        "plot_losses(losses, title = \"Dataset: Convolutional Network Loss\")\n",
        "print_eval(net, train_dataloader, test_dataloader)\n",
        "print()"
      ],
      "execution_count": null,
      "outputs": [
        {
          "output_type": "stream",
          "name": "stderr",
          "text": [
            "/usr/local/lib/python3.7/dist-packages/ipykernel_launcher.py:63: UserWarning: To copy construct from a tensor, it is recommended to use sourceTensor.clone().detach() or sourceTensor.clone().detach().requires_grad_(True), rather than torch.tensor(sourceTensor).\n"
          ]
        },
        {
          "output_type": "stream",
          "name": "stdout",
          "text": [
            "Train accuracy: 0.3386380458919319\t(915/2702)\n",
            "Test accuracy: 0.2857142857142857\t(86/301)\n",
            "\n"
          ]
        },
        {
          "output_type": "display_data",
          "data": {
            "text/plain": [
              "<Figure size 432x288 with 1 Axes>"
            ],
            "image/png": "[encoded data removed]"
          },
          "metadata": {
            "needs_background": "light"
          }
        }
      ]
    },
    {
      "cell_type": "markdown",
      "metadata": {
        "id": "Iw6sdN7aIPmO"
      },
      "source": [
        "### Convolutional Model with 1D Max Pooling"
      ]
    },
    {
      "cell_type": "code",
      "metadata": {
        "id": "84U884sSD8z7",
        "colab": {
          "base_uri": "https://localhost:8080/",
          "height": 384
        },
        "outputId": "3d195eb4-64c1-4b82-d75f-3fb25ee97222"
      },
      "source": [
        "\n",
        "ex = [['in_channels_conv1', 'out_channels_conv1', 'in_channels_conv2', 'out_channels_conv2', 'in_channels_fc1', \n",
        "       'kernel_size_conv1', 'stride_conv1', 'kenrnel_size_conv2', 'kernel_size_conv1'],\n",
        "      [60, 480, 480, 1920, 1920, 3, 3, 3, 3], #1\n",
        "]\n",
        "i = 1\n",
        "\n",
        "FEATURE_SIZE = ex[i][0]\n",
        "\n",
        "class MP1_DSC_by_CNN(nn.Module):\n",
        "    def __init__(self, vocab_size, feature_size, num_classes=2):\n",
        "\n",
        "\n",
        "        super(MP1_DSC_by_CNN, self).__init__()\n",
        "        \n",
        "        self.vocab_size = vocab_size\n",
        "        # embeded_dim: Dimension of word vectors.\n",
        "        self.feature_size = feature_size\n",
        "\n",
        "        self.encoder = nn.Embedding(self.vocab_size, self.feature_size)\n",
        "        \n",
        "\n",
        "        self.conv1 = nn.Conv1d(in_channels=ex[i][0],\n",
        "                               out_channels=ex[i][1], \n",
        "                               kernel_size=ex[i][5],\n",
        "                               stride = ex[i][6],\n",
        "                               padding = 1)\n",
        "        self.conv2 = nn.Conv1d(in_channels=ex[i][2],\n",
        "                               out_channels=ex[i][3], \n",
        "                               kernel_size=ex[i][7],\n",
        "                               stride = ex[i][8],\n",
        "                               padding = 1)\n",
        "\n",
        "\n",
        "        # Activation\n",
        "        self.act = nn.ReLU()\n",
        "\n",
        "        # Pooling\n",
        "        self.pool = nn.MaxPool1d(3, 2, 1)\n",
        "\n",
        "        # fully connected layer\n",
        "        self.fc1 = nn.Linear(ex[i][4], 100)\n",
        "\n",
        "        # dropout\n",
        "        self.drop = nn.Dropout(p=0.5)\n",
        "\n",
        "        # softmax\n",
        "        self.softm = nn.Softmax()\n",
        "\n",
        "\n",
        "    \n",
        "    def num_flat_features(self, x):\n",
        "        size = x.size()[1:]  # all dimensions except the batch dimension\n",
        "        num_features = 1\n",
        "        for s in size:\n",
        "            num_features *= s\n",
        "        return num_features        \n",
        "\n",
        "\n",
        "    def forward(self, x):\n",
        "        \n",
        "        # b_input_ids = torch.tensor(b_input_ids).to(device).long()\n",
        "        x = torch.tensor(x).to(torch.int64)\n",
        "\n",
        "        # Encode. \n",
        "        # Output shape: (b, max_len, embedded_dim)\n",
        "        x = self.encoder(x)\n",
        "\n",
        "        \n",
        "        # x = torch.flatten(x, 1)\n",
        "\n",
        "       \n",
        "        # Output shape: (b, embedded_dim, max_len)\n",
        "        x = x.permute(0, 2, 1)\n",
        "\n",
        "        # convolutional layer 1\n",
        "        x = self.conv1(x)\n",
        "        x = self.act(x)\n",
        "        x = self.pool(x)\n",
        "\n",
        "        # convolutional layer 2\n",
        "        x = self.conv2(x)\n",
        "        x = self.act(x)\n",
        "        x = self.pool(x)\n",
        "\n",
        "        \n",
        "        x = x.view(-1, self.num_flat_features(x))\n",
        "\n",
        "       \n",
        "        # print(x.shape)\n",
        "\n",
        "        # fully linear layer + dropout\n",
        "        x = self.drop(x)\n",
        "        # x = self.softm(x)\n",
        "        x = self.fc1(x)\n",
        "\n",
        "        return x\n",
        "\n",
        "# Creating net and training\n",
        "net = MP1_DSC_by_CNN(len(voc2ind), FEATURE_SIZE)\n",
        "losses = train(net, train_dataloader, epochs = 20, decay = ex[i][-3], lr=ex[i][-4], momentum=ex[i][-5])\n",
        "\n",
        "# Evaluation\n",
        "plot_losses(losses, title = \"Dataset: Convolutional Network Loss\")\n",
        "print_eval(net, train_dataloader, test_dataloader)\n",
        "print()"
      ],
      "execution_count": null,
      "outputs": [
        {
          "output_type": "stream",
          "name": "stderr",
          "text": [
            "/usr/local/lib/python3.7/dist-packages/ipykernel_launcher.py:62: UserWarning: To copy construct from a tensor, it is recommended to use sourceTensor.clone().detach() or sourceTensor.clone().detach().requires_grad_(True), rather than torch.tensor(sourceTensor).\n"
          ]
        },
        {
          "output_type": "stream",
          "name": "stdout",
          "text": [
            "Train accuracy: 0.32827535159141374\t(887/2702)\n",
            "Test accuracy: 0.3787375415282392\t(114/301)\n",
            "\n"
          ]
        },
        {
          "output_type": "display_data",
          "data": {
            "text/plain": [
              "<Figure size 432x288 with 1 Axes>"
            ],
            "image/png": "[encoded data removed]"
          },
          "metadata": {
            "needs_background": "light"
          }
        }
      ]
    },
    {
      "cell_type": "markdown",
      "metadata": {
        "id": "wTEstdzv4-un"
      },
      "source": [
        "### Convolutional Model with 2D Max Pooling"
      ]
    },
    {
      "cell_type": "code",
      "metadata": {
        "id": "v-rJ8Pkz6DE5",
        "colab": {
          "base_uri": "https://localhost:8080/",
          "height": 384
        },
        "outputId": "0099cda7-fcb3-4ed9-f45f-69d78cd2398a"
      },
      "source": [
        "\n",
        "ex = [['in_channels_conv1', 'out_channels_conv1', 'in_channels_conv2', 'out_channels_conv2', 'in_channels_fc1', \n",
        "       'kernel_size_conv1', 'stride_conv1', 'kenrnel_size_conv2', 'kernel_size_conv1'\n",
        "       ],\n",
        "      [2, 100, 50, 2800, 1400, 3, 3, 3, 3], \n",
        "]\n",
        "i = 1\n",
        "\n",
        "FEATURE_SIZE = ex[i][0]\n",
        "\n",
        "class MP2_DSC_by_CNN(nn.Module):\n",
        "    def __init__(self, vocab_size, feature_size, num_classes=2):\n",
        "\n",
        "\n",
        "        super(MP2_DSC_by_CNN, self).__init__()\n",
        "        # UM?\n",
        "        self.vocab_size = vocab_size\n",
        "        # embeded_dim: Dimension of word vectors.\n",
        "        self.feature_size = feature_size\n",
        "\n",
        "        self.encoder = nn.Embedding(self.vocab_size, self.feature_size)\n",
        "        \n",
        "\n",
        "        self.conv1 = nn.Conv1d(in_channels=ex[i][0],\n",
        "                               out_channels=ex[i][1], \n",
        "                               kernel_size=ex[i][5],\n",
        "                               stride = ex[i][6],\n",
        "                               padding = 1)\n",
        "        self.conv2 = nn.Conv1d(in_channels=ex[i][2],\n",
        "                               out_channels=ex[i][3], \n",
        "                               kernel_size=ex[i][7],\n",
        "                               stride = ex[i][8],\n",
        "                               padding = 1)\n",
        "\n",
        "\n",
        "        # Activation\n",
        "        self.act = nn.ReLU()\n",
        "\n",
        "        # Pooling\n",
        "        self.pool = nn.MaxPool2d(3, 2, 1)\n",
        "\n",
        "        # fully connected layer\n",
        "        self.fc1 = nn.Linear(ex[i][4], 100)\n",
        "        self.fc2 = nn.Linear(100, num_classes)\n",
        "\n",
        "        # dropout\n",
        "        self.drop = nn.Dropout(p=0.5)\n",
        "\n",
        "        # softmax\n",
        "        self.softm = nn.Softmax()\n",
        "\n",
        "\n",
        "\n",
        "    def num_flat_features(self, x):\n",
        "        size = x.size()[1:]  # all dimensions except the batch dimension\n",
        "        num_features = 1\n",
        "        for s in size:\n",
        "            num_features *= s\n",
        "        return num_features        \n",
        "\n",
        "\n",
        "    def forward(self, x):\n",
        "       \n",
        "        # b_input_ids = torch.tensor(b_input_ids).to(device).long()\n",
        "        x = torch.tensor(x).to(torch.int64)\n",
        "\n",
        "        # Encode. \n",
        "        # Output shape: (b, max_len, embedded_dim)\n",
        "        x = self.encoder(x)\n",
        "\n",
        "        # idk flatten it?\n",
        "        # x = torch.flatten(x, 1)\n",
        "\n",
        "       \n",
        "        # Output shape: (b, embedded_dim, max_len)\n",
        "        x = x.permute(0, 2, 1)\n",
        "\n",
        "        # convolutional layer 1\n",
        "        x = self.conv1(x)\n",
        "        x = self.act(x)\n",
        "        x = self.pool(x)\n",
        "\n",
        "        # convolutional layer 2\n",
        "        x = self.conv2(x)\n",
        "        x = self.act(x)\n",
        "        x = self.pool(x)\n",
        "\n",
        "        \n",
        "        x = x.view(-1, self.num_flat_features(x))\n",
        "\n",
        "       \n",
        "        # print(x.shape)\n",
        "\n",
        "        # fully linear layer + dropout\n",
        "        x = self.drop(x)\n",
        "        # x = self.softm(x)\n",
        "        x = self.fc1(x)\n",
        "        # x = self.fc2(x)\n",
        "\n",
        "        return x\n",
        "\n",
        "# Creating net and training\n",
        "net = MP2_DSC_by_CNN(len(voc2ind), FEATURE_SIZE)\n",
        "losses = train(net, train_dataloader, epochs = 150, decay = ex[i][-3], lr=ex[i][-4], momentum=ex[i][-5])\n",
        "\n",
        "# Evaluation\n",
        "plot_losses(losses, title = \"Dataset: Convolutional Network Loss\")\n",
        "print_eval(net, train_dataloader, test_dataloader)\n",
        "print()"
      ],
      "execution_count": null,
      "outputs": [
        {
          "output_type": "stream",
          "name": "stderr",
          "text": [
            "/usr/local/lib/python3.7/dist-packages/ipykernel_launcher.py:64: UserWarning: To copy construct from a tensor, it is recommended to use sourceTensor.clone().detach() or sourceTensor.clone().detach().requires_grad_(True), rather than torch.tensor(sourceTensor).\n"
          ]
        },
        {
          "output_type": "stream",
          "name": "stdout",
          "text": [
            "Train accuracy: 0.32827535159141374\t(887/2702)\n",
            "Test accuracy: 0.3787375415282392\t(114/301)\n",
            "\n"
          ]
        },
        {
          "output_type": "display_data",
          "data": {
            "text/plain": [
              "<Figure size 432x288 with 1 Axes>"
            ],
            "image/png": "[encoded data removed]"
          },
          "metadata": {
            "needs_background": "light"
          }
        }
      ]
    }
  ]
}