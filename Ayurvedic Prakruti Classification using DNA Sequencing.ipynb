{
 "cells": [
  {
   "cell_type": "markdown",
   "id": "954db54b",
   "metadata": {},
   "source": [
    "# Ayurvedic Prakruti Classification using DNA Sequencing with Machine Learning"
   ]
  },
  {
   "cell_type": "code",
   "execution_count": 1,
   "id": "78adf31f",
   "metadata": {},
   "outputs": [],
   "source": [
    "import numpy as np\n",
    "import matplotlib.pyplot as plt\n",
    "import pandas as pd\n",
    "%matplotlib inline"
   ]
  },
  {
   "cell_type": "code",
   "execution_count": 2,
   "id": "f3f00172",
   "metadata": {},
   "outputs": [],
   "source": [
    "dataset = pd.read_csv('Dataset.csv')\n",
    "x = dataset.iloc[:,:-1].values\n",
    "y = dataset.iloc[:,-1].values"
   ]
  },
  {
   "cell_type": "code",
   "execution_count": 3,
   "id": "4cffebd0",
   "metadata": {
    "scrolled": false
   },
   "outputs": [
    {
     "name": "stdout",
     "output_type": "stream",
     "text": [
      "[['GGCGAACGCTGGCGGCGCGCCTAACACATGCAAGTCGAACGAGAGATGAAGAGCTTGCTCTTCAAATCGAGTGGCGAACGGGTGAGTAACGCGTGAGGAACCTGCCTCAAAGAGGGGGAGCAACAGTTGGAAACGACTGCTAATACCGCATAAGCCCACAGCTCGGCATCGAGCAGAGGGAAAAGGAGTAATCCGCTTTGAGATGGCCTCGCGTCCGATTAGCTAGTTGGTGAGGTAACGGCCCACTAAGGCGACGATCGGTAGCCGGACTGAGAGGTTGAACGGCCACATTGGGACCGAGACACGGCCCAGACTCCTACGGGAGGCAGCAGTGGGGAATATTGCACAATGGGGGAAACCCGTAGCATGCAGCGACGCCGCCGTGGAGGAAGAAGGTCTTCGGATTGTAAAACTCCTGTTGTTGAGGAAGATAATGACGGTACTCAACAAGGAAGTGACGGCTAACTACGTGCCAGCAGCCGCGGTAAAAACGTAGGTCACAAGCGTTGTCCGGAATTACTGGGTGTAAAGGGAGCGCAGGCGGGAGAACAAGATGGAAGTGAAATCCATGGGCTCAACTCATGAACTGCTTTCAAAACTGTTTTTCTTGAGTAGTGCAGAGGTAGGCGGAATTCCCGGTGTAGCGGTGGAATGCGTAGATATCGGGAGGAACACCAGTGGCGAAGGCGGCCTACTGGGCACCAACTGACGCTGAGGCTCGAAAGTGTGGGTAGCAAACAGGATTAGATACCCTGGTAGT']\n",
      " ['GATGAACGCTGGCGGCGTGCCTAACACATGCAAGTCGAGCGATTCTCTTCGGAGAAGAGCGGCGGACGGGTGAGTAACGCGTGGGTAACCTGCCCTGTACACACGGATAACATACCGAAAGGTATGCTAATACGAGATAATATGCTTTTATCGCATGGTAGAAGTATCAAAGCTTTTGCGGTACAGGATGGACCCGCGTCTGATTAGCTAGTTGGTAAGGTAACGGCTTACCAAGGCGACGATCAGTAGCCGACCTGAGAGGGTGATCGGCCACATTGGAACTGAGACACGGTCCAAACTCCTACGGGAGGCAGCAGTGGGGAATATTGCACAATGGGCGAAAGCCTGATGCAGCAACGCCGCGTGAGCGATGAAGGCCTTCGGGTCGTAAAGCTCTGTCCTCAAGGAAGATAATGACGGTACTTGAGGAGGAAGCCCCGGCTAACTACGTGCCAGCAGCCGCGGTAATACGTAGGGGGCTAGCGTTATCCGGAATTACTGGGCGTAAAGGGTGCGTAGGTGGTTTCTTAAGTCAGAGGTGAAAGGCTACGGCTCAACCGTAGTAAGCCTTTGAAACTGGGAAACTTGAGTGCAGGAGAGGAGAGTGGAATTCCTAGTGTAGCGGTGAAATGCGTAGATATTAGGAGGAACACCAGTTGCGAAGGCGGCTCTCTGGACTGTAACTGACACTGAGGCAACGAAAGCGTGGGGAGCAAACAGGATTAGATACCCCTTGGGTTAGT']\n",
      " ['GATGAACGCTGGCGGCGTGCCTAACACATGCAAGTCGAGCGATTCTCTTCGGAGAAGAGCGGCGGACGGGTGAGTAACGCGTGGGTAACCTGCCCTGTACACACGGATAACATACCGAAAGGTATGCTAATACGAGATAATATGCTTTTATCGCATGGTAGAAGTATCAAAGCTTTTGCGGTACAGGATGGACCCGCGTCTGATTAGCTAGTTGGTAAGGTAACGGCTTACCAAGGCGACGATCAGTAGCCGACCTGAGAGGGTGATCGGCCACATTGGAACTGAAACACGGTCCAAACTCCTACGGGAGGCAGCAGTGGGGAATATTGCACAATGGGCGAAAGCCTGATGCAGCAACGCCGCGTGAGCGATGAAGGCCTTCGGGTCGTAAAGCTCTGTCCTCAAGGAAGATAATGACGGTACTTGAGGAGGAAGCCCCGGCTAACTACGTGCCAGCAGCCGCGGTAATACGTAGGGGGCTAGCGTTATCCGGAATTACTGGGCGTAAAGGGTGCGTAGGTGGTTTCTTAAGTCAGAGGTGAAAGGCTACGGCTCAACCGTAGTAAGCCTTTGAAACTGGGAAACTTGAGTGCAGGAGAGGAGAGTGGAATTCCTAGTGTAGCGGTGAAATGCGTAGATATTAGGAGGAACACCAGTTGCGAAGGCGGCTCTCCGGACTGTAACTGACACTGAGGCACGAAAGCGTGGGGAGCAAACAGGATTAGATCCCTGGTAGT']\n",
      " ...\n",
      " ['GATGAACGCTAGCTACAGGCTTAACACATGCAAGTCGAGGGGCAGCGATGAAGAAAGCTTGCTTTCTTCAGGCGGCGACCGGCGCACGGGTGAGCAACGCGTATCGAACCTGCCTCATACTCAGGAATAGCCTTGCGAAAGTAAGATTAATGCCCGATGTTATTAGGATATCACATGATGTTTTAATTAAAGATTTATCGGTATGAGATGGCGATGCGTCCCATTAGCTTGTTGGCGGGGTAACGGCCCACCAAGGCATCGATGGGTAGGGGTTCTGAGAGGAAGGTCCCCACATGACTGAGACACGTCCGCAAACTCCTACGGGAGGCAGCAGTGAGGAATATTGGTCAATGGACGCAGGTCTGAACCAGCCAAGTAGCGTGCAGGAAGACGGCCCTCTGGGTTGTAAACTGCTTTTAGTTGGGAATAAAGTGCACCACGAGTGGTGTTTTGTATGTACCATCAGAAAAAGGACCGGCTAATTCCGTGCCAGCAGCCGCGGTAATACGGAAGGTCCAGGCGTTATCCGGATTTATTGGGTTTAAAGGGAGCGCAGGCGGACCTTCAAGCCAGCTGTGAAATACGGCGGCTCAACGTCGAACTGCAGTTGATACTGGAGGTCTTGAGTGCACACAGGGATACTGGAATTCATGGTGTAGCGGTGAAATGCTCAGATATCATGAAGAACTCCGATCGCGAAGGCAGGTATCCGGGGTGCAACTGACGCTGAGGCTCGAAAGTGCGGGTATCGAACAGGATTAGGATACCCTGGTAGTCCCTGAGACCTGCC']\n",
      " ['GATGAACGCTAGCTACAGGCTTAACACATGCAAGTCGAGGGGCAGCGATGAAGAAAGCTTGCTTTCTTCAGGCGGCGACCGGCGCACGGGTGAGTAACGCGTATCGAACCTGCCTCATACTCAGGAATAGCCTTGCGAAAGTAAGATTAATGCCCGATGTTATTAGGATATCACATGATGTTCTAATTAAAGATTTATCGGTATGAGATGGCGATGCGTCCCATTAGCTTGTTGGCGGGGTAACGGCCCACCAAGGCATCGATGGGTAGGGGTTCTGAGAGGAAGGTCCCCACATGACTGAGACACGTCCGCAAACTCCTACGGGTGGCAGCAGTGAGGAATATTGGTCAATGGTCGCAAGTCTGAACCAGCCAAGTAGCGTGCAGGAAGACGGCCCTCTGGGTTGTAAACTGCTTTTAGTTGGGAATAAAGTGCATCACGTGTGATGTTTTTGTATGTACCATCAGAAAAAGGACCGGCTAATTCCGTGCCAGCAGCCGCGGTAATACGGAAGGTCCAGGCGTTATCCGGATTTATTGGGTTTAAAGGGAGCGCAGGCGGACCTTTAAGTCAGCTGTGAAATACGGCGGCTCAACCGTCGAATGCAGTTGATACTGGAGGCCTTGAGTGCACACAGGGATACTGGAATTCATGGTGTAGCGGTGAAATGCTCAGATATCATGAAGAACTCCGATCGCGAAGGCAGGTATCCGGGGTGCAACTGACGCTGAGGCTCGAAAGTGCGGGTATCAAACAGGATTAGATACCCTGGTAGT']\n",
      " ['GATGAACGCTAGCTACAGGCTTAACACATGCAAGTCGAGGGGAAACGATATTGGAAGCTTGCTTCCGATAGGCGTCGACCGGCGCACGGGTGAGTAACGCGTATCCAACCTGCCCATCACTTGGGGATAACCTTGCGAAAGTAAGACTAATACCCAATGACGTCTCTAGAAGACATCTGAAGGAGATTAAAGATTTATCGGTGATGGATGGGGATGCGTCTGATTAGCTTGTTGGCGGGGTAACGGCCCACCAAGGCGACGATCAGTAGGGGTTCTGAGAGGAAGGTCCCCACATGACTGAGACACGTCCGCAAACTCCTACGGGAGGCAGCAGTGAGGAATATTGGTCAATGGACGAGAGTCTGAACCAGCCAAGTAGCGTGCAGGATGACGGCCCTATGGGTTGTAAACTGCTTTTATAAGGGAATAAAGTGGGAGTCGTGACTCCTTTTTGCATGTACCTTATGAATAAGGACCGGCTAATTCCGTGCCAGCAGCCGCGGTAATACGGAAGGTCCGGGCGTATCCGGATTTATTGGGTTTAAAGGGAGCGTAGGCCGGAGATTAAGCGTGTTGTGAAATGTAGATGCTCAACATCTGCACTGCAGCGCGAACTGGTTTCCTTGAGTACGCACAAAGTGGGCGGAATTCGTGGTGTAGCGGTGAAATGCTTAGATATCACGAAGAACTCCAGATTGCGAAGGCAGCTCACTGGAGCGCAACTGACGCTGAAGCTCGAAAGTGCGGGTATCGAAC']]\n"
     ]
    }
   ],
   "source": [
    "print(x)"
   ]
  },
  {
   "cell_type": "code",
   "execution_count": 4,
   "id": "e2a82099",
   "metadata": {},
   "outputs": [
    {
     "name": "stdout",
     "output_type": "stream",
     "text": [
      "['Kapha' 'Kapha' 'Kapha' ... 'Pitta' 'Pitta' 'Pitta']\n"
     ]
    }
   ],
   "source": [
    "print(y)"
   ]
  },
  {
   "cell_type": "markdown",
   "id": "4517a2fb",
   "metadata": {},
   "source": [
    "# Label Encoding Dependent Variable (Ayurvedic Prakruti)"
   ]
  },
  {
   "cell_type": "code",
   "execution_count": 5,
   "id": "f5ceca47",
   "metadata": {},
   "outputs": [],
   "source": [
    "from sklearn.preprocessing import LabelEncoder\n",
    "le = LabelEncoder()\n",
    "y = le.fit_transform(y)"
   ]
  },
  {
   "cell_type": "code",
   "execution_count": 6,
   "id": "38f612ef",
   "metadata": {
    "scrolled": true
   },
   "outputs": [
    {
     "name": "stdout",
     "output_type": "stream",
     "text": [
      "[0 0 0 ... 1 1 1]\n"
     ]
    }
   ],
   "source": [
    "print(y)"
   ]
  },
  {
   "cell_type": "markdown",
   "id": "40b720b1",
   "metadata": {},
   "source": [
    "# Treating DNA sequence as a \"language\", otherwise known as k-mer counting"
   ]
  },
  {
   "cell_type": "markdown",
   "id": "7f4cb8f3",
   "metadata": {},
   "source": [
    "### A function to collect all possible overlapping k-mers of a specified length from any sequence string. We will basically apply the k-mers to the complete sequences."
   ]
  },
  {
   "cell_type": "code",
   "execution_count": 7,
   "id": "2fffbe08",
   "metadata": {},
   "outputs": [],
   "source": [
    "def getKmers(sequence,size = 6):\n",
    "    return [sequence[x:x+size].lower() for x in range(len(sequence)-size+1)]"
   ]
  },
  {
   "cell_type": "markdown",
   "id": "e6b894dd",
   "metadata": {},
   "source": [
    "## Now we can convert our training data sequences into short overlapping k-mers of length 6"
   ]
  },
  {
   "cell_type": "code",
   "execution_count": 8,
   "id": "02fb6a69",
   "metadata": {},
   "outputs": [],
   "source": [
    "kmerData = []\n",
    "\n",
    "for i in x:\n",
    "    kmerData.append(getKmers(str(i)))"
   ]
  },
  {
   "cell_type": "code",
   "execution_count": 9,
   "id": "34e9962e",
   "metadata": {},
   "outputs": [
    {
     "name": "stdout",
     "output_type": "stream",
     "text": [
      "[\"['gatg\", \"'gatga\", 'gatgaa', 'atgaac', 'tgaacg', 'gaacgc', 'aacgct', 'acgcta', 'cgctag', 'gctagc', 'ctagct', 'tagcta', 'agctac', 'gctaca', 'ctacag', 'tacagg', 'acaggc', 'caggct', 'aggctt', 'ggctta', 'gcttaa', 'cttaac', 'ttaaca', 'taacac', 'aacaca', 'acacat', 'cacatg', 'acatgc', 'catgca', 'atgcaa', 'tgcaag', 'gcaagt', 'caagtc', 'aagtcg', 'agtcga', 'gtcgag', 'tcgagg', 'cgaggg', 'gagggg', 'agggga', 'ggggaa', 'gggaaa', 'ggaaac', 'gaaacg', 'aaacga', 'aacgat', 'acgata', 'cgatag', 'gatagc', 'atagcg', 'tagcga', 'agcgaa', 'gcgaaa', 'cgaaag', 'gaaagc', 'aaagct', 'aagctt', 'agcttg', 'gcttgc', 'cttgct', 'ttgctt', 'tgcttt', 'gctttt', 'cttttt', 'tttttc', 'ttttct', 'tttcta', 'ttctag', 'tctagg', 'ctaggc', 'taggcg', 'aggcgt', 'ggcgtc', 'gcgtcg', 'cgtcga', 'gtcgac', 'tcgacc', 'cgaccg', 'gaccgg', 'accggc', 'ccggcg', 'cggcgc', 'ggcgca', 'gcgcac', 'cgcacg', 'gcacgg', 'cacggg', 'acgggt', 'cgggtg', 'gggtga', 'ggtgag', 'gtgagt', 'tgagta', 'gagtaa', 'agtaac', 'gtaacg', 'taacgc', 'aacgcg', 'acgcgt', 'cgcgta', 'gcgtat', 'cgtatc', 'gtatcc', 'tatcca', 'atccaa', 'tccaac', 'ccaacc', 'caacct', 'aacctg', 'acctgc', 'cctgcc', 'ctgccc', 'tgccca', 'gcccat', 'cccatc', 'ccatca', 'catcac', 'atcact', 'tcactt', 'cacttg', 'acttgg', 'cttggg', 'ttgggg', 'tgggga', 'ggggat', 'gggata', 'ggataa', 'gataac', 'ataacc', 'taacct', 'aacctt', 'accttg', 'ccttgc', 'cttgcg', 'ttgcga', 'tgcgaa', 'gcgaaa', 'cgaaag', 'gaaagt', 'aaagta', 'aagtaa', 'agtaag', 'gtaaga', 'taagac', 'aagact', 'agacta', 'gactaa', 'actaat', 'ctaata', 'taatac', 'aatacc', 'ataccc', 'taccca', 'acccaa', 'cccaat', 'ccaatg', 'caatga', 'aatgac', 'atgacg', 'tgacgt', 'gacgtc', 'acgtcc', 'cgtcca', 'gtccat', 'tccata', 'ccatag', 'cataga', 'atagaa', 'tagaag', 'agaaga', 'gaagac', 'aagaca', 'agacat', 'gacatc', 'acatct', 'catctg', 'atctga', 'tctgaa', 'ctgaaa', 'tgaaat', 'gaaatg', 'aaatgg', 'aatgga', 'atggat', 'tggatt', 'ggatta', 'gattaa', 'attaaa', 'ttaaag', 'taaaga', 'aaagat', 'aagatt', 'agattt', 'gattta', 'atttat', 'tttatc', 'ttatcg', 'tatcgg', 'atcggt', 'tcggtg', 'cggtga', 'ggtgat', 'gtgatg', 'tgatgg', 'gatgga', 'atggat', 'tggatg', 'ggatgg', 'gatggg', 'atgggg', 'tgggga', 'ggggat', 'gggatg', 'ggatgc', 'gatgcg', 'atgcgt', 'tgcgtc', 'gcgtct', 'cgtctg', 'gtctga', 'tctgat', 'ctgatt', 'tgatta', 'gattag', 'attagc', 'ttagct', 'tagctt', 'agcttg', 'gcttgt', 'cttgtt', 'ttgttg', 'tgttgg', 'gttggc', 'ttggcg', 'tggcgg', 'ggcggg', 'gcgggg', 'cggggt', 'ggggta', 'gggtaa', 'ggtaac', 'gtaacg', 'taacgg', 'aacggc', 'acggcc', 'cggccc', 'ggccca', 'gcccac', 'cccacc', 'ccacca', 'caccaa', 'accaag', 'ccaagg', 'caaggc', 'aaggct', 'aggcta', 'ggctac', 'gctacg', 'ctacga', 'tacgat', 'acgatc', 'cgatca', 'gatcag', 'atcagt', 'tcagta', 'cagtag', 'agtagg', 'gtaggg', 'tagggg', 'aggggt', 'ggggtt', 'gggttc', 'ggttct', 'gttctg', 'ttctga', 'tctgag', 'ctgaga', 'tgagag', 'gagagg', 'agagga', 'gaggaa', 'aggaag', 'ggaagg', 'gaaggt', 'aaggtc', 'aggtcc', 'ggtccc', 'gtcccc', 'tcccca', 'ccccac', 'cccaca', 'ccacat', 'cacatg', 'acatga', 'catgac', 'atgact', 'tgactg', 'gactga', 'actgag', 'ctgaga', 'tgagac', 'gagaca', 'agacac', 'gacacg', 'acacgt', 'cacgtc', 'acgtcc', 'cgtccg', 'gtccgc', 'tccgca', 'ccgcaa', 'cgcaaa', 'gcaaac', 'caaact', 'aaactc', 'aactcc', 'actcct', 'ctccta', 'tcctac', 'cctacg', 'ctacgg', 'tacggg', 'acggga', 'cgggag', 'gggagg', 'ggaggc', 'gaggca', 'aggcag', 'ggcagc', 'gcagca', 'cagcag', 'agcagt', 'gcagtg', 'cagtga', 'agtgag', 'gtgagg', 'tgagga', 'gaggaa', 'aggaat', 'ggaata', 'gaatat', 'aatatt', 'atattg', 'tattgg', 'attggt', 'ttggtc', 'tggtca', 'ggtcaa', 'gtcaat', 'tcaatg', 'caatgg', 'aatggg', 'atgggc', 'tgggcg', 'gggcga', 'ggcgag', 'gcgaga', 'cgagag', 'gagagc', 'agagcc', 'gagcct', 'agcctg', 'gcctga', 'cctgaa', 'ctgaac', 'tgaacc', 'gaacca', 'aaccag', 'accagc', 'ccagcc', 'cagcca', 'agccaa', 'gccaag', 'ccaagt', 'caagta', 'aagtag', 'agtagc', 'gtagcg', 'tagcgt', 'agcgtg', 'gcgtgc', 'cgtgca', 'gtgcag', 'tgcagg', 'gcagga', 'caggat', 'aggatg', 'ggatga', 'gatgac', 'atgacg', 'tgacgg', 'gacggc', 'acggcc', 'cggccc', 'ggccct', 'gcccta', 'ccctat', 'cctatg', 'ctatgg', 'tatggg', 'atgggt', 'tgggtt', 'gggttg', 'ggttgt', 'gttgta', 'ttgtaa', 'tgtaaa', 'gtaaac', 'taaact', 'aaactg', 'aactgc', 'actgct', 'ctgctt', 'tgcttt', 'gctttt', 'ctttta', 'ttttat', 'tttata', 'ttataa', 'tataag', 'ataagg', 'taaggg', 'aaggga', 'agggaa', 'gggaat', 'ggaata', 'gaataa', 'aataaa', 'ataaag', 'taaagt', 'aaagtg', 'aagtgg', 'agtggg', 'gtggga', 'tgggag', 'gggagt', 'ggagtc', 'gagtcg', 'agtcgt', 'gtcgtg', 'tcgtga', 'cgtgac', 'gtgact', 'tgactc', 'gactct', 'actctt', 'ctcttt', 'tctttt', 'cttttt', 'tttttg', 'ttttgc', 'tttgca', 'ttgcat', 'tgcatg', 'gcatgt', 'catgta', 'atgtac', 'tgtacc', 'gtacct', 'tacctt', 'acctta', 'ccttat', 'cttatg', 'ttatga', 'tatgaa', 'atgaat', 'tgaata', 'gaataa', 'aataag', 'ataagg', 'taagga', 'aaggac', 'aggacc', 'ggaccg', 'gaccgg', 'accggc', 'ccggct', 'cggcta', 'ggctaa', 'gctaat', 'ctaatt', 'taattc', 'aattcc', 'attccg', 'ttccgt', 'tccgtg', 'ccgtgc', 'cgtgcc', 'gtgcca', 'tgccag', 'gccagc', 'ccagca', 'cagcag', 'agcagc', 'gcagcc', 'cagccg', 'agccgc', 'gccgcg', 'ccgcgg', 'cgcggt', 'gcggta', 'cggtaa', 'ggtaat', 'gtaata', 'taatac', 'aatacg', 'atacgg', 'tacgga', 'acggaa', 'cggaag', 'ggaagg', 'gaaggt', 'aaggtc', 'aggtcc', 'ggtccg', 'gtccgg', 'tccggg', 'ccgggc', 'cgggcg', 'gggcgt', 'ggcgtt', 'gcgtta', 'cgttat', 'gttatc', 'ttatcc', 'tatccg', 'atccgg', 'tccgga', 'ccggat', 'cggatt', 'ggattt', 'gattta', 'atttat', 'tttatt', 'ttattg', 'tattgg', 'attggg', 'ttgggt', 'tgggtt', 'gggttt', 'ggttta', 'gtttaa', 'tttaaa', 'ttaaag', 'taaagg', 'aaaggg', 'aaggga', 'agggag', 'gggagc', 'ggagcg', 'gagcgt', 'agcgta', 'gcgtag', 'cgtagg', 'gtaggc', 'taggcc', 'aggccg', 'ggccgg', 'gccgga', 'ccggag', 'cggaga', 'ggagat', 'gagatt', 'agatta', 'gattaa', 'attaag', 'ttaagc', 'taagcg', 'aagcgt', 'agcgtg', 'gcgtgt', 'cgtgtt', 'gtgttg', 'tgttgt', 'gttgtg', 'ttgtga', 'tgtgaa', 'gtgaaa', 'tgaaat', 'gaaatg', 'aaatgt', 'aatgta', 'atgtag', 'tgtaga', 'gtagat', 'tagatg', 'agatgc', 'gatgct', 'atgctc', 'tgctca', 'gctcaa', 'ctcaac', 'tcaaca', 'caacat', 'aacatc', 'acatct', 'catctg', 'atctgc', 'tctgca', 'ctgcac', 'tgcact', 'gcactg', 'cactgc', 'actgca', 'ctgcag', 'tgcagc', 'gcagcg', 'cagcgc', 'agcgcg', 'gcgcga', 'cgcgaa', 'gcgaac', 'cgaact', 'gaactg', 'aactgg', 'actggt', 'ctggtt', 'tggttt', 'ggtttc', 'gtttcc', 'tttcct', 'ttcctt', 'tccttg', 'ccttga', 'cttgag', 'ttgagt', 'tgagta', 'gagtac', 'agtacg', 'gtacgc', 'tacgca', 'acgcac', 'cgcacg', 'gcacga', 'cacgaa', 'acgaag', 'cgaagt', 'gaagtg', 'aagtgg', 'agtggg', 'gtgggc', 'tgggcg', 'gggcgg', 'ggcgga', 'gcggaa', 'cggaat', 'ggaatt', 'gaattc', 'aattcg', 'attcgt', 'ttcgtg', 'tcgtgg', 'cgtggt', 'gtggtg', 'tggtgt', 'ggtgta', 'gtgtag', 'tgtagc', 'gtagcg', 'tagcgg', 'agcggt', 'gcggtg', 'cggtga', 'ggtgaa', 'gtgaaa', 'tgaaat', 'gaaatg', 'aaatgc', 'aatgct', 'atgctt', 'tgctta', 'gcttag', 'cttaga', 'ttagat', 'tagata', 'agatat', 'gatatc', 'atatca', 'tatcac', 'atcacg', 'tcacga', 'cacgaa', 'acgaag', 'cgaaga', 'gaagaa', 'aagaac', 'agaact', 'gaactc', 'aactcc', 'actccg', 'ctccga', 'tccgat', 'ccgatt', 'cgattg', 'gattgc', 'attgcg', 'ttgcga', 'tgcgaa', 'gcgaag', 'cgaagg', 'gaaggc', 'aaggca', 'aggcag', 'ggcagc', 'gcagct', 'cagctc', 'agctca', 'gctcac', 'ctcact', 'tcactg', 'cactgg', 'actgga', 'ctggag', 'tggagc', 'ggagcg', 'gagcgc', 'agcgca', 'gcgcaa', 'cgcaac', 'gcaact', 'caactg', 'aactga', 'actgac', 'ctgacg', 'tgacgc', 'gacgct', 'acgctg', 'cgctga', 'gctgaa', 'ctgaag', 'tgaagc', 'gaagct', 'aagctc', 'agctcg', 'gctcga', 'ctcgaa', 'tcgaaa', 'cgaaag', 'gaaagt', 'aaagtg', 'aagtgc', 'agtgcg', 'gtgcgg', 'tgcggg', 'gcgggt', 'cgggta', 'gggtat', 'ggtatc', 'gtatcg', 'tatcga', 'atcgaa', 'tcgaac', 'cgaaca', 'gaacag', 'aacagg', 'acagga', 'caggat', 'aggatt', 'ggatta', 'gattag', 'attaga', 'ttagat', 'tagata', 'agatac', 'gatacc', 'ataccc', 'taccct', 'accctg', 'ccctgg', 'cctggt', 'ctggta', 'tggtag', 'ggtagt', \"gtagt'\", \"tagt']\"]\n"
     ]
    }
   ],
   "source": [
    "print(kmerData[111])"
   ]
  },
  {
   "cell_type": "code",
   "execution_count": 10,
   "id": "718c4143",
   "metadata": {},
   "outputs": [],
   "source": [
    "text_data = []\n",
    "\n",
    "for i in range(len(kmerData)):\n",
    "    text_data.append(\"\");\n",
    "    for item in kmerData[i]:\n",
    "        text_data[i] = text_data[i] + ' ' + item\n",
    "    \n",
    "for i in range(len(text_data)):\n",
    "    text_data[i] = text_data[i][9:-8]"
   ]
  },
  {
   "cell_type": "code",
   "execution_count": 11,
   "id": "636c3c6c",
   "metadata": {},
   "outputs": [
    {
     "name": "stderr",
     "output_type": "stream",
     "text": [
      "IOPub data rate exceeded.\n",
      "The notebook server will temporarily stop sending output\n",
      "to the client in order to avoid crashing it.\n",
      "To change this limit, set the config variable\n",
      "`--NotebookApp.iopub_data_rate_limit`.\n",
      "\n",
      "Current values:\n",
      "NotebookApp.iopub_data_rate_limit=1000000.0 (bytes/sec)\n",
      "NotebookApp.rate_limit_window=3.0 (secs)\n",
      "\n"
     ]
    }
   ],
   "source": [
    "print(text_data)"
   ]
  },
  {
   "cell_type": "markdown",
   "id": "c81d5786",
   "metadata": {},
   "source": [
    "## Now we will apply the BAG of WORDS using CountVectorizer using Natural Language Processing"
   ]
  },
  {
   "cell_type": "code",
   "execution_count": 12,
   "id": "45b3806d",
   "metadata": {},
   "outputs": [],
   "source": [
    "from sklearn.feature_extraction.text import CountVectorizer\n",
    "cv = CountVectorizer(ngram_range = (4,4))\n",
    "X = cv.fit_transform(text_data)"
   ]
  },
  {
   "cell_type": "code",
   "execution_count": 13,
   "id": "acb7d8f4",
   "metadata": {},
   "outputs": [
    {
     "name": "stdout",
     "output_type": "stream",
     "text": [
      "(3003, 51057)\n"
     ]
    }
   ],
   "source": [
    "print(X.shape)"
   ]
  },
  {
   "cell_type": "markdown",
   "id": "b3fef6ca",
   "metadata": {},
   "source": [
    "### Checking weather the dataset is balanced or not"
   ]
  },
  {
   "cell_type": "code",
   "execution_count": 14,
   "id": "8ec11a68",
   "metadata": {},
   "outputs": [
    {
     "data": {
      "text/plain": [
       "<AxesSubplot:>"
      ]
     },
     "execution_count": 14,
     "metadata": {},
     "output_type": "execute_result"
    },
    {
     "data": {
      "image/png": "[encoded data removed]",
      "text/plain": [
       "<Figure size 432x288 with 1 Axes>"
      ]
     },
     "metadata": {
      "needs_background": "light"
     },
     "output_type": "display_data"
    }
   ],
   "source": [
    "dataset['Prakruti'].value_counts().sort_index().plot.bar()"
   ]
  },
  {
   "cell_type": "code",
   "execution_count": 15,
   "id": "cd4c00ca",
   "metadata": {},
   "outputs": [],
   "source": [
    "from sklearn.model_selection import train_test_split\n",
    "X_train , X_test , y_train,y_test = train_test_split(X,y,test_size = 0.20,random_state=42)"
   ]
  },
  {
   "cell_type": "code",
   "execution_count": 16,
   "id": "9a5a567f",
   "metadata": {},
   "outputs": [
    {
     "name": "stdout",
     "output_type": "stream",
     "text": [
      "(2402, 51057)\n",
      "(601, 51057)\n"
     ]
    }
   ],
   "source": [
    "print(X_train.shape)\n",
    "print(X_test.shape)"
   ]
  },
  {
   "cell_type": "markdown",
   "id": "c5b125be",
   "metadata": {},
   "source": [
    "### Creating a multinomial naive Bayes classifier "
   ]
  },
  {
   "cell_type": "code",
   "execution_count": 17,
   "id": "7802b08f",
   "metadata": {},
   "outputs": [
    {
     "data": {
      "text/html": [
       "<style>#sk-container-id-1 {color: black;background-color: white;}#sk-container-id-1 pre{padding: 0;}#sk-container-id-1 div.sk-toggleable {background-color: white;}#sk-container-id-1 label.sk-toggleable__label {cursor: pointer;display: block;width: 100%;margin-bottom: 0;padding: 0.3em;box-sizing: border-box;text-align: center;}#sk-container-id-1 label.sk-toggleable__label-arrow:before {content: \"▸\";float: left;margin-right: 0.25em;color: #696969;}#sk-container-id-1 label.sk-toggleable__label-arrow:hover:before {color: black;}#sk-container-id-1 div.sk-estimator:hover label.sk-toggleable__label-arrow:before {color: black;}#sk-container-id-1 div.sk-toggleable__content {max-height: 0;max-width: 0;overflow: hidden;text-align: left;background-color: #f0f8ff;}#sk-container-id-1 div.sk-toggleable__content pre {margin: 0.2em;color: black;border-radius: 0.25em;background-color: #f0f8ff;}#sk-container-id-1 input.sk-toggleable__control:checked~div.sk-toggleable__content {max-height: 200px;max-width: 100%;overflow: auto;}#sk-container-id-1 input.sk-toggleable__control:checked~label.sk-toggleable__label-arrow:before {content: \"▾\";}#sk-container-id-1 div.sk-estimator input.sk-toggleable__control:checked~label.sk-toggleable__label {background-color: #d4ebff;}#sk-container-id-1 div.sk-label input.sk-toggleable__control:checked~label.sk-toggleable__label {background-color: #d4ebff;}#sk-container-id-1 input.sk-hidden--visually {border: 0;clip: rect(1px 1px 1px 1px);clip: rect(1px, 1px, 1px, 1px);height: 1px;margin: -1px;overflow: hidden;padding: 0;position: absolute;width: 1px;}#sk-container-id-1 div.sk-estimator {font-family: monospace;background-color: #f0f8ff;border: 1px dotted black;border-radius: 0.25em;box-sizing: border-box;margin-bottom: 0.5em;}#sk-container-id-1 div.sk-estimator:hover {background-color: #d4ebff;}#sk-container-id-1 div.sk-parallel-item::after {content: \"\";width: 100%;border-bottom: 1px solid gray;flex-grow: 1;}#sk-container-id-1 div.sk-label:hover label.sk-toggleable__label {background-color: #d4ebff;}#sk-container-id-1 div.sk-serial::before {content: \"\";position: absolute;border-left: 1px solid gray;box-sizing: border-box;top: 0;bottom: 0;left: 50%;z-index: 0;}#sk-container-id-1 div.sk-serial {display: flex;flex-direction: column;align-items: center;background-color: white;padding-right: 0.2em;padding-left: 0.2em;position: relative;}#sk-container-id-1 div.sk-item {position: relative;z-index: 1;}#sk-container-id-1 div.sk-parallel {display: flex;align-items: stretch;justify-content: center;background-color: white;position: relative;}#sk-container-id-1 div.sk-item::before, #sk-container-id-1 div.sk-parallel-item::before {content: \"\";position: absolute;border-left: 1px solid gray;box-sizing: border-box;top: 0;bottom: 0;left: 50%;z-index: -1;}#sk-container-id-1 div.sk-parallel-item {display: flex;flex-direction: column;z-index: 1;position: relative;background-color: white;}#sk-container-id-1 div.sk-parallel-item:first-child::after {align-self: flex-end;width: 50%;}#sk-container-id-1 div.sk-parallel-item:last-child::after {align-self: flex-start;width: 50%;}#sk-container-id-1 div.sk-parallel-item:only-child::after {width: 0;}#sk-container-id-1 div.sk-dashed-wrapped {border: 1px dashed gray;margin: 0 0.4em 0.5em 0.4em;box-sizing: border-box;padding-bottom: 0.4em;background-color: white;}#sk-container-id-1 div.sk-label label {font-family: monospace;font-weight: bold;display: inline-block;line-height: 1.2em;}#sk-container-id-1 div.sk-label-container {text-align: center;}#sk-container-id-1 div.sk-container {/* jupyter's `normalize.less` sets `[hidden] { display: none; }` but bootstrap.min.css set `[hidden] { display: none !important; }` so we also need the `!important` here to be able to override the default hidden behavior on the sphinx rendered scikit-learn.org. See: https://github.com/scikit-learn/scikit-learn/issues/21755 */display: inline-block !important;position: relative;}#sk-container-id-1 div.sk-text-repr-fallback {display: none;}</style><div id=\"sk-container-id-1\" class=\"sk-top-container\"><div class=\"sk-text-repr-fallback\"><pre>MultinomialNB(alpha=0.1)</pre><b>In a Jupyter environment, please rerun this cell to show the HTML representation or trust the notebook. <br />On GitHub, the HTML representation is unable to render, please try loading this page with nbviewer.org.</b></div><div class=\"sk-container\" hidden><div class=\"sk-item\"><div class=\"sk-estimator sk-toggleable\"><input class=\"sk-toggleable__control sk-hidden--visually\" id=\"sk-estimator-id-1\" type=\"checkbox\" checked><label for=\"sk-estimator-id-1\" class=\"sk-toggleable__label sk-toggleable__label-arrow\">MultinomialNB</label><div class=\"sk-toggleable__content\"><pre>MultinomialNB(alpha=0.1)</pre></div></div></div></div></div>"
      ],
      "text/plain": [
       "MultinomialNB(alpha=0.1)"
      ]
     },
     "execution_count": 17,
     "metadata": {},
     "output_type": "execute_result"
    }
   ],
   "source": [
    "from sklearn.naive_bayes import MultinomialNB\n",
    "classifier = MultinomialNB(alpha = 0.1)\n",
    "classifier.fit(X_train,y_train)"
   ]
  },
  {
   "cell_type": "code",
   "execution_count": 18,
   "id": "1b6fb605",
   "metadata": {},
   "outputs": [],
   "source": [
    "y_pred = classifier.predict(X_test)"
   ]
  },
  {
   "cell_type": "markdown",
   "id": "c5773997",
   "metadata": {},
   "source": [
    "## Checking Accuracy of Modal using some model performce metrics like the confusion matrix, accuracy, precision, recall and f1 score."
   ]
  },
  {
   "cell_type": "code",
   "execution_count": 19,
   "id": "108fb55f",
   "metadata": {},
   "outputs": [
    {
     "name": "stdout",
     "output_type": "stream",
     "text": [
      "Confusion matrix\n",
      "\n",
      "Predicted    0    1    2\n",
      "Actual                  \n",
      "0          165   33   16\n",
      "1            0  175   34\n",
      "2            5   26  147\n",
      "accuracy = 0.810 \n",
      "precision =0.827 \n",
      "recall =0.810 \n",
      "f1 =0.813\n"
     ]
    }
   ],
   "source": [
    "from sklearn.metrics import accuracy_score , f1_score , precision_score , recall_score\n",
    "print(\"Confusion matrix\\n\")\n",
    "print(pd.crosstab(pd.Series(y_test,name=\"Actual\"),pd.Series(y_pred,name=\"Predicted\")))\n",
    "def get_metrics(y_test,y_predicted):\n",
    "    accuracy = accuracy_score(y_test,y_predicted)\n",
    "    precision = precision_score(y_test,y_predicted,average=\"weighted\")\n",
    "    recall = recall_score(y_test,y_predicted,average=\"weighted\")\n",
    "    f1 = f1_score(y_test,y_predicted,average=\"weighted\")\n",
    "    return accuracy , precision,recall,f1\n",
    "acuracy,precision,recall,f1 = get_metrics(y_test,y_pred)\n",
    "print(\"accuracy = %.3f \\nprecision =%.3f \\nrecall =%.3f \\nf1 =%.3f\" % (acuracy,precision,recall,f1))"
   ]
  },
  {
   "cell_type": "markdown",
   "id": "ddb767d5",
   "metadata": {},
   "source": [
    "### Creating a k_nearest_neighbors classifier"
   ]
  },
  {
   "cell_type": "code",
   "execution_count": 20,
   "id": "990c6b2c",
   "metadata": {},
   "outputs": [
    {
     "data": {
      "text/html": [
       "<style>#sk-container-id-2 {color: black;background-color: white;}#sk-container-id-2 pre{padding: 0;}#sk-container-id-2 div.sk-toggleable {background-color: white;}#sk-container-id-2 label.sk-toggleable__label {cursor: pointer;display: block;width: 100%;margin-bottom: 0;padding: 0.3em;box-sizing: border-box;text-align: center;}#sk-container-id-2 label.sk-toggleable__label-arrow:before {content: \"▸\";float: left;margin-right: 0.25em;color: #696969;}#sk-container-id-2 label.sk-toggleable__label-arrow:hover:before {color: black;}#sk-container-id-2 div.sk-estimator:hover label.sk-toggleable__label-arrow:before {color: black;}#sk-container-id-2 div.sk-toggleable__content {max-height: 0;max-width: 0;overflow: hidden;text-align: left;background-color: #f0f8ff;}#sk-container-id-2 div.sk-toggleable__content pre {margin: 0.2em;color: black;border-radius: 0.25em;background-color: #f0f8ff;}#sk-container-id-2 input.sk-toggleable__control:checked~div.sk-toggleable__content {max-height: 200px;max-width: 100%;overflow: auto;}#sk-container-id-2 input.sk-toggleable__control:checked~label.sk-toggleable__label-arrow:before {content: \"▾\";}#sk-container-id-2 div.sk-estimator input.sk-toggleable__control:checked~label.sk-toggleable__label {background-color: #d4ebff;}#sk-container-id-2 div.sk-label input.sk-toggleable__control:checked~label.sk-toggleable__label {background-color: #d4ebff;}#sk-container-id-2 input.sk-hidden--visually {border: 0;clip: rect(1px 1px 1px 1px);clip: rect(1px, 1px, 1px, 1px);height: 1px;margin: -1px;overflow: hidden;padding: 0;position: absolute;width: 1px;}#sk-container-id-2 div.sk-estimator {font-family: monospace;background-color: #f0f8ff;border: 1px dotted black;border-radius: 0.25em;box-sizing: border-box;margin-bottom: 0.5em;}#sk-container-id-2 div.sk-estimator:hover {background-color: #d4ebff;}#sk-container-id-2 div.sk-parallel-item::after {content: \"\";width: 100%;border-bottom: 1px solid gray;flex-grow: 1;}#sk-container-id-2 div.sk-label:hover label.sk-toggleable__label {background-color: #d4ebff;}#sk-container-id-2 div.sk-serial::before {content: \"\";position: absolute;border-left: 1px solid gray;box-sizing: border-box;top: 0;bottom: 0;left: 50%;z-index: 0;}#sk-container-id-2 div.sk-serial {display: flex;flex-direction: column;align-items: center;background-color: white;padding-right: 0.2em;padding-left: 0.2em;position: relative;}#sk-container-id-2 div.sk-item {position: relative;z-index: 1;}#sk-container-id-2 div.sk-parallel {display: flex;align-items: stretch;justify-content: center;background-color: white;position: relative;}#sk-container-id-2 div.sk-item::before, #sk-container-id-2 div.sk-parallel-item::before {content: \"\";position: absolute;border-left: 1px solid gray;box-sizing: border-box;top: 0;bottom: 0;left: 50%;z-index: -1;}#sk-container-id-2 div.sk-parallel-item {display: flex;flex-direction: column;z-index: 1;position: relative;background-color: white;}#sk-container-id-2 div.sk-parallel-item:first-child::after {align-self: flex-end;width: 50%;}#sk-container-id-2 div.sk-parallel-item:last-child::after {align-self: flex-start;width: 50%;}#sk-container-id-2 div.sk-parallel-item:only-child::after {width: 0;}#sk-container-id-2 div.sk-dashed-wrapped {border: 1px dashed gray;margin: 0 0.4em 0.5em 0.4em;box-sizing: border-box;padding-bottom: 0.4em;background-color: white;}#sk-container-id-2 div.sk-label label {font-family: monospace;font-weight: bold;display: inline-block;line-height: 1.2em;}#sk-container-id-2 div.sk-label-container {text-align: center;}#sk-container-id-2 div.sk-container {/* jupyter's `normalize.less` sets `[hidden] { display: none; }` but bootstrap.min.css set `[hidden] { display: none !important; }` so we also need the `!important` here to be able to override the default hidden behavior on the sphinx rendered scikit-learn.org. See: https://github.com/scikit-learn/scikit-learn/issues/21755 */display: inline-block !important;position: relative;}#sk-container-id-2 div.sk-text-repr-fallback {display: none;}</style><div id=\"sk-container-id-2\" class=\"sk-top-container\"><div class=\"sk-text-repr-fallback\"><pre>KNeighborsClassifier()</pre><b>In a Jupyter environment, please rerun this cell to show the HTML representation or trust the notebook. <br />On GitHub, the HTML representation is unable to render, please try loading this page with nbviewer.org.</b></div><div class=\"sk-container\" hidden><div class=\"sk-item\"><div class=\"sk-estimator sk-toggleable\"><input class=\"sk-toggleable__control sk-hidden--visually\" id=\"sk-estimator-id-2\" type=\"checkbox\" checked><label for=\"sk-estimator-id-2\" class=\"sk-toggleable__label sk-toggleable__label-arrow\">KNeighborsClassifier</label><div class=\"sk-toggleable__content\"><pre>KNeighborsClassifier()</pre></div></div></div></div></div>"
      ],
      "text/plain": [
       "KNeighborsClassifier()"
      ]
     },
     "execution_count": 20,
     "metadata": {},
     "output_type": "execute_result"
    }
   ],
   "source": [
    "from sklearn.neighbors import KNeighborsClassifier\n",
    "classifier = KNeighborsClassifier(n_neighbors=5,metric = 'minkowski',p = 2)\n",
    "classifier.fit(X_train,y_train)"
   ]
  },
  {
   "cell_type": "code",
   "execution_count": 21,
   "id": "49f03d04",
   "metadata": {},
   "outputs": [],
   "source": [
    "y_pred = classifier.predict(X_test)"
   ]
  },
  {
   "cell_type": "code",
   "execution_count": 22,
   "id": "336217d8",
   "metadata": {},
   "outputs": [
    {
     "name": "stdout",
     "output_type": "stream",
     "text": [
      "Confusion matrix\n",
      "\n",
      "Predicted    0    1    2\n",
      "Actual                  \n",
      "0          201    9    4\n",
      "1            3  203    3\n",
      "2            9    7  162\n",
      "accuracy = 0.942 \n",
      "precision =0.942 \n",
      "recall =0.942 \n",
      "f1 =0.942\n"
     ]
    }
   ],
   "source": [
    "from sklearn.metrics import accuracy_score , f1_score , precision_score , recall_score\n",
    "print(\"Confusion matrix\\n\")\n",
    "print(pd.crosstab(pd.Series(y_test,name=\"Actual\"),pd.Series(y_pred,name=\"Predicted\")))\n",
    "acuracy,precision,recall,f1 = get_metrics(y_test,y_pred)\n",
    "print(\"accuracy = %.3f \\nprecision =%.3f \\nrecall =%.3f \\nf1 =%.3f\" % (acuracy,precision,recall,f1))"
   ]
  },
  {
   "cell_type": "markdown",
   "id": "5524d17f",
   "metadata": {},
   "source": [
    "###  Creating a support_vector_machine classifier"
   ]
  },
  {
   "cell_type": "code",
   "execution_count": 23,
   "id": "e217677b",
   "metadata": {},
   "outputs": [
    {
     "data": {
      "text/html": [
       "<style>#sk-container-id-3 {color: black;background-color: white;}#sk-container-id-3 pre{padding: 0;}#sk-container-id-3 div.sk-toggleable {background-color: white;}#sk-container-id-3 label.sk-toggleable__label {cursor: pointer;display: block;width: 100%;margin-bottom: 0;padding: 0.3em;box-sizing: border-box;text-align: center;}#sk-container-id-3 label.sk-toggleable__label-arrow:before {content: \"▸\";float: left;margin-right: 0.25em;color: #696969;}#sk-container-id-3 label.sk-toggleable__label-arrow:hover:before {color: black;}#sk-container-id-3 div.sk-estimator:hover label.sk-toggleable__label-arrow:before {color: black;}#sk-container-id-3 div.sk-toggleable__content {max-height: 0;max-width: 0;overflow: hidden;text-align: left;background-color: #f0f8ff;}#sk-container-id-3 div.sk-toggleable__content pre {margin: 0.2em;color: black;border-radius: 0.25em;background-color: #f0f8ff;}#sk-container-id-3 input.sk-toggleable__control:checked~div.sk-toggleable__content {max-height: 200px;max-width: 100%;overflow: auto;}#sk-container-id-3 input.sk-toggleable__control:checked~label.sk-toggleable__label-arrow:before {content: \"▾\";}#sk-container-id-3 div.sk-estimator input.sk-toggleable__control:checked~label.sk-toggleable__label {background-color: #d4ebff;}#sk-container-id-3 div.sk-label input.sk-toggleable__control:checked~label.sk-toggleable__label {background-color: #d4ebff;}#sk-container-id-3 input.sk-hidden--visually {border: 0;clip: rect(1px 1px 1px 1px);clip: rect(1px, 1px, 1px, 1px);height: 1px;margin: -1px;overflow: hidden;padding: 0;position: absolute;width: 1px;}#sk-container-id-3 div.sk-estimator {font-family: monospace;background-color: #f0f8ff;border: 1px dotted black;border-radius: 0.25em;box-sizing: border-box;margin-bottom: 0.5em;}#sk-container-id-3 div.sk-estimator:hover {background-color: #d4ebff;}#sk-container-id-3 div.sk-parallel-item::after {content: \"\";width: 100%;border-bottom: 1px solid gray;flex-grow: 1;}#sk-container-id-3 div.sk-label:hover label.sk-toggleable__label {background-color: #d4ebff;}#sk-container-id-3 div.sk-serial::before {content: \"\";position: absolute;border-left: 1px solid gray;box-sizing: border-box;top: 0;bottom: 0;left: 50%;z-index: 0;}#sk-container-id-3 div.sk-serial {display: flex;flex-direction: column;align-items: center;background-color: white;padding-right: 0.2em;padding-left: 0.2em;position: relative;}#sk-container-id-3 div.sk-item {position: relative;z-index: 1;}#sk-container-id-3 div.sk-parallel {display: flex;align-items: stretch;justify-content: center;background-color: white;position: relative;}#sk-container-id-3 div.sk-item::before, #sk-container-id-3 div.sk-parallel-item::before {content: \"\";position: absolute;border-left: 1px solid gray;box-sizing: border-box;top: 0;bottom: 0;left: 50%;z-index: -1;}#sk-container-id-3 div.sk-parallel-item {display: flex;flex-direction: column;z-index: 1;position: relative;background-color: white;}#sk-container-id-3 div.sk-parallel-item:first-child::after {align-self: flex-end;width: 50%;}#sk-container-id-3 div.sk-parallel-item:last-child::after {align-self: flex-start;width: 50%;}#sk-container-id-3 div.sk-parallel-item:only-child::after {width: 0;}#sk-container-id-3 div.sk-dashed-wrapped {border: 1px dashed gray;margin: 0 0.4em 0.5em 0.4em;box-sizing: border-box;padding-bottom: 0.4em;background-color: white;}#sk-container-id-3 div.sk-label label {font-family: monospace;font-weight: bold;display: inline-block;line-height: 1.2em;}#sk-container-id-3 div.sk-label-container {text-align: center;}#sk-container-id-3 div.sk-container {/* jupyter's `normalize.less` sets `[hidden] { display: none; }` but bootstrap.min.css set `[hidden] { display: none !important; }` so we also need the `!important` here to be able to override the default hidden behavior on the sphinx rendered scikit-learn.org. See: https://github.com/scikit-learn/scikit-learn/issues/21755 */display: inline-block !important;position: relative;}#sk-container-id-3 div.sk-text-repr-fallback {display: none;}</style><div id=\"sk-container-id-3\" class=\"sk-top-container\"><div class=\"sk-text-repr-fallback\"><pre>SVC(random_state=0)</pre><b>In a Jupyter environment, please rerun this cell to show the HTML representation or trust the notebook. <br />On GitHub, the HTML representation is unable to render, please try loading this page with nbviewer.org.</b></div><div class=\"sk-container\" hidden><div class=\"sk-item\"><div class=\"sk-estimator sk-toggleable\"><input class=\"sk-toggleable__control sk-hidden--visually\" id=\"sk-estimator-id-3\" type=\"checkbox\" checked><label for=\"sk-estimator-id-3\" class=\"sk-toggleable__label sk-toggleable__label-arrow\">SVC</label><div class=\"sk-toggleable__content\"><pre>SVC(random_state=0)</pre></div></div></div></div></div>"
      ],
      "text/plain": [
       "SVC(random_state=0)"
      ]
     },
     "execution_count": 23,
     "metadata": {},
     "output_type": "execute_result"
    }
   ],
   "source": [
    "from sklearn.svm import SVC\n",
    "classifier = SVC(kernel = 'rbf',random_state=0)\n",
    "classifier.fit(X_train,y_train)"
   ]
  },
  {
   "cell_type": "code",
   "execution_count": 24,
   "id": "dfd0378e",
   "metadata": {},
   "outputs": [],
   "source": [
    "y_pred = classifier.predict(X_test)"
   ]
  },
  {
   "cell_type": "code",
   "execution_count": 25,
   "id": "f2ca0f35",
   "metadata": {},
   "outputs": [
    {
     "name": "stdout",
     "output_type": "stream",
     "text": [
      "Confusion matrix\n",
      "\n",
      "Predicted    0    1    2\n",
      "Actual                  \n",
      "0          201    9    4\n",
      "1            0  207    2\n",
      "2            6    4  168\n",
      "accuracy = 0.958 \n",
      "precision =0.959 \n",
      "recall =0.958 \n",
      "f1 =0.958\n"
     ]
    }
   ],
   "source": [
    "from sklearn.metrics import accuracy_score , f1_score , precision_score , recall_score\n",
    "print(\"Confusion matrix\\n\")\n",
    "print(pd.crosstab(pd.Series(y_test,name=\"Actual\"),pd.Series(y_pred,name=\"Predicted\")))\n",
    "acuracy,precision,recall,f1 = get_metrics(y_test,y_pred)\n",
    "print(\"accuracy = %.3f \\nprecision =%.3f \\nrecall =%.3f \\nf1 =%.3f\" % (acuracy,precision,recall,f1))"
   ]
  },
  {
   "cell_type": "markdown",
   "id": "2435c345",
   "metadata": {},
   "source": [
    "### Creating a decision_tree classifier"
   ]
  },
  {
   "cell_type": "code",
   "execution_count": 26,
   "id": "1d405aa9",
   "metadata": {},
   "outputs": [
    {
     "data": {
      "text/html": [
       "<style>#sk-container-id-4 {color: black;background-color: white;}#sk-container-id-4 pre{padding: 0;}#sk-container-id-4 div.sk-toggleable {background-color: white;}#sk-container-id-4 label.sk-toggleable__label {cursor: pointer;display: block;width: 100%;margin-bottom: 0;padding: 0.3em;box-sizing: border-box;text-align: center;}#sk-container-id-4 label.sk-toggleable__label-arrow:before {content: \"▸\";float: left;margin-right: 0.25em;color: #696969;}#sk-container-id-4 label.sk-toggleable__label-arrow:hover:before {color: black;}#sk-container-id-4 div.sk-estimator:hover label.sk-toggleable__label-arrow:before {color: black;}#sk-container-id-4 div.sk-toggleable__content {max-height: 0;max-width: 0;overflow: hidden;text-align: left;background-color: #f0f8ff;}#sk-container-id-4 div.sk-toggleable__content pre {margin: 0.2em;color: black;border-radius: 0.25em;background-color: #f0f8ff;}#sk-container-id-4 input.sk-toggleable__control:checked~div.sk-toggleable__content {max-height: 200px;max-width: 100%;overflow: auto;}#sk-container-id-4 input.sk-toggleable__control:checked~label.sk-toggleable__label-arrow:before {content: \"▾\";}#sk-container-id-4 div.sk-estimator input.sk-toggleable__control:checked~label.sk-toggleable__label {background-color: #d4ebff;}#sk-container-id-4 div.sk-label input.sk-toggleable__control:checked~label.sk-toggleable__label {background-color: #d4ebff;}#sk-container-id-4 input.sk-hidden--visually {border: 0;clip: rect(1px 1px 1px 1px);clip: rect(1px, 1px, 1px, 1px);height: 1px;margin: -1px;overflow: hidden;padding: 0;position: absolute;width: 1px;}#sk-container-id-4 div.sk-estimator {font-family: monospace;background-color: #f0f8ff;border: 1px dotted black;border-radius: 0.25em;box-sizing: border-box;margin-bottom: 0.5em;}#sk-container-id-4 div.sk-estimator:hover {background-color: #d4ebff;}#sk-container-id-4 div.sk-parallel-item::after {content: \"\";width: 100%;border-bottom: 1px solid gray;flex-grow: 1;}#sk-container-id-4 div.sk-label:hover label.sk-toggleable__label {background-color: #d4ebff;}#sk-container-id-4 div.sk-serial::before {content: \"\";position: absolute;border-left: 1px solid gray;box-sizing: border-box;top: 0;bottom: 0;left: 50%;z-index: 0;}#sk-container-id-4 div.sk-serial {display: flex;flex-direction: column;align-items: center;background-color: white;padding-right: 0.2em;padding-left: 0.2em;position: relative;}#sk-container-id-4 div.sk-item {position: relative;z-index: 1;}#sk-container-id-4 div.sk-parallel {display: flex;align-items: stretch;justify-content: center;background-color: white;position: relative;}#sk-container-id-4 div.sk-item::before, #sk-container-id-4 div.sk-parallel-item::before {content: \"\";position: absolute;border-left: 1px solid gray;box-sizing: border-box;top: 0;bottom: 0;left: 50%;z-index: -1;}#sk-container-id-4 div.sk-parallel-item {display: flex;flex-direction: column;z-index: 1;position: relative;background-color: white;}#sk-container-id-4 div.sk-parallel-item:first-child::after {align-self: flex-end;width: 50%;}#sk-container-id-4 div.sk-parallel-item:last-child::after {align-self: flex-start;width: 50%;}#sk-container-id-4 div.sk-parallel-item:only-child::after {width: 0;}#sk-container-id-4 div.sk-dashed-wrapped {border: 1px dashed gray;margin: 0 0.4em 0.5em 0.4em;box-sizing: border-box;padding-bottom: 0.4em;background-color: white;}#sk-container-id-4 div.sk-label label {font-family: monospace;font-weight: bold;display: inline-block;line-height: 1.2em;}#sk-container-id-4 div.sk-label-container {text-align: center;}#sk-container-id-4 div.sk-container {/* jupyter's `normalize.less` sets `[hidden] { display: none; }` but bootstrap.min.css set `[hidden] { display: none !important; }` so we also need the `!important` here to be able to override the default hidden behavior on the sphinx rendered scikit-learn.org. See: https://github.com/scikit-learn/scikit-learn/issues/21755 */display: inline-block !important;position: relative;}#sk-container-id-4 div.sk-text-repr-fallback {display: none;}</style><div id=\"sk-container-id-4\" class=\"sk-top-container\"><div class=\"sk-text-repr-fallback\"><pre>DecisionTreeClassifier(criterion=&#x27;entropy&#x27;, random_state=0)</pre><b>In a Jupyter environment, please rerun this cell to show the HTML representation or trust the notebook. <br />On GitHub, the HTML representation is unable to render, please try loading this page with nbviewer.org.</b></div><div class=\"sk-container\" hidden><div class=\"sk-item\"><div class=\"sk-estimator sk-toggleable\"><input class=\"sk-toggleable__control sk-hidden--visually\" id=\"sk-estimator-id-4\" type=\"checkbox\" checked><label for=\"sk-estimator-id-4\" class=\"sk-toggleable__label sk-toggleable__label-arrow\">DecisionTreeClassifier</label><div class=\"sk-toggleable__content\"><pre>DecisionTreeClassifier(criterion=&#x27;entropy&#x27;, random_state=0)</pre></div></div></div></div></div>"
      ],
      "text/plain": [
       "DecisionTreeClassifier(criterion='entropy', random_state=0)"
      ]
     },
     "execution_count": 26,
     "metadata": {},
     "output_type": "execute_result"
    }
   ],
   "source": [
    "from sklearn.tree import DecisionTreeClassifier\n",
    "classifier = DecisionTreeClassifier(criterion = 'entropy',random_state=0)\n",
    "classifier.fit(X_train,y_train)"
   ]
  },
  {
   "cell_type": "code",
   "execution_count": 27,
   "id": "a11adc9e",
   "metadata": {},
   "outputs": [],
   "source": [
    "y_pred = classifier.predict(X_test)"
   ]
  },
  {
   "cell_type": "code",
   "execution_count": 28,
   "id": "2a0d51c3",
   "metadata": {},
   "outputs": [
    {
     "name": "stdout",
     "output_type": "stream",
     "text": [
      "Confusion matrix\n",
      "\n",
      "Predicted    0    1    2\n",
      "Actual                  \n",
      "0          196   10    8\n",
      "1            4  202    3\n",
      "2            8   14  156\n",
      "accuracy = 0.922 \n",
      "precision =0.923 \n",
      "recall =0.922 \n",
      "f1 =0.922\n"
     ]
    }
   ],
   "source": [
    "from sklearn.metrics import accuracy_score , f1_score , precision_score , recall_score\n",
    "print(\"Confusion matrix\\n\")\n",
    "print(pd.crosstab(pd.Series(y_test,name=\"Actual\"),pd.Series(y_pred,name=\"Predicted\")))\n",
    "acuracy,precision,recall,f1 = get_metrics(y_test,y_pred)\n",
    "print(\"accuracy = %.3f \\nprecision =%.3f \\nrecall =%.3f \\nf1 =%.3f\" % (acuracy,precision,recall,f1))"
   ]
  },
  {
   "cell_type": "markdown",
   "id": "2fd75ed0",
   "metadata": {},
   "source": [
    "### Creating a random_forest classifier "
   ]
  },
  {
   "cell_type": "code",
   "execution_count": 29,
   "id": "9d299649",
   "metadata": {},
   "outputs": [
    {
     "data": {
      "text/html": [
       "<style>#sk-container-id-5 {color: black;background-color: white;}#sk-container-id-5 pre{padding: 0;}#sk-container-id-5 div.sk-toggleable {background-color: white;}#sk-container-id-5 label.sk-toggleable__label {cursor: pointer;display: block;width: 100%;margin-bottom: 0;padding: 0.3em;box-sizing: border-box;text-align: center;}#sk-container-id-5 label.sk-toggleable__label-arrow:before {content: \"▸\";float: left;margin-right: 0.25em;color: #696969;}#sk-container-id-5 label.sk-toggleable__label-arrow:hover:before {color: black;}#sk-container-id-5 div.sk-estimator:hover label.sk-toggleable__label-arrow:before {color: black;}#sk-container-id-5 div.sk-toggleable__content {max-height: 0;max-width: 0;overflow: hidden;text-align: left;background-color: #f0f8ff;}#sk-container-id-5 div.sk-toggleable__content pre {margin: 0.2em;color: black;border-radius: 0.25em;background-color: #f0f8ff;}#sk-container-id-5 input.sk-toggleable__control:checked~div.sk-toggleable__content {max-height: 200px;max-width: 100%;overflow: auto;}#sk-container-id-5 input.sk-toggleable__control:checked~label.sk-toggleable__label-arrow:before {content: \"▾\";}#sk-container-id-5 div.sk-estimator input.sk-toggleable__control:checked~label.sk-toggleable__label {background-color: #d4ebff;}#sk-container-id-5 div.sk-label input.sk-toggleable__control:checked~label.sk-toggleable__label {background-color: #d4ebff;}#sk-container-id-5 input.sk-hidden--visually {border: 0;clip: rect(1px 1px 1px 1px);clip: rect(1px, 1px, 1px, 1px);height: 1px;margin: -1px;overflow: hidden;padding: 0;position: absolute;width: 1px;}#sk-container-id-5 div.sk-estimator {font-family: monospace;background-color: #f0f8ff;border: 1px dotted black;border-radius: 0.25em;box-sizing: border-box;margin-bottom: 0.5em;}#sk-container-id-5 div.sk-estimator:hover {background-color: #d4ebff;}#sk-container-id-5 div.sk-parallel-item::after {content: \"\";width: 100%;border-bottom: 1px solid gray;flex-grow: 1;}#sk-container-id-5 div.sk-label:hover label.sk-toggleable__label {background-color: #d4ebff;}#sk-container-id-5 div.sk-serial::before {content: \"\";position: absolute;border-left: 1px solid gray;box-sizing: border-box;top: 0;bottom: 0;left: 50%;z-index: 0;}#sk-container-id-5 div.sk-serial {display: flex;flex-direction: column;align-items: center;background-color: white;padding-right: 0.2em;padding-left: 0.2em;position: relative;}#sk-container-id-5 div.sk-item {position: relative;z-index: 1;}#sk-container-id-5 div.sk-parallel {display: flex;align-items: stretch;justify-content: center;background-color: white;position: relative;}#sk-container-id-5 div.sk-item::before, #sk-container-id-5 div.sk-parallel-item::before {content: \"\";position: absolute;border-left: 1px solid gray;box-sizing: border-box;top: 0;bottom: 0;left: 50%;z-index: -1;}#sk-container-id-5 div.sk-parallel-item {display: flex;flex-direction: column;z-index: 1;position: relative;background-color: white;}#sk-container-id-5 div.sk-parallel-item:first-child::after {align-self: flex-end;width: 50%;}#sk-container-id-5 div.sk-parallel-item:last-child::after {align-self: flex-start;width: 50%;}#sk-container-id-5 div.sk-parallel-item:only-child::after {width: 0;}#sk-container-id-5 div.sk-dashed-wrapped {border: 1px dashed gray;margin: 0 0.4em 0.5em 0.4em;box-sizing: border-box;padding-bottom: 0.4em;background-color: white;}#sk-container-id-5 div.sk-label label {font-family: monospace;font-weight: bold;display: inline-block;line-height: 1.2em;}#sk-container-id-5 div.sk-label-container {text-align: center;}#sk-container-id-5 div.sk-container {/* jupyter's `normalize.less` sets `[hidden] { display: none; }` but bootstrap.min.css set `[hidden] { display: none !important; }` so we also need the `!important` here to be able to override the default hidden behavior on the sphinx rendered scikit-learn.org. See: https://github.com/scikit-learn/scikit-learn/issues/21755 */display: inline-block !important;position: relative;}#sk-container-id-5 div.sk-text-repr-fallback {display: none;}</style><div id=\"sk-container-id-5\" class=\"sk-top-container\"><div class=\"sk-text-repr-fallback\"><pre>RandomForestClassifier(criterion=&#x27;entropy&#x27;, n_estimators=10, random_state=0)</pre><b>In a Jupyter environment, please rerun this cell to show the HTML representation or trust the notebook. <br />On GitHub, the HTML representation is unable to render, please try loading this page with nbviewer.org.</b></div><div class=\"sk-container\" hidden><div class=\"sk-item\"><div class=\"sk-estimator sk-toggleable\"><input class=\"sk-toggleable__control sk-hidden--visually\" id=\"sk-estimator-id-5\" type=\"checkbox\" checked><label for=\"sk-estimator-id-5\" class=\"sk-toggleable__label sk-toggleable__label-arrow\">RandomForestClassifier</label><div class=\"sk-toggleable__content\"><pre>RandomForestClassifier(criterion=&#x27;entropy&#x27;, n_estimators=10, random_state=0)</pre></div></div></div></div></div>"
      ],
      "text/plain": [
       "RandomForestClassifier(criterion='entropy', n_estimators=10, random_state=0)"
      ]
     },
     "execution_count": 29,
     "metadata": {},
     "output_type": "execute_result"
    }
   ],
   "source": [
    "from sklearn.ensemble import RandomForestClassifier\n",
    "classifier = RandomForestClassifier(n_estimators = 10,criterion = 'entropy',random_state = 0)\n",
    "classifier.fit(X_train,y_train)"
   ]
  },
  {
   "cell_type": "code",
   "execution_count": 30,
   "id": "c839479f",
   "metadata": {},
   "outputs": [],
   "source": [
    "y_pred = classifier.predict(X_test)"
   ]
  },
  {
   "cell_type": "code",
   "execution_count": 31,
   "id": "9bfe97ae",
   "metadata": {},
   "outputs": [
    {
     "name": "stdout",
     "output_type": "stream",
     "text": [
      "Confusion matrix\n",
      "\n",
      "Predicted    0    1    2\n",
      "Actual                  \n",
      "0          205    7    2\n",
      "1            1  204    4\n",
      "2            7    7  164\n",
      "accuracy = 0.953 \n",
      "precision =0.954 \n",
      "recall =0.953 \n",
      "f1 =0.953\n"
     ]
    }
   ],
   "source": [
    "from sklearn.metrics import accuracy_score , f1_score , precision_score , recall_score\n",
    "print(\"Confusion matrix\\n\")\n",
    "print(pd.crosstab(pd.Series(y_test,name=\"Actual\"),pd.Series(y_pred,name=\"Predicted\")))\n",
    "acuracy,precision,recall,f1 = get_metrics(y_test,y_pred)\n",
    "print(\"accuracy = %.3f \\nprecision =%.3f \\nrecall =%.3f \\nf1 =%.3f\" % (acuracy,precision,recall,f1))"
   ]
  }
 ],
 "metadata": {
  "kernelspec": {
   "display_name": "Python 3 (ipykernel)",
   "language": "python",
   "name": "python3"
  },
  "language_info": {
   "codemirror_mode": {
    "name": "ipython",
    "version": 3
   },
   "file_extension": ".py",
   "mimetype": "text/x-python",
   "name": "python",
   "nbconvert_exporter": "python",
   "pygments_lexer": "ipython3",
   "version": "3.8.0"
  }
 },
 "nbformat": 4,
 "nbformat_minor": 5
}
