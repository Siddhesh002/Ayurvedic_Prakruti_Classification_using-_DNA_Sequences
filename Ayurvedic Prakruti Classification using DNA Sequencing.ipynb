{
 "cells": [
  {
   "cell_type": "markdown",
   "id": "954db54b",
   "metadata": {},
   "source": [
    "# Ayurvedic Prakruti Classification using DNA Sequencing with Machine Learning"
   ]
  },
  {
   "cell_type": "code",
   "execution_count": 1,
   "id": "78adf31f",
   "metadata": {},
   "outputs": [],
   "source": [
    "import numpy as np\n",
    "import matplotlib.pyplot as plt\n",
    "import pandas as pd\n",
    "%matplotlib inline"
   ]
  },
  {
   "cell_type": "code",
   "execution_count": 2,
   "id": "f3f00172",
   "metadata": {},
   "outputs": [],
   "source": [
    "dataset = pd.read_csv('Dataset.csv')"
   ]
  },
  {
   "cell_type": "markdown",
   "id": "fa1dfda2",
   "metadata": {},
   "source": [
    "### Shuffling Dataset"
   ]
  },
  {
   "cell_type": "code",
   "execution_count": 3,
   "id": "5a5f1853",
   "metadata": {},
   "outputs": [],
   "source": [
    "dataset = dataset.reindex(np.random.permutation(dataset.index))\n",
    "dataset.reset_index(inplace=True,drop=True)"
   ]
  },
  {
   "cell_type": "markdown",
   "id": "be51b34a",
   "metadata": {},
   "source": [
    "### Splitting into dependent and independent variables"
   ]
  },
  {
   "cell_type": "code",
   "execution_count": 4,
   "id": "2ca61b76",
   "metadata": {},
   "outputs": [],
   "source": [
    "x = dataset.iloc[:,:-1].values\n",
    "y = dataset.iloc[:,-1].values"
   ]
  },
  {
   "cell_type": "code",
   "execution_count": 5,
   "id": "4cffebd0",
   "metadata": {
    "scrolled": false
   },
   "outputs": [
    {
     "name": "stdout",
     "output_type": "stream",
     "text": [
      "[['GATGAACGCTGGCGGCGTGCCTAACACATGCAAGTCGAGCGATTTACTTCGGTAAAGAGCGGCGGACGGGTGAGTAACGCGTGGGTAACCTGCCCTGTACACACGGATAACATACCGAAAGGTATGCTAATACGAGATAACATGCTTTTATCGCATGGTAGAAGTATCAAAGCTCTGGCGGTACAGGATGGACCCGCGTCTGATTAGCTAGTTGGTAAGGTAACGGCATACCAAGGCGACGATCAGTAGCCGACCTGAGAGGGTGATCGGCCACATTGGAACTGAGACACGGTCCAAACTCCTACGGGAGGCAGCAGTGGGGAATATTGCACAATGGGCGAAAGCCTGATGCAGCAACGCCGCGTGAGCGATGAAGGCCTTCGGGTCGTAAAGCTCTGTCCTCAAGGAAGATAATGACGGTACTTGAGGAGGAAGCCCCGGCTAACTACGTGCCAGCAGCCGCGGTAATACGTAGGGGGCTAGCGTTATCCGGAATTACTGGGCGTAAAGGGGTGCGTAGGTGGTTTCTTAAGTCAGAGGTGAAAGGCTACGGCTCAACCGTAGTAAGCCTTTGAAACTGGGAAACTTGAGTGCAGGAGAGGAGAGTGGAATTCCTAGTGTAGCGGTGAAATGCGTAGATATTAGGAGGAACACCAGTTGCGAAGGCGGCTCTCGTGACTGTAACTGACACTGAGGCACGAAAGCGTGGGGAGCAAACAGGATTAGATACCCTGGTAGT']\n",
      " ['GATGAACGCTGGCGGCGTGCCTAACACATGCAAGTCGAGCGATTCTCTTCGGAGAAGAGCGGCGGACGGGTGAGTAACGCGTGGGTAACCTGCCCTGTACACACGGATAACATACCGAAAGGTATGCTAATACGAGATAATATGCTTTTATCGCATGGTAGAAGTATCAAAGCTTTTGCGGTACAGGATGGACCCGCGTCTGATTAGCTAGTTGGTAAGGTAACGGCTTACCAAGGCGACGATCAGTAGCCGACCTGAGAGGGTGATCGGCCACATTGGAACTGAGACACGGTCCAAACTCCTACGGGAGGCAGCAGTGGGGAATATTGCACAATGGGCGAAAGCCTGATGCAGCAACGCCGCGTGAGCGATGAAGGCCTTCGGGTCGTAAAGCTCTGTCCTCAAGGAAGATAATGACGGTACTTGAGGAGGAAGCCCCGGCTAACTACGTGCCAGCAGCCGCGGTAATACGTAGGGGGCTAGCGTTATCCGGAATTACTGGGCGTAAAGGGTGCGTAGGTGGTTTCTTAAGTCAGAGGTGAAAGGCTACGGCTCAACCGTAGTAAGCCTTTGAAACTGGGAAACTTGAGTGCAGGAGAGGAGAGTGGAATTCCTAGTGTAGCGGTGAAATGCGTAGATATTAGGAGGAACACCAGTTGCGAAGGCGGCTCTCTGGACTGTAACTGACACTGAGGCAACGAAAGCGTGGGGAGCAAACAGGATTAGATACCCCTTGGGTTAGT']\n",
      " ['GACGAACGCTGGCGGCGTGCTTAACACATGCAAGTCGAACGGGAGGAAAAGAGAAGCTTGCTTCTTTTTGAATCTAGTGGCAAACGGGTGAGTAACACATAAACAACCTGCCTTCAGGATGGGGACAACAGACGGAAACGACTGCTAATACCGAATGTGTTCCGGAGACCGCATGATTTCCGGAAGAAAGGATGGCCTCTATTTATAAGCTATCGCCTGAAGAGGGGTTTGCGTCTGATTAGGCAGTTGGTGAGGTAACGGCCCACCAAACCTACGATCAGTAGCCGGTCTGAGAGGATGAACGGCCACACTGGAACTGAGACACGGTCCAGACTCCTACGGGAGGCAGCAGTGGGGAATCTTCCGCAATGGACGAAAGTCTGACGGAGCAACGCCGCGTGAGTGATGACGGCCTCGGGTTGTAAAGCTCTGTGATCGGGGACGAATGGCTGGTATGCTAATACCATATCAGAGTGACGGTACCCGAATAGCAAGCCACGGCTAACTACGTGCCAGCAGCCGCGGTAATACGTAGGTGGCAAGCGTTGTCCGGAATTATTGGGCGTAAAGCGNGCGCAGGCGGCTTCTTAAGTCCATCTTAAAAGTGCGGGGCTTAACCCGTGATGGGATGGAAACTGGGAGGCATGGAGTGATGCAGA']\n",
      " ...\n",
      " ['GATGAACGCTGGCGGCGTGCCTAACACATGCAAGTCGAGCGATTCTCTTCGGAGAAGAGCGGCGGACGGGTGAGTAACGCGTGGGTAACCTGCCCTGTACACACGGATAACATACCGAAAGGTATGCTAATACGAGATAATATGCTTTTATCGCATGGTAGAAGTATCAAAGCTCCGGCGGTACAGGATGGACCCGCGTCTGATTAGCTAGTTGGTAAGGTAACGGCTTACCAAGGCGACGATCAGTAGCCGACCTGAGAGGGTGATCGGCCACATTGGAACTGAGACACGGTCCAAACTCCTACGGGAGGCAGCAGTGGGGAATATTGCACAATGGGCGAAAGCCTGATGCAGCAACGCCGCGTGAGCGATGAAGGCCTTCGGGTCGTAAAGCTCTGTCCTCAAGGAAGATAATGACGGTACTTGAGGAGGAAGCCCCGGCTAACTACGTGCCAGCAGCCGCGGTAATACGTAGGGGGCTAGCGTTATCCGGAATTACTGGGCGTAAAGGGTGCGTAGGTGGTTTCTTAAGTCAGAGGTGAAAGGCTACGGCTCAACCGTAGTAAGCCTTTGAAACTGGGAAACTTGAGTGCAGGAGAGGAGAGTGGAATTCCTAGTGTAGCGGTGAAATGCGTAGATATTAGGAGGAACACCAGTTGCGAAGGCGGCTCTCTGGACTGTAACTGACACTGAGGCACGAAAGCGTGGGGAGCAAACAGGATTAGATACCCTGGTAGT']\n",
      " ['GATGAACGCTAGCTACAGGCTTAACACATGCAAGTCGAGGGGAAACGATAGAGAAAGCTTGCTTTTTCTAGGCGTCGACCGGCGCACGGGTGAGTAACGCGTATCCAACCTGCCCATCACTTGGGGATAACCTTGCGAAAGTAAGACTAATACCCAATGATATCTCAAGAAGACATCTGAATGAGATTAAAGATTTATCGGTGATGGATGGGGATGCGTCTGATTAGCTTGTTGGCGGGGTAACGGCCCACCAAGGCGACGATCAGTAGGGGTTCTGAGAGGAAGGTCGCCCACATTGGAACTGAGACACGGTCCAAACTCCTACGGGAGGCAGCAGTGAGGAATATTGGTCAATGGGCGAGAGCCTGAACCAGCCAAGTAGCGTGCAGGATGGCGGCCCTATGGGTTGTAAACTGCTTTTATAAGGGAATAAAGTGGGTCTCGTGAGACTTTTTGCATGTACCTTATGAATAAGGACCGGCTAATTCCGTGCCAGCAGCCGCGGTAATACGGAAGGTCCGGGCGTTATCCGGATTTATTGGGTTTAAAGGGAGCGTAGGCCGGAGATTAAGCGTGTTGTGAAATGTAGATGCTCAACATCTGCACTGCAGCGCGAAACTGGTTTCCGTTTGCATGTACGCACAAAGTGGGTGCGGAATTCGTGGTGTAGCGGTGAAATGCTTAGATATCACGAAGAACTCCGATTGCGAAGGCAGCTCACTGGAGCGCAACTGACGCTGAAGCTCGAAAGTGCGGGTATCGAACAGGATTAGATACCCTGGTAGT']\n",
      " ['GATGAACGCTGGCGGCGTGCCTAACACATGCAAGTCGAGCGATTCTCTTCGGAGAAGAGCGGCGGACGGGTGAGTAACGCGTGGGTAACCTGCCCTGTACACACGGATAACATACCGAAAGGTATGCTAATACGAGATAATATGCTTTTATCGCATGGTAGAAGTATCAAAGCTCCGGCGGTACAGGATGGACCCGCGTCTGATTAGCTAGTTGGTAAGGTAACGGCTTACCAAGGCGACGATCAGTAGCCGACCTGAGAGGGTGATCGGCCACATTGGAACTGAGACACGGTCCAAACTCCTACGGGAGGCAGCAGTGGGGAATATTGCACAATGGGCGAAAGCCTGATGCAGCAACGCCGCGTGAGCGATGAAGGCCTTCGGGTCGTAAAGCTCTGTCCTCAAGGAAGATAATGACGGTACTTGAGGAGGAAGCCCCGGCTAACTACGTGCCAGCAGCCGCGGTAATACGTAGGGGGCTAGCGTTATCCGGAATTACTGGGCGTAAAGGGTGCGTAGGTGGTTTCTTAAGTCAGAGGTGAAAGGCTACGGCTCAACCGTAGTAAGCCTTTGAAACTGGGAAACTTGAGTGCAGGAGAGGAGAGTGGAATTCCTGTGTAGCGGTGAAATGCGTAGATATTGGGAGGAACACCAGTTGCGAAGGCGGCTCTCTGGACTGTAGCTGACACTGAGGCACGAAAGCGTGGGGAGCAAACAGGATTAGATACCCTGGTAGT']]\n"
     ]
    }
   ],
   "source": [
    "print(x)"
   ]
  },
  {
   "cell_type": "code",
   "execution_count": 6,
   "id": "e2a82099",
   "metadata": {},
   "outputs": [
    {
     "name": "stdout",
     "output_type": "stream",
     "text": [
      "['Kapha' 'Kapha' 'Pitta' ... 'Kapha' 'Pitta' 'Kapha']\n"
     ]
    }
   ],
   "source": [
    "print(y)"
   ]
  },
  {
   "cell_type": "markdown",
   "id": "4517a2fb",
   "metadata": {},
   "source": [
    "# Label Encoding Dependent Variable (Ayurvedic Prakruti)"
   ]
  },
  {
   "cell_type": "code",
   "execution_count": 7,
   "id": "f5ceca47",
   "metadata": {},
   "outputs": [],
   "source": [
    "from sklearn.preprocessing import LabelEncoder\n",
    "le = LabelEncoder()\n",
    "y = le.fit_transform(y)"
   ]
  },
  {
   "cell_type": "code",
   "execution_count": 8,
   "id": "38f612ef",
   "metadata": {
    "scrolled": true
   },
   "outputs": [
    {
     "name": "stdout",
     "output_type": "stream",
     "text": [
      "[0 0 1 ... 0 1 0]\n"
     ]
    }
   ],
   "source": [
    "print(y)"
   ]
  },
  {
   "cell_type": "markdown",
   "id": "40b720b1",
   "metadata": {},
   "source": [
    "# Treating DNA sequence as a \"language\", otherwise known as k-mer counting"
   ]
  },
  {
   "cell_type": "markdown",
   "id": "7f4cb8f3",
   "metadata": {},
   "source": [
    "### A function to collect all possible overlapping k-mers of a specified length from any sequence string. We will basically apply the k-mers to the complete sequences."
   ]
  },
  {
   "cell_type": "code",
   "execution_count": 9,
   "id": "2fffbe08",
   "metadata": {},
   "outputs": [],
   "source": [
    "def getKmers(sequence,size = 6):\n",
    "    return [sequence[x:x+size].lower() for x in range(len(sequence)-size+1)]"
   ]
  },
  {
   "cell_type": "markdown",
   "id": "e6b894dd",
   "metadata": {},
   "source": [
    "## Now we can convert our training data sequences into short overlapping k-mers of length 6"
   ]
  },
  {
   "cell_type": "code",
   "execution_count": 10,
   "id": "02fb6a69",
   "metadata": {},
   "outputs": [],
   "source": [
    "kmerData = []\n",
    "\n",
    "for i in x:\n",
    "    kmerData.append(getKmers(str(i)))"
   ]
  },
  {
   "cell_type": "code",
   "execution_count": 11,
   "id": "34e9962e",
   "metadata": {},
   "outputs": [
    {
     "name": "stdout",
     "output_type": "stream",
     "text": [
      "[\"['gatg\", \"'gatga\", 'gatgaa', 'atgaac', 'tgaacg', 'gaacgc', 'aacgct', 'acgcta', 'cgctag', 'gctagc', 'ctagct', 'tagcta', 'agctac', 'gctaca', 'ctacag', 'tacagg', 'acaggc', 'caggct', 'aggctt', 'ggctta', 'gcttaa', 'cttaac', 'ttaaca', 'taacac', 'aacaca', 'acacat', 'cacatg', 'acatgc', 'catgca', 'atgcaa', 'tgcaag', 'gcaagt', 'caagtc', 'aagtcg', 'agtcga', 'gtcgag', 'tcgagg', 'cgaggg', 'gagggc', 'agggca', 'gggcag', 'ggcagc', 'gcagcg', 'cagcga', 'agcgat', 'gcgatg', 'cgatga', 'gatgaa', 'atgaag', 'tgaaga', 'gaagaa', 'aagaaa', 'agaaag', 'gaaagc', 'aaagct', 'aagctt', 'agcttg', 'gcttgc', 'cttgct', 'ttgctt', 'tgcttt', 'gctttc', 'ctttct', 'tttctt', 'ttcttc', 'tcttca', 'cttcag', 'ttcagg', 'tcaggc', 'caggcg', 'aggcgg', 'ggcggc', 'gcggcg', 'cggcga', 'ggcgac', 'gcgacc', 'cgaccg', 'gaccgg', 'accggc', 'ccggcg', 'cggcgc', 'ggcgca', 'gcgcac', 'cgcacg', 'gcacgg', 'cacggg', 'acgggt', 'cgggtg', 'gggtga', 'ggtgag', 'gtgagt', 'tgagta', 'gagtaa', 'agtaac', 'gtaacg', 'taacgc', 'aacgcg', 'acgcgt', 'cgcgta', 'gcgtat', 'cgtatc', 'gtatcg', 'tatcga', 'atcgaa', 'tcgaac', 'cgaacc', 'gaacct', 'aacctg', 'acctgc', 'cctgcc', 'ctgcct', 'tgcctc', 'gcctca', 'cctcat', 'ctcata', 'tcatac', 'catact', 'atactc', 'tactca', 'actcag', 'ctcagg', 'tcagga', 'caggaa', 'aggaat', 'ggaata', 'gaatag', 'aatagc', 'atagcc', 'tagcct', 'agcctt', 'gccttg', 'ccttgc', 'cttgcg', 'ttgcga', 'tgcgaa', 'gcgaaa', 'cgaaag', 'gaaagt', 'aaagta', 'aagtaa', 'agtaag', 'gtaaga', 'taagat', 'aagatt', 'agatta', 'gattaa', 'attaat', 'ttaatg', 'taatgc', 'aatgcc', 'atgccc', 'tgcccg', 'gcccga', 'cccgat', 'ccgatg', 'cgatgt', 'gatgtt', 'atgtta', 'tgttat', 'gttatt', 'ttatta', 'tattag', 'attagg', 'ttagga', 'taggat', 'aggata', 'ggatat', 'gatatc', 'atatca', 'tatcac', 'atcaca', 'tcacat', 'cacatg', 'acatga', 'catgat', 'atgatg', 'tgatgt', 'gatgtt', 'atgttc', 'tgttct', 'gttcta', 'ttctaa', 'tctaat', 'ctaatt', 'taatta', 'aattaa', 'attaaa', 'ttaaag', 'taaaga', 'aaagat', 'aagatt', 'agattt', 'gattta', 'atttat', 'tttatc', 'ttatcg', 'tatcgg', 'atcggt', 'tcggta', 'cggtat', 'ggtatg', 'gtatga', 'tatgag', 'atgaga', 'tgagat', 'gagatg', 'agatgg', 'gatggc', 'atggcg', 'tggcga', 'ggcgat', 'gcgatg', 'cgatgc', 'gatgcg', 'atgcgt', 'tgcgtc', 'gcgtcc', 'cgtccc', 'gtccca', 'tcccat', 'cccatt', 'ccatta', 'cattag', 'attagc', 'ttagct', 'tagctt', 'agcttg', 'gcttgt', 'cttgtt', 'ttgttg', 'tgttgg', 'gttggc', 'ttggcg', 'tggcgg', 'ggcggg', 'gcgggg', 'cggggt', 'ggggta', 'gggtaa', 'ggtaac', 'gtaacg', 'taacgg', 'aacggc', 'acggcc', 'cggccc', 'ggccca', 'gcccac', 'cccacc', 'ccacca', 'caccaa', 'accaag', 'ccaagg', 'caaggc', 'aaggca', 'aggcat', 'ggcatc', 'gcatcg', 'catcga', 'atcgat', 'tcgatg', 'cgatgg', 'gatggg', 'atgggt', 'tgggta', 'gggtag', 'ggtagg', 'gtaggg', 'tagggg', 'aggggt', 'ggggtt', 'gggttc', 'ggttct', 'gttctg', 'ttctga', 'tctgag', 'ctgaga', 'tgagag', 'gagagg', 'agagga', 'gaggaa', 'aggaag', 'ggaagg', 'gaaggt', 'aaggtc', 'aggtcc', 'ggtccc', 'gtcccc', 'tcccca', 'ccccac', 'cccacc', 'ccacca', 'caccat', 'accatg', 'ccatga', 'catgac', 'atgact', 'tgactt', 'gacttg', 'acttgg', 'cttgga', 'ttggaa', 'tggaac', 'ggaact', 'gaactn', 'aactna', 'actnag', 'ctnaga', 'tnagac', 'nagacg', 'agacgc', 'gacgcc', 'acgccg', 'cgccgt', 'gccgtc', 'ccgtca', 'cgtcaa', 'gtcaaa', 'tcaaac', 'caaact', 'aaactc', 'aactcc', 'actcct', 'ctccta', 'tcctac', 'cctacg', 'ctacgg', 'tacggg', 'acggga', 'cgggag', 'gggagg', 'ggaggc', 'gaggca', 'aggcag', 'ggcagc', 'gcagca', 'cagcag', 'agcagt', 'gcagtg', 'cagtga', 'agtgag', 'gtgagg', 'tgagga', 'gaggaa', 'aggaat', 'ggaata', 'gaatat', 'aatatt', 'atattg', 'tattgg', 'attggt', 'ttggtc', 'tggtca', 'ggtcaa', 'gtcaat', 'tcaatg', 'caatgg', 'aatgga', 'atggac', 'tggacg', 'ggacgc', 'gacgca', 'acgcaa', 'cgcaag', 'gcaagt', 'caagtc', 'aagtct', 'agtctg', 'gtctga', 'tctgaa', 'ctgaac', 'tgaacc', 'gaacca', 'aaccag', 'accagc', 'ccagcc', 'cagcca', 'agccaa', 'gccaag', 'ccaagt', 'caagta', 'aagtag', 'agtagc', 'gtagcg', 'tagcgt', 'agcgtg', 'gcgtgc', 'cgtgca', 'gtgcag', 'tgcagg', 'gcagga', 'caggaa', 'aggaag', 'ggaaga', 'gaagac', 'aagacg', 'agacgg', 'gacggc', 'acggcc', 'cggccc', 'ggccct', 'gccctc', 'ccctct', 'cctctg', 'ctctgg', 'tctggg', 'ctgggt', 'tgggtt', 'gggttg', 'ggttgt', 'gttgta', 'ttgtaa', 'tgtaaa', 'gtaaac', 'taaact', 'aaactg', 'aactgc', 'actgct', 'ctgctt', 'tgcttt', 'gctttt', 'ctttta', 'ttttag', 'tttagt', 'ttagtt', 'tagttg', 'agttgg', 'gttggg', 'ttggga', 'tgggaa', 'gggaat', 'ggaata', 'gaataa', 'aataaa', 'ataaag', 'taaagt', 'aaagtg', 'aagtgc', 'agtgca', 'gtgcat', 'tgcatc', 'gcatca', 'catcac', 'atcacg', 'tcacgt', 'cacgtg', 'acgtgt', 'cgtgtg', 'gtgtga', 'tgtgat', 'gtgatg', 'tgatgt', 'gatgtt', 'atgttt', 'tgtttt', 'gttttg', 'ttttgt', 'tttgta', 'ttgtat', 'tgtatg', 'gtatgt', 'tatgta', 'atgtac', 'tgtacc', 'gtacca', 'taccat', 'accatc', 'ccatca', 'catcag', 'atcaga', 'tcagaa', 'cagaaa', 'agaaaa', 'gaaaaa', 'aaaaag', 'aaaagg', 'aaagga', 'aaggac', 'aggacc', 'ggaccg', 'gaccgg', 'accggc', 'ccggct', 'cggcta', 'ggctaa', 'gctaat', 'ctaatt', 'taattc', 'aattcc', 'attccg', 'ttccgt', 'tccgtg', 'ccgtgc', 'cgtgcc', 'gtgcca', 'tgccag', 'gccagc', 'ccagca', 'cagcag', 'agcagc', 'gcagcc', 'cagccg', 'agccgc', 'gccgcg', 'ccgcgg', 'cgcggt', 'gcggta', 'cggtaa', 'ggtaat', 'gtaata', 'taatac', 'aatacg', 'atacgg', 'tacgga', 'acggaa', 'cggaag', 'ggaagg', 'gaaggt', 'aaggtc', 'aggtcc', 'ggtcca', 'gtccag', 'tccagg', 'ccaggc', 'caggcg', 'aggcgt', 'ggcgtt', 'gcgtta', 'cgttat', 'gttatc', 'ttatcc', 'tatccg', 'atccgg', 'tccgga', 'ccggat', 'cggatt', 'ggattt', 'gattta', 'atttat', 'tttatt', 'ttattg', 'tattgg', 'attggg', 'ttgggt', 'tgggtt', 'gggttt', 'ggttta', 'gtttaa', 'tttaaa', 'ttaaag', 'taaagg', 'aaaggg', 'aaggga', 'agggag', 'gggagc', 'ggagcg', 'gagcgc', 'agcgca', 'gcgcag', 'cgcagg', 'gcaggc', 'caggcg', 'aggcgg', 'ggcgga', 'gcggac', 'cggacc', 'ggacct', 'gacctt', 'accttt', 'ccttta', 'ctttaa', 'tttaag', 'ttaagt', 'taagtc', 'aagtca', 'agtcag', 'gtcagc', 'tcagct', 'cagctg', 'agctgt', 'gctgtg', 'ctgtga', 'tgtgaa', 'gtgaaa', 'tgaaat', 'gaaata', 'aaatac', 'aatacg', 'atacgg', 'tacggc', 'acggcn', 'cggcnt', 'ggcntc', 'gcntca', 'cntcaa', \"ntcaa'\", \"tcaa']\"]\n"
     ]
    }
   ],
   "source": [
    "print(kmerData[111])"
   ]
  },
  {
   "cell_type": "code",
   "execution_count": 12,
   "id": "718c4143",
   "metadata": {},
   "outputs": [],
   "source": [
    "text_data = []\n",
    "\n",
    "for i in range(len(kmerData)):\n",
    "    text_data.append(\"\");\n",
    "    for item in kmerData[i]:\n",
    "        text_data[i] = text_data[i] + ' ' + item\n",
    "    \n",
    "for i in range(len(text_data)):\n",
    "    text_data[i] = text_data[i][9:-8]"
   ]
  },
  {
   "cell_type": "code",
   "execution_count": 18,
   "id": "636c3c6c",
   "metadata": {},
   "outputs": [
    {
     "name": "stdout",
     "output_type": "stream",
     "text": [
      "gatga gatgaa atgaac tgaacg gaacgc aacgct acgctg cgctgg gctggc ctggcg tggcgg ggcggc gcggcg cggcgt ggcgtg gcgtgc cgtgcc gtgcct tgccta gcctaa cctaac ctaaca taacac aacaca acacat cacatg acatgc catgca atgcaa tgcaag gcaagt caagtc aagtcg agtcga gtcgag tcgagc cgagcg gagcga agcgat gcgatt cgattt gattta atttac tttact ttactt tacttc acttcg cttcgg ttcggt tcggta cggtaa ggtaaa gtaaag taaaga aaagag aagagc agagcg gagcgg agcggc gcggcg cggcgg ggcgga gcggac cggacg ggacgg gacggg acgggt cgggtg gggtga ggtgag gtgagt tgagta gagtaa agtaac gtaacg taacgc aacgcg acgcgt cgcgtg gcgtgg cgtggg gtgggt tgggta gggtaa ggtaac gtaacc taacct aacctg acctgc cctgcc ctgccc tgccct gccctg ccctgt cctgta ctgtac tgtaca gtacac tacaca acacac cacacg acacgg cacgga acggat cggata ggataa gataac ataaca taacat aacata acatac catacc ataccg taccga accgaa ccgaaa cgaaag gaaagg aaaggt aaggta aggtat ggtatg gtatgc tatgct atgcta tgctaa gctaat ctaata taatac aatacg atacga tacgag acgaga cgagat gagata agataa gataac ataaca taacat aacatg acatgc catgct atgctt tgcttt gctttt ctttta ttttat tttatc ttatcg tatcgc atcgca tcgcat cgcatg gcatgg catggt atggta tggtag ggtaga gtagaa tagaag agaagt gaagta aagtat agtatc gtatca tatcaa atcaaa tcaaag caaagc aaagct aagctc agctct gctctg ctctgg tctggc ctggcg tggcgg ggcggt gcggta cggtac ggtaca gtacag tacagg acagga caggat aggatg ggatgg gatgga atggac tggacc ggaccc gacccg acccgc cccgcg ccgcgt cgcgtc gcgtct cgtctg gtctga tctgat ctgatt tgatta gattag attagc ttagct tagcta agctag gctagt ctagtt tagttg agttgg gttggt ttggta tggtaa ggtaag gtaagg taaggt aaggta aggtaa ggtaac gtaacg taacgg aacggc acggca cggcat ggcata gcatac catacc atacca taccaa accaag ccaagg caaggc aaggcg aggcga ggcgac gcgacg cgacga gacgat acgatc cgatca gatcag atcagt tcagta cagtag agtagc gtagcc tagccg agccga gccgac ccgacc cgacct gacctg acctga cctgag ctgaga tgagag gagagg agaggg gagggt agggtg gggtga ggtgat gtgatc tgatcg gatcgg atcggc tcggcc cggcca ggccac gccaca ccacat cacatt acattg cattgg attgga ttggaa tggaac ggaact gaactg aactga actgag ctgaga tgagac gagaca agacac gacacg acacgg cacggt acggtc cggtcc ggtcca gtccaa tccaaa ccaaac caaact aaactc aactcc actcct ctccta tcctac cctacg ctacgg tacggg acggga cgggag gggagg ggaggc gaggca aggcag ggcagc gcagca cagcag agcagt gcagtg cagtgg agtggg gtgggg tgggga ggggaa gggaat ggaata gaatat aatatt atattg tattgc attgca ttgcac tgcaca gcacaa cacaat acaatg caatgg aatggg atgggc tgggcg gggcga ggcgaa gcgaaa cgaaag gaaagc aaagcc aagcct agcctg gcctga cctgat ctgatg tgatgc gatgca atgcag tgcagc gcagca cagcaa agcaac gcaacg caacgc aacgcc acgccg cgccgc gccgcg ccgcgt cgcgtg gcgtga cgtgag gtgagc tgagcg gagcga agcgat gcgatg cgatga gatgaa atgaag tgaagg gaaggc aaggcc aggcct ggcctt gccttc ccttcg cttcgg ttcggg tcgggt cgggtc gggtcg ggtcgt gtcgta tcgtaa cgtaaa gtaaag taaagc aaagct aagctc agctct gctctg ctctgt tctgtc ctgtcc tgtcct gtcctc tcctca cctcaa ctcaag tcaagg caagga aaggaa aggaag ggaaga gaagat aagata agataa gataat ataatg taatga aatgac atgacg tgacgg gacggt acggta cggtac ggtact gtactt tacttg acttga cttgag ttgagg tgagga gaggag aggagg ggagga gaggaa aggaag ggaagc gaagcc aagccc agcccc gccccg ccccgg cccggc ccggct cggcta ggctaa gctaac ctaact taacta aactac actacg ctacgt tacgtg acgtgc cgtgcc gtgcca tgccag gccagc ccagca cagcag agcagc gcagcc cagccg agccgc gccgcg ccgcgg cgcggt gcggta cggtaa ggtaat gtaata taatac aatacg atacgt tacgta acgtag cgtagg gtaggg tagggg aggggg gggggc ggggct gggcta ggctag gctagc ctagcg tagcgt agcgtt gcgtta cgttat gttatc ttatcc tatccg atccgg tccgga ccggaa cggaat ggaatt gaatta aattac attact ttactg tactgg actggg ctgggc tgggcg gggcgt ggcgta gcgtaa cgtaaa gtaaag taaagg aaaggg aagggg aggggt ggggtg gggtgc ggtgcg gtgcgt tgcgta gcgtag cgtagg gtaggt taggtg aggtgg ggtggt gtggtt tggttt ggtttc gtttct tttctt ttctta tcttaa cttaag ttaagt taagtc aagtca agtcag gtcaga tcagag cagagg agaggt gaggtg aggtga ggtgaa gtgaaa tgaaag gaaagg aaaggc aaggct aggcta ggctac gctacg ctacgg tacggc acggct cggctc ggctca gctcaa ctcaac tcaacc caaccg aaccgt accgta ccgtag cgtagt gtagta tagtaa agtaag gtaagc taagcc aagcct agcctt gccttt cctttg ctttga tttgaa ttgaaa tgaaac gaaact aaactg aactgg actggg ctggga tgggaa gggaaa ggaaac gaaact aaactt aacttg acttga cttgag ttgagt tgagtg gagtgc agtgca gtgcag tgcagg gcagga caggag aggaga ggagag gagagg agagga gaggag aggaga ggagag gagagt agagtg gagtgg agtgga gtggaa tggaat ggaatt gaattc aattcc attcct ttccta tcctag cctagt ctagtg tagtgt agtgta gtgtag tgtagc gtagcg tagcgg agcggt gcggtg cggtga ggtgaa gtgaaa tgaaat gaaatg aaatgc aatgcg atgcgt tgcgta gcgtag cgtaga gtagat tagata agatat gatatt atatta tattag attagg ttagga taggag aggagg ggagga gaggaa aggaac ggaaca gaacac aacacc acacca caccag accagt ccagtt cagttg agttgc gttgcg ttgcga tgcgaa gcgaag cgaagg gaaggc aaggcg aggcgg ggcggc gcggct cggctc ggctct gctctc ctctcg tctcgt ctcgtg tcgtga cgtgac gtgact tgactg gactgt actgta ctgtaa tgtaac gtaact taactg aactga actgac ctgaca tgacac gacact acactg cactga actgag ctgagg tgaggc gaggca aggcac ggcacg gcacga cacgaa acgaaa cgaaag gaaagc aaagcg aagcgt agcgtg gcgtgg cgtggg gtgggg tgggga ggggag gggagc ggagca gagcaa agcaaa gcaaac caaaca aaacag aacagg acagga caggat aggatt ggatta gattag attaga ttagat tagata agatac gatacc ataccc taccct accctg ccctgg cctggt ctggta tggtag ggtagt gtagt\n"
     ]
    }
   ],
   "source": [
    "print(text_data)"
   ]
  },
  {
   "cell_type": "markdown",
   "id": "c81d5786",
   "metadata": {},
   "source": [
    "## Now we will apply the BAG of WORDS using CountVectorizer using Natural Language Processing"
   ]
  },
  {
   "cell_type": "code",
   "execution_count": 14,
   "id": "45b3806d",
   "metadata": {},
   "outputs": [],
   "source": [
    "from sklearn.feature_extraction.text import CountVectorizer\n",
    "cv = CountVectorizer(ngram_range = (4,4))\n",
    "X = cv.fit_transform(text_data)"
   ]
  },
  {
   "cell_type": "code",
   "execution_count": 15,
   "id": "acb7d8f4",
   "metadata": {},
   "outputs": [
    {
     "name": "stdout",
     "output_type": "stream",
     "text": [
      "(3003, 51057)\n"
     ]
    }
   ],
   "source": [
    "print(X.shape)"
   ]
  },
  {
   "cell_type": "markdown",
   "id": "b3fef6ca",
   "metadata": {},
   "source": [
    "### Checking weather the dataset is balanced or not"
   ]
  },
  {
   "cell_type": "code",
   "execution_count": 16,
   "id": "8ec11a68",
   "metadata": {},
   "outputs": [
    {
     "data": {
      "text/plain": [
       "<AxesSubplot:>"
      ]
     },
     "execution_count": 16,
     "metadata": {},
     "output_type": "execute_result"
    },
    {
     "data": {
      "image/png": "[encoded data removed]",
      "text/plain": [
       "<Figure size 432x288 with 1 Axes>"
      ]
     },
     "metadata": {
      "needs_background": "light"
     },
     "output_type": "display_data"
    }
   ],
   "source": [
    "dataset['Prakruti'].value_counts().sort_index().plot.bar()"
   ]
  },
  {
   "cell_type": "code",
   "execution_count": 17,
   "id": "cd4c00ca",
   "metadata": {},
   "outputs": [],
   "source": [
    "from sklearn.model_selection import train_test_split\n",
    "X_train , X_test , y_train,y_test = train_test_split(X,y,test_size = 0.20,random_state=42)"
   ]
  },
  {
   "cell_type": "code",
   "execution_count": 18,
   "id": "9a5a567f",
   "metadata": {},
   "outputs": [
    {
     "name": "stdout",
     "output_type": "stream",
     "text": [
      "(2402, 51057)\n",
      "(601, 51057)\n"
     ]
    }
   ],
   "source": [
    "print(X_train.shape)\n",
    "print(X_test.shape)"
   ]
  },
  {
   "cell_type": "markdown",
   "id": "c5b125be",
   "metadata": {},
   "source": [
    "# Creating a multinomial naive Bayes classifier "
   ]
  },
  {
   "cell_type": "code",
   "execution_count": 19,
   "id": "7802b08f",
   "metadata": {},
   "outputs": [
    {
     "data": {
      "text/html": [
       "<style>#sk-container-id-1 {color: black;background-color: white;}#sk-container-id-1 pre{padding: 0;}#sk-container-id-1 div.sk-toggleable {background-color: white;}#sk-container-id-1 label.sk-toggleable__label {cursor: pointer;display: block;width: 100%;margin-bottom: 0;padding: 0.3em;box-sizing: border-box;text-align: center;}#sk-container-id-1 label.sk-toggleable__label-arrow:before {content: \"▸\";float: left;margin-right: 0.25em;color: #696969;}#sk-container-id-1 label.sk-toggleable__label-arrow:hover:before {color: black;}#sk-container-id-1 div.sk-estimator:hover label.sk-toggleable__label-arrow:before {color: black;}#sk-container-id-1 div.sk-toggleable__content {max-height: 0;max-width: 0;overflow: hidden;text-align: left;background-color: #f0f8ff;}#sk-container-id-1 div.sk-toggleable__content pre {margin: 0.2em;color: black;border-radius: 0.25em;background-color: #f0f8ff;}#sk-container-id-1 input.sk-toggleable__control:checked~div.sk-toggleable__content {max-height: 200px;max-width: 100%;overflow: auto;}#sk-container-id-1 input.sk-toggleable__control:checked~label.sk-toggleable__label-arrow:before {content: \"▾\";}#sk-container-id-1 div.sk-estimator input.sk-toggleable__control:checked~label.sk-toggleable__label {background-color: #d4ebff;}#sk-container-id-1 div.sk-label input.sk-toggleable__control:checked~label.sk-toggleable__label {background-color: #d4ebff;}#sk-container-id-1 input.sk-hidden--visually {border: 0;clip: rect(1px 1px 1px 1px);clip: rect(1px, 1px, 1px, 1px);height: 1px;margin: -1px;overflow: hidden;padding: 0;position: absolute;width: 1px;}#sk-container-id-1 div.sk-estimator {font-family: monospace;background-color: #f0f8ff;border: 1px dotted black;border-radius: 0.25em;box-sizing: border-box;margin-bottom: 0.5em;}#sk-container-id-1 div.sk-estimator:hover {background-color: #d4ebff;}#sk-container-id-1 div.sk-parallel-item::after {content: \"\";width: 100%;border-bottom: 1px solid gray;flex-grow: 1;}#sk-container-id-1 div.sk-label:hover label.sk-toggleable__label {background-color: #d4ebff;}#sk-container-id-1 div.sk-serial::before {content: \"\";position: absolute;border-left: 1px solid gray;box-sizing: border-box;top: 0;bottom: 0;left: 50%;z-index: 0;}#sk-container-id-1 div.sk-serial {display: flex;flex-direction: column;align-items: center;background-color: white;padding-right: 0.2em;padding-left: 0.2em;position: relative;}#sk-container-id-1 div.sk-item {position: relative;z-index: 1;}#sk-container-id-1 div.sk-parallel {display: flex;align-items: stretch;justify-content: center;background-color: white;position: relative;}#sk-container-id-1 div.sk-item::before, #sk-container-id-1 div.sk-parallel-item::before {content: \"\";position: absolute;border-left: 1px solid gray;box-sizing: border-box;top: 0;bottom: 0;left: 50%;z-index: -1;}#sk-container-id-1 div.sk-parallel-item {display: flex;flex-direction: column;z-index: 1;position: relative;background-color: white;}#sk-container-id-1 div.sk-parallel-item:first-child::after {align-self: flex-end;width: 50%;}#sk-container-id-1 div.sk-parallel-item:last-child::after {align-self: flex-start;width: 50%;}#sk-container-id-1 div.sk-parallel-item:only-child::after {width: 0;}#sk-container-id-1 div.sk-dashed-wrapped {border: 1px dashed gray;margin: 0 0.4em 0.5em 0.4em;box-sizing: border-box;padding-bottom: 0.4em;background-color: white;}#sk-container-id-1 div.sk-label label {font-family: monospace;font-weight: bold;display: inline-block;line-height: 1.2em;}#sk-container-id-1 div.sk-label-container {text-align: center;}#sk-container-id-1 div.sk-container {/* jupyter's `normalize.less` sets `[hidden] { display: none; }` but bootstrap.min.css set `[hidden] { display: none !important; }` so we also need the `!important` here to be able to override the default hidden behavior on the sphinx rendered scikit-learn.org. See: https://github.com/scikit-learn/scikit-learn/issues/21755 */display: inline-block !important;position: relative;}#sk-container-id-1 div.sk-text-repr-fallback {display: none;}</style><div id=\"sk-container-id-1\" class=\"sk-top-container\"><div class=\"sk-text-repr-fallback\"><pre>MultinomialNB(alpha=0.1)</pre><b>In a Jupyter environment, please rerun this cell to show the HTML representation or trust the notebook. <br />On GitHub, the HTML representation is unable to render, please try loading this page with nbviewer.org.</b></div><div class=\"sk-container\" hidden><div class=\"sk-item\"><div class=\"sk-estimator sk-toggleable\"><input class=\"sk-toggleable__control sk-hidden--visually\" id=\"sk-estimator-id-1\" type=\"checkbox\" checked><label for=\"sk-estimator-id-1\" class=\"sk-toggleable__label sk-toggleable__label-arrow\">MultinomialNB</label><div class=\"sk-toggleable__content\"><pre>MultinomialNB(alpha=0.1)</pre></div></div></div></div></div>"
      ],
      "text/plain": [
       "MultinomialNB(alpha=0.1)"
      ]
     },
     "execution_count": 19,
     "metadata": {},
     "output_type": "execute_result"
    }
   ],
   "source": [
    "from sklearn.naive_bayes import MultinomialNB\n",
    "classifier = MultinomialNB(alpha = 0.1)\n",
    "classifier.fit(X_train,y_train)"
   ]
  },
  {
   "cell_type": "code",
   "execution_count": 20,
   "id": "1b6fb605",
   "metadata": {},
   "outputs": [],
   "source": [
    "y_pred = classifier.predict(X_test)"
   ]
  },
  {
   "cell_type": "markdown",
   "id": "c5773997",
   "metadata": {},
   "source": [
    "## Checking Accuracy of Modal using some model performce metrics like the confusion matrix, accuracy, precision, recall and f1 score."
   ]
  },
  {
   "cell_type": "code",
   "execution_count": 21,
   "id": "108fb55f",
   "metadata": {},
   "outputs": [
    {
     "name": "stdout",
     "output_type": "stream",
     "text": [
      "Confusion matrix\n",
      "\n",
      "Predicted    0    1    2\n",
      "Actual                  \n",
      "0          153   29   13\n",
      "1            2  169   31\n",
      "2            4   24  176\n",
      "accuracy = 0.829 \n",
      "precision =0.840 \n",
      "recall =0.829 \n",
      "f1 =0.830\n"
     ]
    }
   ],
   "source": [
    "from sklearn.metrics import accuracy_score , f1_score , precision_score , recall_score , confusion_matrix, ConfusionMatrixDisplay , RocCurveDisplay \n",
    "print(\"Confusion matrix\\n\")\n",
    "print(pd.crosstab(pd.Series(y_test,name=\"Actual\"),pd.Series(y_pred,name=\"Predicted\")))\n",
    "def get_metrics(y_test,y_predicted):\n",
    "    accuracy = accuracy_score(y_test,y_predicted)\n",
    "    precision = precision_score(y_test,y_predicted,average=\"weighted\")\n",
    "    recall = recall_score(y_test,y_predicted,average=\"weighted\")\n",
    "    f1 = f1_score(y_test,y_predicted,average=\"weighted\")\n",
    "    return accuracy , precision,recall,f1\n",
    "acuracy,precision,recall,f1 = get_metrics(y_test,y_pred)\n",
    "print(\"accuracy = %.3f \\nprecision =%.3f \\nrecall =%.3f \\nf1 =%.3f\" % (acuracy,precision,recall,f1))"
   ]
  },
  {
   "cell_type": "markdown",
   "id": "90d6a25c",
   "metadata": {},
   "source": [
    "### Plotting Confusion Matrix of multinomial naive bayes classifier"
   ]
  },
  {
   "cell_type": "code",
   "execution_count": 22,
   "id": "0a3607a3",
   "metadata": {
    "scrolled": true
   },
   "outputs": [
    {
     "data": {
      "image/png": "[encoded data removed]",
      "text/plain": [
       "<Figure size 432x288 with 2 Axes>"
      ]
     },
     "metadata": {
      "needs_background": "light"
     },
     "output_type": "display_data"
    }
   ],
   "source": [
    "cm = confusion_matrix(y_test,y_pred)\n",
    "cmp = ConfusionMatrixDisplay(cm,display_labels=['Kapha','Pitta','Vata'])\n",
    "cmp = cmp.plot(cmap=\"Blues\")\n",
    "plt.show()"
   ]
  },
  {
   "cell_type": "markdown",
   "id": "74c28d67",
   "metadata": {},
   "source": [
    "### Traning and validation accuracy of multinomial naive bayes classifier"
   ]
  },
  {
   "cell_type": "code",
   "execution_count": 23,
   "id": "c47d2091",
   "metadata": {},
   "outputs": [
    {
     "data": {
      "image/png": "[encoded data removed]",
      "text/plain": [
       "<Figure size 432x288 with 1 Axes>"
      ]
     },
     "metadata": {
      "needs_background": "light"
     },
     "output_type": "display_data"
    }
   ],
   "source": [
    "from sklearn.model_selection import validation_curve\n",
    "\n",
    "parameter_range = np.arange(0.1, 1, 0.1)\n",
    "\n",
    "train_score, test_score = validation_curve(MultinomialNB(), X, y,\n",
    "                                       param_name = \"alpha\",\n",
    "                                       param_range = parameter_range,\n",
    "                                        cv = 5, scoring = \"accuracy\")\n",
    " \n",
    "# Calculating mean and standard deviation of training score\n",
    "mean_train_score = np.mean(train_score, axis = 1)\n",
    "std_train_score = np.std(train_score, axis = 1)\n",
    " \n",
    "# Calculating mean and standard deviation of testing score\n",
    "mean_test_score = np.mean(test_score, axis = 1)\n",
    "std_test_score = np.std(test_score, axis = 1)\n",
    " \n",
    "# Plot mean accuracy scores for training and testing scores\n",
    "plt.plot(parameter_range, mean_train_score,\n",
    "     label = \"Training Accuracy\", color = 'b')\n",
    "plt.plot(parameter_range, mean_test_score,\n",
    "   label = \"Validation Accuracy\", color = 'g')\n",
    " \n",
    "# Creating the plot\n",
    "plt.title(\"Accuracy Curve with Multinomial Naive Bayes Classifier\")\n",
    "plt.xlabel(\"alpha\")\n",
    "plt.ylabel(\"Accuracy\")\n",
    "plt.tight_layout()\n",
    "plt.legend(loc = 'best')\n",
    "plt.show() "
   ]
  },
  {
   "cell_type": "markdown",
   "id": "ddb767d5",
   "metadata": {},
   "source": [
    "# Creating a k_nearest_neighbors classifier"
   ]
  },
  {
   "cell_type": "code",
   "execution_count": 152,
   "id": "990c6b2c",
   "metadata": {},
   "outputs": [
    {
     "data": {
      "text/html": [
       "<style>#sk-container-id-11 {color: black;background-color: white;}#sk-container-id-11 pre{padding: 0;}#sk-container-id-11 div.sk-toggleable {background-color: white;}#sk-container-id-11 label.sk-toggleable__label {cursor: pointer;display: block;width: 100%;margin-bottom: 0;padding: 0.3em;box-sizing: border-box;text-align: center;}#sk-container-id-11 label.sk-toggleable__label-arrow:before {content: \"▸\";float: left;margin-right: 0.25em;color: #696969;}#sk-container-id-11 label.sk-toggleable__label-arrow:hover:before {color: black;}#sk-container-id-11 div.sk-estimator:hover label.sk-toggleable__label-arrow:before {color: black;}#sk-container-id-11 div.sk-toggleable__content {max-height: 0;max-width: 0;overflow: hidden;text-align: left;background-color: #f0f8ff;}#sk-container-id-11 div.sk-toggleable__content pre {margin: 0.2em;color: black;border-radius: 0.25em;background-color: #f0f8ff;}#sk-container-id-11 input.sk-toggleable__control:checked~div.sk-toggleable__content {max-height: 200px;max-width: 100%;overflow: auto;}#sk-container-id-11 input.sk-toggleable__control:checked~label.sk-toggleable__label-arrow:before {content: \"▾\";}#sk-container-id-11 div.sk-estimator input.sk-toggleable__control:checked~label.sk-toggleable__label {background-color: #d4ebff;}#sk-container-id-11 div.sk-label input.sk-toggleable__control:checked~label.sk-toggleable__label {background-color: #d4ebff;}#sk-container-id-11 input.sk-hidden--visually {border: 0;clip: rect(1px 1px 1px 1px);clip: rect(1px, 1px, 1px, 1px);height: 1px;margin: -1px;overflow: hidden;padding: 0;position: absolute;width: 1px;}#sk-container-id-11 div.sk-estimator {font-family: monospace;background-color: #f0f8ff;border: 1px dotted black;border-radius: 0.25em;box-sizing: border-box;margin-bottom: 0.5em;}#sk-container-id-11 div.sk-estimator:hover {background-color: #d4ebff;}#sk-container-id-11 div.sk-parallel-item::after {content: \"\";width: 100%;border-bottom: 1px solid gray;flex-grow: 1;}#sk-container-id-11 div.sk-label:hover label.sk-toggleable__label {background-color: #d4ebff;}#sk-container-id-11 div.sk-serial::before {content: \"\";position: absolute;border-left: 1px solid gray;box-sizing: border-box;top: 0;bottom: 0;left: 50%;z-index: 0;}#sk-container-id-11 div.sk-serial {display: flex;flex-direction: column;align-items: center;background-color: white;padding-right: 0.2em;padding-left: 0.2em;position: relative;}#sk-container-id-11 div.sk-item {position: relative;z-index: 1;}#sk-container-id-11 div.sk-parallel {display: flex;align-items: stretch;justify-content: center;background-color: white;position: relative;}#sk-container-id-11 div.sk-item::before, #sk-container-id-11 div.sk-parallel-item::before {content: \"\";position: absolute;border-left: 1px solid gray;box-sizing: border-box;top: 0;bottom: 0;left: 50%;z-index: -1;}#sk-container-id-11 div.sk-parallel-item {display: flex;flex-direction: column;z-index: 1;position: relative;background-color: white;}#sk-container-id-11 div.sk-parallel-item:first-child::after {align-self: flex-end;width: 50%;}#sk-container-id-11 div.sk-parallel-item:last-child::after {align-self: flex-start;width: 50%;}#sk-container-id-11 div.sk-parallel-item:only-child::after {width: 0;}#sk-container-id-11 div.sk-dashed-wrapped {border: 1px dashed gray;margin: 0 0.4em 0.5em 0.4em;box-sizing: border-box;padding-bottom: 0.4em;background-color: white;}#sk-container-id-11 div.sk-label label {font-family: monospace;font-weight: bold;display: inline-block;line-height: 1.2em;}#sk-container-id-11 div.sk-label-container {text-align: center;}#sk-container-id-11 div.sk-container {/* jupyter's `normalize.less` sets `[hidden] { display: none; }` but bootstrap.min.css set `[hidden] { display: none !important; }` so we also need the `!important` here to be able to override the default hidden behavior on the sphinx rendered scikit-learn.org. See: https://github.com/scikit-learn/scikit-learn/issues/21755 */display: inline-block !important;position: relative;}#sk-container-id-11 div.sk-text-repr-fallback {display: none;}</style><div id=\"sk-container-id-11\" class=\"sk-top-container\"><div class=\"sk-text-repr-fallback\"><pre>KNeighborsClassifier()</pre><b>In a Jupyter environment, please rerun this cell to show the HTML representation or trust the notebook. <br />On GitHub, the HTML representation is unable to render, please try loading this page with nbviewer.org.</b></div><div class=\"sk-container\" hidden><div class=\"sk-item\"><div class=\"sk-estimator sk-toggleable\"><input class=\"sk-toggleable__control sk-hidden--visually\" id=\"sk-estimator-id-11\" type=\"checkbox\" checked><label for=\"sk-estimator-id-11\" class=\"sk-toggleable__label sk-toggleable__label-arrow\">KNeighborsClassifier</label><div class=\"sk-toggleable__content\"><pre>KNeighborsClassifier()</pre></div></div></div></div></div>"
      ],
      "text/plain": [
       "KNeighborsClassifier()"
      ]
     },
     "execution_count": 152,
     "metadata": {},
     "output_type": "execute_result"
    }
   ],
   "source": [
    "from sklearn.neighbors import KNeighborsClassifier\n",
    "classifier = KNeighborsClassifier(n_neighbors=5,metric = 'minkowski',p = 2)\n",
    "classifier.fit(X_train,y_train)"
   ]
  },
  {
   "cell_type": "code",
   "execution_count": 153,
   "id": "49f03d04",
   "metadata": {},
   "outputs": [],
   "source": [
    "y_pred = classifier.predict(X_test)"
   ]
  },
  {
   "cell_type": "code",
   "execution_count": 154,
   "id": "336217d8",
   "metadata": {},
   "outputs": [
    {
     "name": "stdout",
     "output_type": "stream",
     "text": [
      "Confusion matrix\n",
      "\n",
      "Predicted    0    1    2\n",
      "Actual                  \n",
      "0          188    6    4\n",
      "1            8  189    2\n",
      "2           11    5  188\n",
      "accuracy = 0.940 \n",
      "precision =0.941 \n",
      "recall =0.940 \n",
      "f1 =0.940\n"
     ]
    }
   ],
   "source": [
    "print(\"Confusion matrix\\n\")\n",
    "print(pd.crosstab(pd.Series(y_test,name=\"Actual\"),pd.Series(y_pred,name=\"Predicted\")))\n",
    "acuracy,precision,recall,f1 = get_metrics(y_test,y_pred)\n",
    "print(\"accuracy = %.3f \\nprecision =%.3f \\nrecall =%.3f \\nf1 =%.3f\" % (acuracy,precision,recall,f1))"
   ]
  },
  {
   "cell_type": "markdown",
   "id": "32e24ec2",
   "metadata": {},
   "source": [
    "### Plotting Confusion Matrix of k_nearest_neighbors classifier"
   ]
  },
  {
   "cell_type": "code",
   "execution_count": 155,
   "id": "5c3c6b9d",
   "metadata": {},
   "outputs": [
    {
     "data": {
      "image/png": "[encoded data removed]",
      "text/plain": [
       "<Figure size 432x288 with 2 Axes>"
      ]
     },
     "metadata": {
      "needs_background": "light"
     },
     "output_type": "display_data"
    }
   ],
   "source": [
    "cm = confusion_matrix(y_test,y_pred)\n",
    "cmp = ConfusionMatrixDisplay(cm,display_labels=['Kapha','Pitta','Vata'])\n",
    "cmp = cmp.plot(cmap=\"Blues\")\n",
    "plt.show()"
   ]
  },
  {
   "cell_type": "markdown",
   "id": "43250925",
   "metadata": {},
   "source": [
    "### Traning and validation accuracy of k_nearest_neighbors classifier"
   ]
  },
  {
   "cell_type": "code",
   "execution_count": 157,
   "id": "e415e361",
   "metadata": {},
   "outputs": [
    {
     "data": {
      "image/png": "[encoded data removed]",
      "text/plain": [
       "<Figure size 432x288 with 1 Axes>"
      ]
     },
     "metadata": {
      "needs_background": "light"
     },
     "output_type": "display_data"
    }
   ],
   "source": [
    "parameter_range = np.arange(3, 6, 1)\n",
    "\n",
    "train_score, test_score = validation_curve(KNeighborsClassifier(metric = 'minkowski',p = 2), X, y,\n",
    "                                       param_name = \"n_neighbors\",\n",
    "                                       param_range = parameter_range,\n",
    "                                        cv = 5, scoring = \"accuracy\")\n",
    " \n",
    "# Calculating mean and standard deviation of training score\n",
    "mean_train_score = np.mean(train_score, axis = 1)\n",
    "std_train_score = np.std(train_score, axis = 1)\n",
    " \n",
    "# Calculating mean and standard deviation of testing score\n",
    "mean_test_score = np.mean(test_score, axis = 1)\n",
    "std_test_score = np.std(test_score, axis = 1)\n",
    " \n",
    "# Plot mean accuracy scores for training and testing scores\n",
    "plt.plot(parameter_range, mean_train_score,\n",
    "     label = \"Training Accuracy\", color = 'b')\n",
    "plt.plot(parameter_range, mean_test_score,\n",
    "   label = \"Validation Accuracy\", color = 'g')\n",
    " \n",
    "# Creating the plot\n",
    "plt.title(\"Accuracy Curve with k_nearest_neighbors Classifier\")\n",
    "plt.xlabel(\"n neighbors\")\n",
    "plt.ylabel(\"Accuracy\")\n",
    "plt.tight_layout()\n",
    "plt.legend(loc = 'best')\n",
    "plt.show() "
   ]
  },
  {
   "cell_type": "markdown",
   "id": "5524d17f",
   "metadata": {},
   "source": [
    "###  Creating a support_vector_machine classifier"
   ]
  },
  {
   "cell_type": "code",
   "execution_count": 72,
   "id": "e217677b",
   "metadata": {},
   "outputs": [
    {
     "data": {
      "text/html": [
       "<style>#sk-container-id-6 {color: black;background-color: white;}#sk-container-id-6 pre{padding: 0;}#sk-container-id-6 div.sk-toggleable {background-color: white;}#sk-container-id-6 label.sk-toggleable__label {cursor: pointer;display: block;width: 100%;margin-bottom: 0;padding: 0.3em;box-sizing: border-box;text-align: center;}#sk-container-id-6 label.sk-toggleable__label-arrow:before {content: \"▸\";float: left;margin-right: 0.25em;color: #696969;}#sk-container-id-6 label.sk-toggleable__label-arrow:hover:before {color: black;}#sk-container-id-6 div.sk-estimator:hover label.sk-toggleable__label-arrow:before {color: black;}#sk-container-id-6 div.sk-toggleable__content {max-height: 0;max-width: 0;overflow: hidden;text-align: left;background-color: #f0f8ff;}#sk-container-id-6 div.sk-toggleable__content pre {margin: 0.2em;color: black;border-radius: 0.25em;background-color: #f0f8ff;}#sk-container-id-6 input.sk-toggleable__control:checked~div.sk-toggleable__content {max-height: 200px;max-width: 100%;overflow: auto;}#sk-container-id-6 input.sk-toggleable__control:checked~label.sk-toggleable__label-arrow:before {content: \"▾\";}#sk-container-id-6 div.sk-estimator input.sk-toggleable__control:checked~label.sk-toggleable__label {background-color: #d4ebff;}#sk-container-id-6 div.sk-label input.sk-toggleable__control:checked~label.sk-toggleable__label {background-color: #d4ebff;}#sk-container-id-6 input.sk-hidden--visually {border: 0;clip: rect(1px 1px 1px 1px);clip: rect(1px, 1px, 1px, 1px);height: 1px;margin: -1px;overflow: hidden;padding: 0;position: absolute;width: 1px;}#sk-container-id-6 div.sk-estimator {font-family: monospace;background-color: #f0f8ff;border: 1px dotted black;border-radius: 0.25em;box-sizing: border-box;margin-bottom: 0.5em;}#sk-container-id-6 div.sk-estimator:hover {background-color: #d4ebff;}#sk-container-id-6 div.sk-parallel-item::after {content: \"\";width: 100%;border-bottom: 1px solid gray;flex-grow: 1;}#sk-container-id-6 div.sk-label:hover label.sk-toggleable__label {background-color: #d4ebff;}#sk-container-id-6 div.sk-serial::before {content: \"\";position: absolute;border-left: 1px solid gray;box-sizing: border-box;top: 0;bottom: 0;left: 50%;z-index: 0;}#sk-container-id-6 div.sk-serial {display: flex;flex-direction: column;align-items: center;background-color: white;padding-right: 0.2em;padding-left: 0.2em;position: relative;}#sk-container-id-6 div.sk-item {position: relative;z-index: 1;}#sk-container-id-6 div.sk-parallel {display: flex;align-items: stretch;justify-content: center;background-color: white;position: relative;}#sk-container-id-6 div.sk-item::before, #sk-container-id-6 div.sk-parallel-item::before {content: \"\";position: absolute;border-left: 1px solid gray;box-sizing: border-box;top: 0;bottom: 0;left: 50%;z-index: -1;}#sk-container-id-6 div.sk-parallel-item {display: flex;flex-direction: column;z-index: 1;position: relative;background-color: white;}#sk-container-id-6 div.sk-parallel-item:first-child::after {align-self: flex-end;width: 50%;}#sk-container-id-6 div.sk-parallel-item:last-child::after {align-self: flex-start;width: 50%;}#sk-container-id-6 div.sk-parallel-item:only-child::after {width: 0;}#sk-container-id-6 div.sk-dashed-wrapped {border: 1px dashed gray;margin: 0 0.4em 0.5em 0.4em;box-sizing: border-box;padding-bottom: 0.4em;background-color: white;}#sk-container-id-6 div.sk-label label {font-family: monospace;font-weight: bold;display: inline-block;line-height: 1.2em;}#sk-container-id-6 div.sk-label-container {text-align: center;}#sk-container-id-6 div.sk-container {/* jupyter's `normalize.less` sets `[hidden] { display: none; }` but bootstrap.min.css set `[hidden] { display: none !important; }` so we also need the `!important` here to be able to override the default hidden behavior on the sphinx rendered scikit-learn.org. See: https://github.com/scikit-learn/scikit-learn/issues/21755 */display: inline-block !important;position: relative;}#sk-container-id-6 div.sk-text-repr-fallback {display: none;}</style><div id=\"sk-container-id-6\" class=\"sk-top-container\"><div class=\"sk-text-repr-fallback\"><pre>SVC(probability=True, random_state=0)</pre><b>In a Jupyter environment, please rerun this cell to show the HTML representation or trust the notebook. <br />On GitHub, the HTML representation is unable to render, please try loading this page with nbviewer.org.</b></div><div class=\"sk-container\" hidden><div class=\"sk-item\"><div class=\"sk-estimator sk-toggleable\"><input class=\"sk-toggleable__control sk-hidden--visually\" id=\"sk-estimator-id-6\" type=\"checkbox\" checked><label for=\"sk-estimator-id-6\" class=\"sk-toggleable__label sk-toggleable__label-arrow\">SVC</label><div class=\"sk-toggleable__content\"><pre>SVC(probability=True, random_state=0)</pre></div></div></div></div></div>"
      ],
      "text/plain": [
       "SVC(probability=True, random_state=0)"
      ]
     },
     "execution_count": 72,
     "metadata": {},
     "output_type": "execute_result"
    }
   ],
   "source": [
    "from sklearn.svm import SVC\n",
    "classifier = SVC(kernel = 'rbf',random_state=0,probability=True)\n",
    "classifier.fit(X_train,y_train)"
   ]
  },
  {
   "cell_type": "code",
   "execution_count": 69,
   "id": "dfd0378e",
   "metadata": {},
   "outputs": [],
   "source": [
    "y_pred = classifier.predict(X_test)"
   ]
  },
  {
   "cell_type": "code",
   "execution_count": 27,
   "id": "f2ca0f35",
   "metadata": {},
   "outputs": [
    {
     "name": "stdout",
     "output_type": "stream",
     "text": [
      "Confusion matrix\n",
      "\n",
      "Predicted    0    1    2\n",
      "Actual                  \n",
      "0          199   10    3\n",
      "1            4  180    3\n",
      "2           10    9  183\n",
      "accuracy = 0.935 \n",
      "precision =0.936 \n",
      "recall =0.935 \n",
      "f1 =0.935\n"
     ]
    }
   ],
   "source": [
    "print(\"Confusion matrix\\n\")\n",
    "print(pd.crosstab(pd.Series(y_test,name=\"Actual\"),pd.Series(y_pred,name=\"Predicted\")))\n",
    "acuracy,precision,recall,f1 = get_metrics(y_test,y_pred)\n",
    "print(\"accuracy = %.3f \\nprecision =%.3f \\nrecall =%.3f \\nf1 =%.3f\" % (acuracy,precision,recall,f1))"
   ]
  },
  {
   "cell_type": "markdown",
   "id": "b386877a",
   "metadata": {},
   "source": [
    "### Plotting Confusion Matrix of support_vector_machine classifier "
   ]
  },
  {
   "cell_type": "code",
   "execution_count": 28,
   "id": "d5cb6dec",
   "metadata": {},
   "outputs": [
    {
     "data": {
      "image/png": "[encoded data removed]",
      "text/plain": [
       "<Figure size 432x288 with 2 Axes>"
      ]
     },
     "metadata": {
      "needs_background": "light"
     },
     "output_type": "display_data"
    }
   ],
   "source": [
    "cm = confusion_matrix(y_test,y_pred)\n",
    "cmp = ConfusionMatrixDisplay(cm,display_labels=['Kapha','Pitta','Vata'])\n",
    "cmp = cmp.plot(cmap=\"Blues\")\n",
    "plt.show()"
   ]
  },
  {
   "cell_type": "markdown",
   "id": "4d65b7f4",
   "metadata": {},
   "source": [
    "### Traning and validation accuracy of support_vector_machine classifier "
   ]
  },
  {
   "cell_type": "code",
   "execution_count": null,
   "id": "ca56680f",
   "metadata": {},
   "outputs": [],
   "source": [
    "parameter_range = [\"linear\", \"poly\", \"rbf\"]\n",
    "\n",
    "train_score, test_score = validation_curve(SVC(random_state=0), X, y,\n",
    "                                       param_name = \"kernel\",\n",
    "                                       param_range = parameter_range,\n",
    "                                        cv = 5, scoring = \"accuracy\")\n",
    " \n",
    "# Calculating mean and standard deviation of training score\n",
    "mean_train_score = np.mean(train_score, axis = 1)\n",
    "std_train_score = np.std(train_score, axis = 1)\n",
    " \n",
    "# Calculating mean and standard deviation of testing score\n",
    "mean_test_score = np.mean(test_score, axis = 1)\n",
    "std_test_score = np.std(test_score, axis = 1)\n",
    " \n",
    "# Plot mean accuracy scores for training and testing scores\n",
    "plt.plot(parameter_range, mean_train_score,\n",
    "     label = \"Training Accuracy\", color = 'b')\n",
    "plt.plot(parameter_range, mean_test_score,\n",
    "   label = \"Validation Accuracy\", color = 'g')\n",
    " \n",
    "# Creating the plot\n",
    "plt.title(\"Accuracy Curve with support_vector_machine classifier\")\n",
    "plt.xlabel(\"kernel\")\n",
    "plt.ylabel(\"Accuracy\")\n",
    "plt.tight_layout()\n",
    "plt.legend(loc = 'best')\n",
    "plt.show() "
   ]
  },
  {
   "cell_type": "markdown",
   "id": "2435c345",
   "metadata": {},
   "source": [
    "### Creating a decision_tree classifier"
   ]
  },
  {
   "cell_type": "code",
   "execution_count": 29,
   "id": "1d405aa9",
   "metadata": {},
   "outputs": [
    {
     "data": {
      "text/html": [
       "<style>#sk-container-id-3 {color: black;background-color: white;}#sk-container-id-3 pre{padding: 0;}#sk-container-id-3 div.sk-toggleable {background-color: white;}#sk-container-id-3 label.sk-toggleable__label {cursor: pointer;display: block;width: 100%;margin-bottom: 0;padding: 0.3em;box-sizing: border-box;text-align: center;}#sk-container-id-3 label.sk-toggleable__label-arrow:before {content: \"▸\";float: left;margin-right: 0.25em;color: #696969;}#sk-container-id-3 label.sk-toggleable__label-arrow:hover:before {color: black;}#sk-container-id-3 div.sk-estimator:hover label.sk-toggleable__label-arrow:before {color: black;}#sk-container-id-3 div.sk-toggleable__content {max-height: 0;max-width: 0;overflow: hidden;text-align: left;background-color: #f0f8ff;}#sk-container-id-3 div.sk-toggleable__content pre {margin: 0.2em;color: black;border-radius: 0.25em;background-color: #f0f8ff;}#sk-container-id-3 input.sk-toggleable__control:checked~div.sk-toggleable__content {max-height: 200px;max-width: 100%;overflow: auto;}#sk-container-id-3 input.sk-toggleable__control:checked~label.sk-toggleable__label-arrow:before {content: \"▾\";}#sk-container-id-3 div.sk-estimator input.sk-toggleable__control:checked~label.sk-toggleable__label {background-color: #d4ebff;}#sk-container-id-3 div.sk-label input.sk-toggleable__control:checked~label.sk-toggleable__label {background-color: #d4ebff;}#sk-container-id-3 input.sk-hidden--visually {border: 0;clip: rect(1px 1px 1px 1px);clip: rect(1px, 1px, 1px, 1px);height: 1px;margin: -1px;overflow: hidden;padding: 0;position: absolute;width: 1px;}#sk-container-id-3 div.sk-estimator {font-family: monospace;background-color: #f0f8ff;border: 1px dotted black;border-radius: 0.25em;box-sizing: border-box;margin-bottom: 0.5em;}#sk-container-id-3 div.sk-estimator:hover {background-color: #d4ebff;}#sk-container-id-3 div.sk-parallel-item::after {content: \"\";width: 100%;border-bottom: 1px solid gray;flex-grow: 1;}#sk-container-id-3 div.sk-label:hover label.sk-toggleable__label {background-color: #d4ebff;}#sk-container-id-3 div.sk-serial::before {content: \"\";position: absolute;border-left: 1px solid gray;box-sizing: border-box;top: 0;bottom: 0;left: 50%;z-index: 0;}#sk-container-id-3 div.sk-serial {display: flex;flex-direction: column;align-items: center;background-color: white;padding-right: 0.2em;padding-left: 0.2em;position: relative;}#sk-container-id-3 div.sk-item {position: relative;z-index: 1;}#sk-container-id-3 div.sk-parallel {display: flex;align-items: stretch;justify-content: center;background-color: white;position: relative;}#sk-container-id-3 div.sk-item::before, #sk-container-id-3 div.sk-parallel-item::before {content: \"\";position: absolute;border-left: 1px solid gray;box-sizing: border-box;top: 0;bottom: 0;left: 50%;z-index: -1;}#sk-container-id-3 div.sk-parallel-item {display: flex;flex-direction: column;z-index: 1;position: relative;background-color: white;}#sk-container-id-3 div.sk-parallel-item:first-child::after {align-self: flex-end;width: 50%;}#sk-container-id-3 div.sk-parallel-item:last-child::after {align-self: flex-start;width: 50%;}#sk-container-id-3 div.sk-parallel-item:only-child::after {width: 0;}#sk-container-id-3 div.sk-dashed-wrapped {border: 1px dashed gray;margin: 0 0.4em 0.5em 0.4em;box-sizing: border-box;padding-bottom: 0.4em;background-color: white;}#sk-container-id-3 div.sk-label label {font-family: monospace;font-weight: bold;display: inline-block;line-height: 1.2em;}#sk-container-id-3 div.sk-label-container {text-align: center;}#sk-container-id-3 div.sk-container {/* jupyter's `normalize.less` sets `[hidden] { display: none; }` but bootstrap.min.css set `[hidden] { display: none !important; }` so we also need the `!important` here to be able to override the default hidden behavior on the sphinx rendered scikit-learn.org. See: https://github.com/scikit-learn/scikit-learn/issues/21755 */display: inline-block !important;position: relative;}#sk-container-id-3 div.sk-text-repr-fallback {display: none;}</style><div id=\"sk-container-id-3\" class=\"sk-top-container\"><div class=\"sk-text-repr-fallback\"><pre>DecisionTreeClassifier(criterion=&#x27;entropy&#x27;, random_state=0)</pre><b>In a Jupyter environment, please rerun this cell to show the HTML representation or trust the notebook. <br />On GitHub, the HTML representation is unable to render, please try loading this page with nbviewer.org.</b></div><div class=\"sk-container\" hidden><div class=\"sk-item\"><div class=\"sk-estimator sk-toggleable\"><input class=\"sk-toggleable__control sk-hidden--visually\" id=\"sk-estimator-id-3\" type=\"checkbox\" checked><label for=\"sk-estimator-id-3\" class=\"sk-toggleable__label sk-toggleable__label-arrow\">DecisionTreeClassifier</label><div class=\"sk-toggleable__content\"><pre>DecisionTreeClassifier(criterion=&#x27;entropy&#x27;, random_state=0)</pre></div></div></div></div></div>"
      ],
      "text/plain": [
       "DecisionTreeClassifier(criterion='entropy', random_state=0)"
      ]
     },
     "execution_count": 29,
     "metadata": {},
     "output_type": "execute_result"
    }
   ],
   "source": [
    "from sklearn.tree import DecisionTreeClassifier\n",
    "classifier = DecisionTreeClassifier(criterion = 'entropy',random_state=0)\n",
    "classifier.fit(X_train,y_train)"
   ]
  },
  {
   "cell_type": "code",
   "execution_count": 30,
   "id": "a11adc9e",
   "metadata": {},
   "outputs": [],
   "source": [
    "y_pred = classifier.predict(X_test)"
   ]
  },
  {
   "cell_type": "code",
   "execution_count": 31,
   "id": "2a0d51c3",
   "metadata": {},
   "outputs": [
    {
     "name": "stdout",
     "output_type": "stream",
     "text": [
      "Confusion matrix\n",
      "\n",
      "Predicted    0    1    2\n",
      "Actual                  \n",
      "0          200    3    9\n",
      "1            7  175    5\n",
      "2           12   10  180\n",
      "accuracy = 0.923 \n",
      "precision =0.924 \n",
      "recall =0.923 \n",
      "f1 =0.923\n"
     ]
    }
   ],
   "source": [
    "print(\"Confusion matrix\\n\")\n",
    "print(pd.crosstab(pd.Series(y_test,name=\"Actual\"),pd.Series(y_pred,name=\"Predicted\")))\n",
    "acuracy,precision,recall,f1 = get_metrics(y_test,y_pred)\n",
    "print(\"accuracy = %.3f \\nprecision =%.3f \\nrecall =%.3f \\nf1 =%.3f\" % (acuracy,precision,recall,f1))"
   ]
  },
  {
   "cell_type": "markdown",
   "id": "201b5d26",
   "metadata": {},
   "source": [
    "### Plotting Confusion Matrix of decision_tree classifier"
   ]
  },
  {
   "cell_type": "code",
   "execution_count": 32,
   "id": "c32a98d6",
   "metadata": {},
   "outputs": [
    {
     "data": {
      "image/png": "[encoded data removed]",
      "text/plain": [
       "<Figure size 432x288 with 2 Axes>"
      ]
     },
     "metadata": {
      "needs_background": "light"
     },
     "output_type": "display_data"
    }
   ],
   "source": [
    "cm = confusion_matrix(y_test,y_pred)\n",
    "cmp = ConfusionMatrixDisplay(cm,display_labels=['Kapha','Pitta','Vata'])\n",
    "cmp = cmp.plot(cmap=\"Blues\")\n",
    "plt.show()"
   ]
  },
  {
   "cell_type": "markdown",
   "id": "f695b17f",
   "metadata": {},
   "source": [
    "### Traning and validation accuracy of decision_tree classifier"
   ]
  },
  {
   "cell_type": "code",
   "execution_count": 33,
   "id": "c30605f1",
   "metadata": {},
   "outputs": [
    {
     "data": {
      "image/png": "[encoded data removed]",
      "text/plain": [
       "<Figure size 432x288 with 1 Axes>"
      ]
     },
     "metadata": {
      "needs_background": "light"
     },
     "output_type": "display_data"
    }
   ],
   "source": [
    "parameter_range = [\"gini\", \"entropy\", \"log_loss\"]\n",
    "\n",
    "train_score, test_score = validation_curve(DecisionTreeClassifier(random_state=0), X, y,\n",
    "                                       param_name = \"criterion\",\n",
    "                                       param_range = parameter_range,\n",
    "                                        cv = 5, scoring = \"accuracy\")\n",
    " \n",
    "# Calculating mean and standard deviation of training score\n",
    "mean_train_score = np.mean(train_score, axis = 1)\n",
    "std_train_score = np.std(train_score, axis = 1)\n",
    " \n",
    "# Calculating mean and standard deviation of testing score\n",
    "mean_test_score = np.mean(test_score, axis = 1)\n",
    "std_test_score = np.std(test_score, axis = 1)\n",
    " \n",
    "# Plot mean accuracy scores for training and testing scores\n",
    "plt.plot(parameter_range, mean_train_score,\n",
    "     label = \"Training Accuracy\", color = 'b')\n",
    "plt.plot(parameter_range, mean_test_score,\n",
    "   label = \"Validation Accuracy\", color = 'g')\n",
    " \n",
    "# Creating the plot\n",
    "plt.title(\"Accuracy Curve with decision_tree classifier\")\n",
    "plt.xlabel(\"criterion\")\n",
    "plt.ylabel(\"Accuracy\")\n",
    "plt.tight_layout()\n",
    "plt.legend(loc = 'best')\n",
    "plt.show() "
   ]
  },
  {
   "cell_type": "markdown",
   "id": "2fd75ed0",
   "metadata": {},
   "source": [
    "### Creating a random_forest classifier "
   ]
  },
  {
   "cell_type": "code",
   "execution_count": 98,
   "id": "9d299649",
   "metadata": {},
   "outputs": [
    {
     "data": {
      "text/html": [
       "<style>#sk-container-id-8 {color: black;background-color: white;}#sk-container-id-8 pre{padding: 0;}#sk-container-id-8 div.sk-toggleable {background-color: white;}#sk-container-id-8 label.sk-toggleable__label {cursor: pointer;display: block;width: 100%;margin-bottom: 0;padding: 0.3em;box-sizing: border-box;text-align: center;}#sk-container-id-8 label.sk-toggleable__label-arrow:before {content: \"▸\";float: left;margin-right: 0.25em;color: #696969;}#sk-container-id-8 label.sk-toggleable__label-arrow:hover:before {color: black;}#sk-container-id-8 div.sk-estimator:hover label.sk-toggleable__label-arrow:before {color: black;}#sk-container-id-8 div.sk-toggleable__content {max-height: 0;max-width: 0;overflow: hidden;text-align: left;background-color: #f0f8ff;}#sk-container-id-8 div.sk-toggleable__content pre {margin: 0.2em;color: black;border-radius: 0.25em;background-color: #f0f8ff;}#sk-container-id-8 input.sk-toggleable__control:checked~div.sk-toggleable__content {max-height: 200px;max-width: 100%;overflow: auto;}#sk-container-id-8 input.sk-toggleable__control:checked~label.sk-toggleable__label-arrow:before {content: \"▾\";}#sk-container-id-8 div.sk-estimator input.sk-toggleable__control:checked~label.sk-toggleable__label {background-color: #d4ebff;}#sk-container-id-8 div.sk-label input.sk-toggleable__control:checked~label.sk-toggleable__label {background-color: #d4ebff;}#sk-container-id-8 input.sk-hidden--visually {border: 0;clip: rect(1px 1px 1px 1px);clip: rect(1px, 1px, 1px, 1px);height: 1px;margin: -1px;overflow: hidden;padding: 0;position: absolute;width: 1px;}#sk-container-id-8 div.sk-estimator {font-family: monospace;background-color: #f0f8ff;border: 1px dotted black;border-radius: 0.25em;box-sizing: border-box;margin-bottom: 0.5em;}#sk-container-id-8 div.sk-estimator:hover {background-color: #d4ebff;}#sk-container-id-8 div.sk-parallel-item::after {content: \"\";width: 100%;border-bottom: 1px solid gray;flex-grow: 1;}#sk-container-id-8 div.sk-label:hover label.sk-toggleable__label {background-color: #d4ebff;}#sk-container-id-8 div.sk-serial::before {content: \"\";position: absolute;border-left: 1px solid gray;box-sizing: border-box;top: 0;bottom: 0;left: 50%;z-index: 0;}#sk-container-id-8 div.sk-serial {display: flex;flex-direction: column;align-items: center;background-color: white;padding-right: 0.2em;padding-left: 0.2em;position: relative;}#sk-container-id-8 div.sk-item {position: relative;z-index: 1;}#sk-container-id-8 div.sk-parallel {display: flex;align-items: stretch;justify-content: center;background-color: white;position: relative;}#sk-container-id-8 div.sk-item::before, #sk-container-id-8 div.sk-parallel-item::before {content: \"\";position: absolute;border-left: 1px solid gray;box-sizing: border-box;top: 0;bottom: 0;left: 50%;z-index: -1;}#sk-container-id-8 div.sk-parallel-item {display: flex;flex-direction: column;z-index: 1;position: relative;background-color: white;}#sk-container-id-8 div.sk-parallel-item:first-child::after {align-self: flex-end;width: 50%;}#sk-container-id-8 div.sk-parallel-item:last-child::after {align-self: flex-start;width: 50%;}#sk-container-id-8 div.sk-parallel-item:only-child::after {width: 0;}#sk-container-id-8 div.sk-dashed-wrapped {border: 1px dashed gray;margin: 0 0.4em 0.5em 0.4em;box-sizing: border-box;padding-bottom: 0.4em;background-color: white;}#sk-container-id-8 div.sk-label label {font-family: monospace;font-weight: bold;display: inline-block;line-height: 1.2em;}#sk-container-id-8 div.sk-label-container {text-align: center;}#sk-container-id-8 div.sk-container {/* jupyter's `normalize.less` sets `[hidden] { display: none; }` but bootstrap.min.css set `[hidden] { display: none !important; }` so we also need the `!important` here to be able to override the default hidden behavior on the sphinx rendered scikit-learn.org. See: https://github.com/scikit-learn/scikit-learn/issues/21755 */display: inline-block !important;position: relative;}#sk-container-id-8 div.sk-text-repr-fallback {display: none;}</style><div id=\"sk-container-id-8\" class=\"sk-top-container\"><div class=\"sk-text-repr-fallback\"><pre>RandomForestClassifier(criterion=&#x27;entropy&#x27;, n_estimators=10, random_state=0)</pre><b>In a Jupyter environment, please rerun this cell to show the HTML representation or trust the notebook. <br />On GitHub, the HTML representation is unable to render, please try loading this page with nbviewer.org.</b></div><div class=\"sk-container\" hidden><div class=\"sk-item\"><div class=\"sk-estimator sk-toggleable\"><input class=\"sk-toggleable__control sk-hidden--visually\" id=\"sk-estimator-id-8\" type=\"checkbox\" checked><label for=\"sk-estimator-id-8\" class=\"sk-toggleable__label sk-toggleable__label-arrow\">RandomForestClassifier</label><div class=\"sk-toggleable__content\"><pre>RandomForestClassifier(criterion=&#x27;entropy&#x27;, n_estimators=10, random_state=0)</pre></div></div></div></div></div>"
      ],
      "text/plain": [
       "RandomForestClassifier(criterion='entropy', n_estimators=10, random_state=0)"
      ]
     },
     "execution_count": 98,
     "metadata": {},
     "output_type": "execute_result"
    }
   ],
   "source": [
    "from sklearn.ensemble import RandomForestClassifier\n",
    "classifier = RandomForestClassifier(n_estimators = 10,criterion = 'entropy',random_state = 0)\n",
    "classifier.fit(X_train,y_train)"
   ]
  },
  {
   "cell_type": "code",
   "execution_count": 99,
   "id": "c839479f",
   "metadata": {},
   "outputs": [],
   "source": [
    "y_pred = classifier.predict(X_test)"
   ]
  },
  {
   "cell_type": "code",
   "execution_count": 100,
   "id": "9bfe97ae",
   "metadata": {
    "scrolled": false
   },
   "outputs": [
    {
     "name": "stdout",
     "output_type": "stream",
     "text": [
      "Confusion matrix\n",
      "\n",
      "Predicted    0    1    2\n",
      "Actual                  \n",
      "0          184    5    6\n",
      "1            3  196    3\n",
      "2            6    6  192\n",
      "accuracy = 0.952 \n",
      "precision =0.952 \n",
      "recall =0.952 \n",
      "f1 =0.952\n"
     ]
    }
   ],
   "source": [
    "print(\"Confusion matrix\\n\")\n",
    "print(pd.crosstab(pd.Series(y_test,name=\"Actual\"),pd.Series(y_pred,name=\"Predicted\")))\n",
    "acuracy,precision,recall,f1 = get_metrics(y_test,y_pred)\n",
    "print(\"accuracy = %.3f \\nprecision =%.3f \\nrecall =%.3f \\nf1 =%.3f\" % (acuracy,precision,recall,f1))"
   ]
  },
  {
   "cell_type": "markdown",
   "id": "55f784ab",
   "metadata": {},
   "source": [
    "### Plotting Confusion Matrix of random_forest classifier"
   ]
  },
  {
   "cell_type": "code",
   "execution_count": 101,
   "id": "d0b08981",
   "metadata": {},
   "outputs": [
    {
     "data": {
      "image/png": "[encoded data removed]",
      "text/plain": [
       "<Figure size 432x288 with 2 Axes>"
      ]
     },
     "metadata": {
      "needs_background": "light"
     },
     "output_type": "display_data"
    }
   ],
   "source": [
    "cm = confusion_matrix(y_test,y_pred)\n",
    "cmp = ConfusionMatrixDisplay(cm,display_labels=['Kapha','Pitta','Vata'])\n",
    "cmp = cmp.plot(cmap=\"Blues\")\n",
    "plt.show()"
   ]
  },
  {
   "cell_type": "markdown",
   "id": "7003892b",
   "metadata": {},
   "source": [
    "### Traning and validation accuracy of random_forest classifier"
   ]
  },
  {
   "cell_type": "code",
   "execution_count": 102,
   "id": "38a972f6",
   "metadata": {
    "scrolled": true
   },
   "outputs": [
    {
     "data": {
      "image/png": "[encoded data removed]",
      "text/plain": [
       "<Figure size 432x288 with 1 Axes>"
      ]
     },
     "metadata": {
      "needs_background": "light"
     },
     "output_type": "display_data"
    }
   ],
   "source": [
    "parameter_range = np.arange(3, 15, 1)\n",
    "\n",
    "train_score, test_score = validation_curve(RandomForestClassifier(criterion = 'entropy',random_state = 0), X, y,\n",
    "                                       param_name = \"n_estimators\",\n",
    "                                       param_range = parameter_range,\n",
    "                                        cv = 5, scoring = \"accuracy\")\n",
    " \n",
    "# Calculating mean and standard deviation of training score\n",
    "mean_train_score = np.mean(train_score, axis = 1)\n",
    "std_train_score = np.std(train_score, axis = 1)\n",
    " \n",
    "# Calculating mean and standard deviation of testing score\n",
    "mean_test_score = np.mean(test_score, axis = 1)\n",
    "std_test_score = np.std(test_score, axis = 1)\n",
    " \n",
    "# Plot mean accuracy scores for training and testing scores\n",
    "plt.plot(parameter_range, mean_train_score,\n",
    "     label = \"Training Accuracy\", color = 'b')\n",
    "plt.plot(parameter_range, mean_test_score,\n",
    "   label = \"Validation Accuracy\", color = 'g')\n",
    " \n",
    "# Creating the plot\n",
    "plt.title(\"Accuracy Curve with random_forest classifier\")\n",
    "plt.xlabel(\"n_estimators\")\n",
    "plt.ylabel(\"Accuracy\")\n",
    "plt.tight_layout()\n",
    "plt.legend(loc = 'best')\n",
    "plt.show()"
   ]
  },
  {
   "cell_type": "markdown",
   "id": "84a9c2b7",
   "metadata": {},
   "source": [
    "# Adding UI Component (Public Interface) "
   ]
  },
  {
   "cell_type": "code",
   "execution_count": 103,
   "id": "136a4981",
   "metadata": {},
   "outputs": [],
   "source": [
    "import gradio as gr"
   ]
  },
  {
   "cell_type": "code",
   "execution_count": 104,
   "id": "3314dd19",
   "metadata": {},
   "outputs": [],
   "source": [
    "labels = ['Kapha' , 'Pitta','Vata']\n",
    "\n",
    "def getPrakruti(Enter_Your_Sequence):\n",
    "        kmer_data = getKmers(str(Enter_Your_Sequence))\n",
    "        text_data = ''\n",
    "        for item in kmer_data:\n",
    "            text_data = text_data + ' ' + item   \n",
    "        X = cv.transform([text_data])\n",
    "        prakruti = classifier.predict_proba(X)\n",
    "        return {labels[0]:prakruti[0][0] ,labels[1]:prakruti[0][1],labels[2]:prakruti[0][2] }\n",
    "#         if prakruti == 0:\n",
    "#             return 'Kapha'\n",
    "#         elif prakruti == 1:\n",
    "#             return 'Pitta'\n",
    "#         elif prakruti == 2:\n",
    "#             return 'Vata'\n",
    "        \n"
   ]
  },
  {
   "cell_type": "code",
   "execution_count": 107,
   "id": "2cf64edb",
   "metadata": {},
   "outputs": [
    {
     "name": "stdout",
     "output_type": "stream",
     "text": [
      "Running on local URL:  http://127.0.0.1:7867/\n",
      "Running on public URL: https://36526.gradio.app\n",
      "\n",
      "This share link expires in 72 hours. For free permanent hosting, check out Spaces: https://huggingface.co/spaces\n"
     ]
    },
    {
     "data": {
      "text/html": [
       "<div><iframe src=\"https://36526.gradio.app\" width=\"900\" height=\"500\" allow=\"autoplay; camera; microphone;\" frameborder=\"0\" allowfullscreen></iframe></div>"
      ],
      "text/plain": [
       "<IPython.core.display.HTML object>"
      ]
     },
     "metadata": {},
     "output_type": "display_data"
    },
    {
     "data": {
      "text/plain": [
       "(<gradio.routes.App at 0x1d8e5391130>,\n",
       " 'http://127.0.0.1:7867/',\n",
       " 'https://36526.gradio.app')"
      ]
     },
     "execution_count": 107,
     "metadata": {},
     "output_type": "execute_result"
    }
   ],
   "source": [
    "iface = gr.Interface(fn=getPrakruti,inputs = \"text\",outputs=\"label\",title=\"Ayurvedic Prakruti Classification using DNA Sequence\")\n",
    "iface.launch(share=True)"
   ]
  }
 ],
 "metadata": {
  "kernelspec": {
   "display_name": "Python 3 (ipykernel)",
   "language": "python",
   "name": "python3"
  },
  "language_info": {
   "codemirror_mode": {
    "name": "ipython",
    "version": 3
   },
   "file_extension": ".py",
   "mimetype": "text/x-python",
   "name": "python",
   "nbconvert_exporter": "python",
   "pygments_lexer": "ipython3",
   "version": "3.8.0"
  }
 },
 "nbformat": 4,
 "nbformat_minor": 5
}
