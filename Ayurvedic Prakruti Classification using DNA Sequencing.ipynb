{
 "cells": [
  {
   "cell_type": "markdown",
   "id": "954db54b",
   "metadata": {},
   "source": [
    "# Ayurvedic Prakruti Classification using DNA Sequencing with Machine Learning"
   ]
  },
  {
   "cell_type": "code",
   "execution_count": 87,
   "id": "78adf31f",
   "metadata": {},
   "outputs": [],
   "source": [
    "import numpy as np\n",
    "import matplotlib.pyplot as plt\n",
    "import pandas as pd\n",
    "%matplotlib inline"
   ]
  },
  {
   "cell_type": "code",
   "execution_count": 88,
   "id": "f3f00172",
   "metadata": {},
   "outputs": [],
   "source": [
    "dataset = pd.read_csv('Dataset.csv')"
   ]
  },
  {
   "cell_type": "markdown",
   "id": "fa1dfda2",
   "metadata": {},
   "source": [
    "### Shuffling Dataset"
   ]
  },
  {
   "cell_type": "code",
   "execution_count": 89,
   "id": "5a5f1853",
   "metadata": {},
   "outputs": [],
   "source": [
    "dataset = dataset.reindex(np.random.permutation(dataset.index))\n",
    "dataset.reset_index(inplace=True,drop=True)"
   ]
  },
  {
   "cell_type": "markdown",
   "id": "be51b34a",
   "metadata": {},
   "source": [
    "### Splitting into dependent and independent variables"
   ]
  },
  {
   "cell_type": "code",
   "execution_count": 90,
   "id": "2ca61b76",
   "metadata": {},
   "outputs": [],
   "source": [
    "x = dataset.iloc[:,:-1].values\n",
    "y = dataset.iloc[:,-1].values"
   ]
  },
  {
   "cell_type": "code",
   "execution_count": 91,
   "id": "4cffebd0",
   "metadata": {
    "scrolled": false
   },
   "outputs": [
    {
     "name": "stdout",
     "output_type": "stream",
     "text": [
      "[['GATGAACGCTGGCGGCGTGCCTAACACATGCAAGTCGAGCGATTTACTTCGGTAAAGAGCGGCGGACGGGTGAGTAACGCGTGGGTAACCTGCCCTGTACACACGGATAACATACCGAAAGGTATGCTAATACGAGATAACATGCTTTTATCGCATGGTAGAAGTATCAAAGCTCTGGCGGTACAGGATGGACCCGCGTCTGATTAGCTAGTTGGTAAGGTAACGGCATACCAAGGCGACGATCAGTAGCCGACCTGAGAGGGTGATCGGCCACATTGGAACTGAGACACGGTCCAAACTCCTACGGGAGGCAGCAGTGGGGAATATTGCACAATGGGCGAAAGCCTGATGCAGCAACGCCGCGTGAGCGATGAAGGCCTTCGGGTCGTAAAGCTCTGTCCTCAAGGAAGATAATGACGGTACTTGAGGAGGAAGCCCCGGCTAACTACGTGCCAGCAGCCGCGGTAATACGTAGGGGGCTAGCGTTATCCGGAATTACTGGGCGTAAAGGGTGCGTAGGTGGTTTCTTAAGTCAGAGGTGAAAGGCTACGGCTCGACCGTAGTAAGCCTTTGAAACTGGGAAACTTGAAGTTGCAGGAGAGGAGAGTGGAATTCCTAGTGTAGCGGTGAAATGCGTAGATATTAGGAGGAACACCAGTTGCGAAGGCGGCTCTCTGGACTGTAACTGACACTGAGGCACGAAAGCGTGGGGAGCAAACAGGATTAGATACCCGGTAGTCCCTGAGATTGCCAAGGCACACAGGGGATAGG']\n",
      " ['GATGAACGCTAGCTACAGGCTTAACACATGCAAGTCGAGGGGCAGCATGACGATAGCTTGCTATTGTTGATGGCGACCGGCGCATGGGTGAGTAACGCGTATCCAACCTGCCCTTGTCCATCGGATAACCCGTCGAAAGGCGGCCTAACACGATATGCAGTTCTCAGCAGGCATCTAACGAGAACGAAATGTGAAGGAGAAGGATGGGGATGCGTCTGATTAGCTTGTTGGCGGGGTAACGGCCCACCAAGGCAACGATCAGTAGGGGTTCTGAGAGGAAGGTCCCCACATTGGAACTGAGACACGGTCAAACTCCTACGGGAGGCAGCAGTGAGGAATATTGGTCAATGGGCGAGAGCCTGAACCAGCCAAGTAGCGTGCAGGATGACGGCCCTATGGGTTGTAAACTGCTTTTATACGGGGATAAAGTGAGCCACGTGTGGCTTATTGCAGGTACCGTATGAATAAGGACCGGCTAATTCCGTGCCAGCAGCCGCGGTAATACGGAAGGTCCGGGCGTTATCCGGATTTATTGGGTTTAAAGGGAGCGTAGGCCGGAGATTAAGCGTGTTGTGAAATGTAGAGGCTCAACCTCTGCACTGCAGCGCGAACTGGTCTTCTTGAGTACGCACAACGTGGGCGGAATTCGTGGTGTAGCGGTGAAATGCTTAGATATCACGAAGAACTCCGATTGCGAAGGCAGCTCACGGGAGCGCAACTGACGCTGAACTCGAAAGTGCGGGTANCGAACAGGATTAGATACCCTGGTAGT']\n",
      " ['GATGAACGCTAGCTACAGGCTTAACACATGCAAGTCGAGGGGCAGCGATGAAGAAAGCTTGCTTTCTTCAGGCGGCGACCGGCGCACGGGTGAGTAACGCGTATCGAACCTGCCTCATACTCAGGAATAGCCTTGCGAAAGTAAGATTAATGCCCGATGTTATTAGGATATCACATGATGTTTTAATTAAAGATTTATCGGTATGAGATGGCGATGCGTCCCATTAGCTTGTTGGCGGGGTAACGGCCCACCAAGGCATCGATGGGTAGGGGTTCTGAGAGGAAGGTCCCCACATGACTGAGACACGTCCGCAAACTCCTACGGGAGGCAGCAGTGAGGAATATTGGTCAATGGACGCAAGTCTGAACCAGCCAAGTAGCGTGCAGGACGACGGCCCTCTGGGTTGTAAACTGCTTTTAGTTGGGAATAAAGTGCACCACGTGTGGTGTTTTGTATGTACCATCAGAAAAAGGACCGGCTAATTCCGTGCCAGCAGCCGCGGTAATACGGAAGGTCCAGGCGTTATCCGGATTTATTGGGTTTTAAAGGGGAGCGCAGGCGGACCTTTAAGTCAGCTGTGAAATACGGCGGCTAACCGTCGAACTGCAGTTGATACTGGAGGTCTTGAGTGCACACAGGGATACTGGAATTCATGGTGTAGCGGTGAAATGCTCAGATATCATGAAGAACTCCGATCGCGAAGGCAGGTATCCGGGGTGCAANTGACGCTGAGGCT']\n",
      " ...\n",
      " ['GATGAACGCTGGCGGCGTGCTTAACACATGCAAGTCGAACGAAGCACTTTATTTGATTTCCTTCGGGACTGATTATTTTGTGACTGAGTGGCGGACGGGTGAGTAACGCGTGGGTAACCTGCCTTGTACAGGGGAGTAACAGTTGGAAACGGCTGCTAATACCGCATAAGCGCACAGTATCGCATGATGCAGTGTGAAAAACTCCGGTGGTATAAGATGGACCCGCGTTGGATTGGCTAGTTGGTGAGGTAACGGCCCACCAAGGCGACGATCCATAGCCGACCTGAGAGGGTGACCGGCCACATTGGGACTGAGACACGGCCCAAACTCCTACGGGAGGCAGCAGTGGGGAATATTGCACAATGGGCGAAAGCCTGATGCAGCGACGCCGCGTGAGCGAAGAAGTATTTCGGTATGTAAAGCTCTATCAGCAGGGAAGATAATGACGGTACCTGACTAAGAAGCACCGGCTAAATACGTGCCAGCAGCCGCGGTAATACGTATGGTGCAAGCGTTATCCGGATTTTACTGGGTGTAAAAGGGGAGCGCAGGCGGTGCGGCAAGTCTGATGTGAAAGCCCGGGGCTCAACCCCGGTACTGCATTGGAAACTGTCGTACTAGAGTGTCGGAGGGGTAAGCGGAATTCCTAGTGTAGCGGTGAAATGCGTAGATATTAGGAGGAACACCAGTGGCGAAGGCGGCTTACTGGACGATAACTGACGCTGAGGCTCGAAAGCGTGGGGACAAACAGGATTA']\n",
      " ['GATGAACGCTAGCTACAGGCTTAACACATGCAAGTCGAGGGGCAGCATGACAATAGCTTGCTATTGTTGATGGCGACCGGCGCACGGGTGAGTAACGCGTATCCAACCTGCCCTTGTCCATCGGATAACCCGTCGAAAGGCGGCCTAACACGATATGCAGTTCTCAGCAGGCATCTAACGAGAACGAAATGTGAAGGAGAAGGATGGGGATGCGTCTGATTAGCTTGTTGGCGGGGTAACGGCCCACCAAGGCGACGATCAGTAGGGGTTCTGAGAGGAAGGTCCCCCACATTGGAACTGAGACACGGTCCAAACTCCTACGGGAGGCAGCAGTGAGGAATATTGGTCAATGGGCGAGAGCCTGAACCAGCCAAGTAGCGTGCAGGATGACGGCCCTATGGGTTGTAAACTGCTTATATACGGGGATAAAGTGAGCCACGTGTGGCTTATTGCAGGTACCGTATGAATAAGGACCGGCTAATTCCGTGCCAGCAGCCGCGGTAATACGGAAGGTCCGGGCGTTATCCGGATTTATTGGGTTTAAAGGGAGCGTAGGCCGTCTGTTAAGCGTGTTGTGAATGTCGGGGCTCAACCTGGGCATTGCAGCGCGAACTGGCAGACTTGAGTGCGCGGGAAGTAGGCGAATTCGTCGTGTAGGCGGTGAAATGGCTTAGATATGACGAAGAACTCCGATTGCGAAGGCAGCCTGCTGTAGCGTAACTGACGCTGAGCTCGAAAGCGTGGGTATCGAACAGGATTAGATACCCCTGGTAGT']\n",
      " ['GACGAACGCTGGCGGCGCGCCTAACACATGCAAGTCGAACGAGAGATGAGGAGCTTGCTCTTCAGATCGAGTGGCGAACGGGTGAGTAACGCGTGAGGAACCTGCCTCAAAGAGGGGGACAACAGTTGGAAACGACTGCTAATACCGCATAAGCCCACAGCTCGGCATCGAGCAGAGGGAAAAGGAGCAATCCGCTTTGAGATGGCCTCGCGTCCGATTAGCTAGTTGGTGAGGTAACGGCCCACCAAGGCGACGATCGGTAGCCGGACTGAGAGGTTGAACGGCCACATTGGGACTGAGACACGGCCCAGACTCCTACGGGAGGCAGCAGTGGGGAATATTGCACAATGGGGGAAACCCTGATGCAGCGACGCCGCGTGGAGGAAGAAGGTCTTCGGATTGTAAACTCCTGTTGTTGAGGAAGATAATGACGGTACTCAACAAGGAAGTGACGGCTAACTACGTGCCAGCAGCCGCGGTAAAACGTAGGTCACAAGCGTTGTCCGGAATTACTGGGTGTAAAGGGAGCGCAGGCGGGAGAACAAGTTGGAAGTGAATCCATGGGCTCAACCCATGAACTGCTTTCAAAACTGTTTTTCTTGAGTAGTGCAGAGGTAGGCGGAATTCCCGGTGTAGCGGTGGAATGCGTAGATATCGGGAGGAACACCAGTGGCGAAGGCGGCCTACTGGGCACCAACTGACGCTGAGGCTCGAAAGTGTGGGTAGCAAAACAGGATTAGATACCCCTGGTAGTCCCCTGAGACGGGCCAAGGCACACAGGGGATAGG']]\n"
     ]
    }
   ],
   "source": [
    "print(x)"
   ]
  },
  {
   "cell_type": "code",
   "execution_count": 92,
   "id": "e2a82099",
   "metadata": {},
   "outputs": [
    {
     "name": "stdout",
     "output_type": "stream",
     "text": [
      "['Kapha' 'Vata' 'Pitta' ... 'Pitta' 'Vata' 'Vata']\n"
     ]
    }
   ],
   "source": [
    "print(y)"
   ]
  },
  {
   "cell_type": "markdown",
   "id": "4517a2fb",
   "metadata": {},
   "source": [
    "# Label Encoding Dependent Variable (Ayurvedic Prakruti)"
   ]
  },
  {
   "cell_type": "code",
   "execution_count": 93,
   "id": "f5ceca47",
   "metadata": {},
   "outputs": [],
   "source": [
    "from sklearn.preprocessing import LabelEncoder\n",
    "le = LabelEncoder()\n",
    "y = le.fit_transform(y)"
   ]
  },
  {
   "cell_type": "code",
   "execution_count": 94,
   "id": "38f612ef",
   "metadata": {
    "scrolled": true
   },
   "outputs": [
    {
     "name": "stdout",
     "output_type": "stream",
     "text": [
      "[0 2 1 ... 1 2 2]\n"
     ]
    }
   ],
   "source": [
    "print(y)"
   ]
  },
  {
   "cell_type": "markdown",
   "id": "40b720b1",
   "metadata": {},
   "source": [
    "# Treating DNA sequence as a \"language\", otherwise known as k-mer counting"
   ]
  },
  {
   "cell_type": "markdown",
   "id": "7f4cb8f3",
   "metadata": {},
   "source": [
    "### A function to collect all possible overlapping k-mers of a specified length from any sequence string. We will basically apply the k-mers to the complete sequences."
   ]
  },
  {
   "cell_type": "code",
   "execution_count": 95,
   "id": "2fffbe08",
   "metadata": {},
   "outputs": [],
   "source": [
    "def getKmers(sequence,size = 6):\n",
    "    return [sequence[x:x+size].lower() for x in range(len(sequence)-size+1)]"
   ]
  },
  {
   "cell_type": "markdown",
   "id": "e6b894dd",
   "metadata": {},
   "source": [
    "## Now we can convert our training data sequences into short overlapping k-mers of length 6"
   ]
  },
  {
   "cell_type": "code",
   "execution_count": 96,
   "id": "02fb6a69",
   "metadata": {},
   "outputs": [],
   "source": [
    "kmerData = []\n",
    "\n",
    "for i in x:\n",
    "    kmerData.append(getKmers(str(i)))"
   ]
  },
  {
   "cell_type": "code",
   "execution_count": 97,
   "id": "34e9962e",
   "metadata": {},
   "outputs": [
    {
     "name": "stdout",
     "output_type": "stream",
     "text": [
      "[\"['gatg\", \"'gatga\", 'gatgaa', 'atgaac', 'tgaacg', 'gaacgc', 'aacgct', 'acgcta', 'cgctag', 'gctagc', 'ctagct', 'tagcta', 'agctac', 'gctaca', 'ctacag', 'tacagg', 'acaggc', 'caggct', 'aggctt', 'ggctta', 'gcttaa', 'cttaac', 'ttaaca', 'taacac', 'aacaca', 'acacat', 'cacatg', 'acatgc', 'catgca', 'atgcaa', 'tgcaag', 'gcaagt', 'caagtc', 'aagtcg', 'agtcga', 'gtcgag', 'tcgagg', 'cgaggg', 'gagggg', 'aggggc', 'ggggca', 'gggcag', 'ggcagc', 'gcagca', 'cagcat', 'agcatg', 'gcatga', 'catgac', 'atgacg', 'tgacga', 'gacgat', 'acgata', 'cgatag', 'gatagc', 'atagct', 'tagctt', 'agcttg', 'gcttgc', 'cttgct', 'ttgcta', 'tgctat', 'gctatt', 'ctattg', 'tattgt', 'attgtt', 'ttgttg', 'tgttga', 'gttgat', 'ttgatg', 'tgatgg', 'gatggc', 'atggcg', 'tggcga', 'ggcgac', 'gcgacc', 'cgaccg', 'gaccgg', 'accggc', 'ccggcg', 'cggcgc', 'ggcgca', 'gcgcac', 'cgcacg', 'gcacgg', 'cacggg', 'acgggt', 'cgggtg', 'gggtga', 'ggtgag', 'gtgagt', 'tgagta', 'gagtaa', 'agtaac', 'gtaacg', 'taacgc', 'aacgcg', 'acgcgt', 'cgcgta', 'gcgtat', 'cgtatc', 'gtatcc', 'tatcca', 'atccaa', 'tccaac', 'ccaacc', 'caacct', 'aacctg', 'acctgc', 'cctgcc', 'ctgccc', 'tgccct', 'gccctt', 'cccttg', 'ccttgt', 'cttgtc', 'ttgtcc', 'tgtcca', 'gtccat', 'tccatc', 'ccatcg', 'catcgg', 'atcgga', 'tcggat', 'cggata', 'ggataa', 'gataac', 'ataacc', 'taaccc', 'aacccg', 'acccgt', 'cccgtc', 'ccgtcg', 'cgtcga', 'gtcgaa', 'tcgaaa', 'cgaaag', 'gaaagg', 'aaaggc', 'aaggcg', 'aggcgg', 'ggcggc', 'gcggcc', 'cggcct', 'ggccta', 'gcctat', 'cctatc', 'ctatca', 'tatcac', 'atcacg', 'tcacga', 'cacgat', 'acgata', 'cgatat', 'gatatg', 'atatgc', 'tatgca', 'atgcag', 'tgcagt', 'gcagtt', 'cagttc', 'agttct', 'gttctc', 'ttctca', 'tctcag', 'ctcagc', 'tcagca', 'cagcag', 'agcagg', 'gcaggc', 'caggca', 'aggcat', 'ggcatc', 'gcatct', 'catcta', 'atctaa', 'tctaac', 'ctaacg', 'taacga', 'aacgag', 'acgaga', 'cgagaa', 'gagaac', 'agaacg', 'gaacga', 'aacgaa', 'acgaaa', 'cgaaat', 'gaaatg', 'aaatgt', 'aatgta', 'atgtaa', 'tgtaaa', 'gtaaag', 'taaagg', 'aaagga', 'aaggag', 'aggaga', 'ggagaa', 'gagaag', 'agaagg', 'gaagga', 'aaggat', 'aggatg', 'ggatgg', 'gatggg', 'atgggg', 'tgggga', 'ggggat', 'gggatg', 'ggatgc', 'gatgcg', 'atgcgt', 'tgcgtc', 'gcgtct', 'cgtctg', 'gtctga', 'tctgat', 'ctgatt', 'tgatta', 'gattag', 'attagc', 'ttagct', 'tagctt', 'agcttg', 'gcttgt', 'cttgtt', 'ttgttg', 'tgttgg', 'gttggc', 'ttggcg', 'tggcgg', 'ggcggg', 'gcgggg', 'cggggg', 'gggggt', 'ggggta', 'gggtaa', 'ggtaac', 'gtaacg', 'taacgg', 'aacggc', 'acggcc', 'cggccc', 'ggccca', 'gcccac', 'cccacc', 'ccacca', 'caccaa', 'accaag', 'ccaagg', 'caaggc', 'aaggcg', 'aggcga', 'ggcgac', 'gcgacg', 'cgacga', 'gacgat', 'acgatc', 'cgatca', 'gatcag', 'atcagt', 'tcagta', 'cagtag', 'agtagg', 'gtaggg', 'tagggg', 'aggggt', 'ggggtt', 'gggttc', 'ggttct', 'gttctg', 'ttctga', 'tctgag', 'ctgaga', 'tgagag', 'gagagg', 'agagga', 'gaggaa', 'aggaag', 'ggaagg', 'gaaggt', 'aaggtc', 'aggtcc', 'ggtccc', 'gtcccc', 'tccccc', 'ccccca', 'ccccac', 'cccaca', 'ccacat', 'cacatt', 'acattg', 'cattgg', 'attgga', 'ttggaa', 'tggaac', 'ggaact', 'gaactg', 'aactga', 'actgag', 'ctgaga', 'tgagac', 'gagaca', 'agacac', 'gacacg', 'acacgg', 'cacggt', 'acggtc', 'cggtcc', 'ggtcca', 'gtccaa', 'tccaaa', 'ccaaac', 'caaact', 'aaactc', 'aactcc', 'actcct', 'ctccta', 'tcctac', 'cctacg', 'ctacgg', 'tacggg', 'acggga', 'cgggag', 'gggagg', 'ggaggc', 'gaggca', 'aggcag', 'ggcagc', 'gcagca', 'cagcag', 'agcagt', 'gcagtg', 'cagtga', 'agtgag', 'gtgagg', 'tgagga', 'gaggaa', 'aggaat', 'ggaata', 'gaatat', 'aatatt', 'atattg', 'tattgg', 'attggt', 'ttggtc', 'tggtca', 'ggtcaa', 'gtcaat', 'tcaatg', 'caatgg', 'aatggg', 'atgggc', 'tgggcg', 'gggcga', 'ggcgag', 'gcgaga', 'cgagag', 'gagagc', 'agagcc', 'gagcct', 'agcctg', 'gcctga', 'cctgaa', 'ctgaac', 'tgaacc', 'gaacca', 'aaccag', 'accagc', 'ccagcc', 'cagcca', 'agccaa', 'gccaag', 'ccaagt', 'caagta', 'aagtag', 'agtagc', 'gtagcg', 'tagcgt', 'agcgtg', 'gcgtgc', 'cgtgca', 'gtgcag', 'tgcagg', 'gcagga', 'caggat', 'aggatg', 'ggatga', 'gatgac', 'atgacg', 'tgacgg', 'gacggc', 'acggcc', 'cggccc', 'ggcccc', 'gcccct', 'ccccta', 'ccctat', 'cctatg', 'ctatgg', 'tatggg', 'atgggt', 'tgggtt', 'gggttg', 'ggttgt', 'gttgta', 'ttgtaa', 'tgtaaa', 'gtaaac', 'taaact', 'aaactg', 'aactgc', 'actgct', 'ctgctt', 'tgcttt', 'gctttt', 'ctttta', 'ttttat', 'tttata', 'ttatac', 'tatacg', 'atacgg', 'tacggg', 'acgggg', 'cgggga', 'ggggat', 'gggata', 'ggataa', 'gataaa', 'ataaag', 'taaagt', 'aaagtg', 'aagtga', 'agtgag', 'gtgagc', 'tgagcc', 'gagcca', 'agccac', 'gccacg', 'ccacgt', 'cacgtg', 'acgtgt', 'cgtgtg', 'gtgtgg', 'tgtggc', 'gtggct', 'tggctt', 'ggctta', 'gcttat', 'cttatt', 'ttattg', 'tattgc', 'attgca', 'ttgcag', 'tgcagg', 'gcaggt', 'caggta', 'aggtac', 'ggtacc', 'gtaccg', 'taccgt', 'accgta', 'ccgtat', 'cgtatg', 'gtatga', 'tatgaa', 'atgaat', 'tgaata', 'gaataa', 'aataag', 'ataagg', 'taagga', 'aaggac', 'aggacc', 'ggaccg', 'gaccgg', 'accggc', 'ccggct', 'cggcta', 'ggctaa', 'gctaat', 'ctaatt', 'taattc', 'aattcc', 'attccg', 'ttccgt', 'tccgtg', 'ccgtgc', 'cgtgcc', 'gtgcca', 'tgccag', 'gccagc', 'ccagca', 'cagcag', 'agcagc', 'gcagcc', 'cagccg', 'agccgc', 'gccgcg', 'ccgcgg', 'cgcggt', 'gcggta', 'cggtaa', 'ggtaat', 'gtaata', 'taatac', 'aatacg', 'atacgg', 'tacgga', 'acggaa', 'cggaag', 'ggaagg', 'gaaggt', 'aaggtc', 'aggtcc', 'ggtccg', 'gtccgg', 'tccggg', 'ccgggc', 'cgggcg', 'gggcgt', 'ggcgtt', 'gcgtta', 'cgttat', 'gttatc', 'ttatcc', 'tatccg', 'atccgg', 'tccgga', 'ccggat', 'cggatt', 'ggattt', 'gattta', 'atttat', 'tttatt', 'ttattg', 'tattgg', 'attggg', 'ttgggt', 'tgggtt', 'gggttt', 'ggttta', 'gtttaa', 'tttaaa', 'ttaaag', 'taaagg', 'aaaggg', 'aaggga', 'agggag', 'gggagc', 'ggagcg', 'gagcgt', 'agcgta', 'gcgtag', 'cgtagg', 'gtaggc', 'taggcc', 'aggccg', 'ggccgt', 'gccgtc', 'ccgtct', 'cgtctg', 'gtctgt', 'tctgtt', 'ctgtta', 'tgttaa', 'gttaag', 'ttaagc', 'taagcg', 'aagcgt', 'agcgtg', 'gcgtgt', 'cgtgtt', 'gtgttg', 'tgttgt', 'gttgtg', 'ttgtga', 'tgtgaa', 'gtgaat', 'tgaatg', 'gaatgt', 'aatgtc', 'atgtcg', 'tgtcgg', 'gtcggg', 'tcgggg', 'cggggc', 'ggggct', 'gggctc', 'ggctca', 'gctcaa', 'ctcaac', 'tcaacc', 'caacct', 'aacctg', 'acctgg', 'cctggg', 'ctgggc', 'tgggca', 'gggcat', 'ggcatt', 'gcattt', 'catttg', 'atttgc', 'tttgca', 'ttgcag', 'tgcagc', 'gcagcg', 'cagcgc', 'agcgcg', 'gcgcga', 'cgcgaa', 'gcgaac', 'cgaact', 'gaactg', 'aactgg', 'actggc', 'ctggca', 'tggcag', 'ggcaga', 'gcagac', 'cagact', 'agactt', 'gacttg', 'acttga', 'cttgag', 'ttgagt', 'tgagtg', 'gagtgc', 'agtgcg', 'gtgcgc', 'tgcgcg', 'gcgcgg', 'cgcggg', 'gcggga', 'cgggaa', 'gggaag', 'ggaagt', 'gaagta', 'aagtag', 'agtagg', 'gtaggc', 'taggcg', 'aggcgg', 'ggcgga', 'gcggaa', 'cggaat', 'ggaatt', 'gaattc', 'aattcg', 'attcgt', 'ttcgtc', 'tcgtcg', 'cgtcgt', 'gtcgtg', 'tcgtgt', 'cgtgta', 'gtgtag', 'tgtagg', 'gtaggc', 'taggcg', 'aggcgg', 'ggcggt', 'gcggtg', 'cggtga', 'ggtgaa', 'gtgaaa', 'tgaaaa', 'gaaaat', 'aaaatg', 'aaatgc', 'aatgct', 'atgctt', 'tgctta', 'gcttag', 'cttaga', 'ttagat', 'tagata', 'agatat', 'gatatg', 'atatga', 'tatgac', 'atgacg', 'tgacga', 'gacgaa', 'acgaag', 'cgaaga', 'gaagaa', 'aagaac', 'agaact', 'gaactc', 'aactcc', 'actccg', 'ctccgn', 'tccgnt', 'ccgntt', 'cgnttg', 'gnttgc', 'nttgcg', 'ttgcga', 'tgcgaa', 'gcgaaa', 'cgaaag', 'gaaagg', 'aaaggc', 'aaggca', 'aggcag', 'ggcagc', 'gcagcc', 'cagcct', 'agcctg', 'gcctgc', 'cctgct', 'ctgctg', 'tgctgt', 'gctgta', 'ctgtag', 'tgtagc', 'gtagcg', 'tagcgt', 'agcgta', 'gcgtaa', 'cgtaac', 'gtaact', 'taactg', 'aactga', 'actgac', 'ctgacg', 'tgacgc', 'gacgct', 'acgctg', 'cgctga', 'gctgaa', 'ctgaag', 'tgaagc', 'gaagct', 'aagctc', 'agctcg', 'gctcga', 'ctcgaa', 'tcgaaa', 'cgaaag', 'gaaagc', 'aaagcg', 'aagcgt', 'agcgtg', 'gcgtgg', 'cgtggg', 'gtgggt', 'tgggta', 'gggtat', 'ggtatc', 'gtatcg', 'tatcga', 'atcgaa', 'tcgaac', 'cgaaca', 'gaacag', 'aacagg', 'acagga', 'caggat', 'aggatt', 'ggatta', 'gattag', 'attaga', 'ttagat', 'tagata', 'agatac', 'gatacc', 'ataccc', 'tacccc', 'acccct', 'cccctg', 'ccctgg', 'cctggt', 'ctggta', 'tggtag', 'ggtagt', \"gtagt'\", \"tagt']\"]\n"
     ]
    }
   ],
   "source": [
    "print(kmerData[111])"
   ]
  },
  {
   "cell_type": "code",
   "execution_count": 98,
   "id": "718c4143",
   "metadata": {},
   "outputs": [],
   "source": [
    "text_data = []\n",
    "\n",
    "for i in range(len(kmerData)):\n",
    "    text_data.append(\"\");\n",
    "    for item in kmerData[i]:\n",
    "        text_data[i] = text_data[i] + ' ' + item\n",
    "    \n",
    "for i in range(len(text_data)):\n",
    "    text_data[i] = text_data[i][9:-8]"
   ]
  },
  {
   "cell_type": "code",
   "execution_count": 99,
   "id": "636c3c6c",
   "metadata": {},
   "outputs": [
    {
     "name": "stderr",
     "output_type": "stream",
     "text": [
      "IOPub data rate exceeded.\n",
      "The notebook server will temporarily stop sending output\n",
      "to the client in order to avoid crashing it.\n",
      "To change this limit, set the config variable\n",
      "`--NotebookApp.iopub_data_rate_limit`.\n",
      "\n",
      "Current values:\n",
      "NotebookApp.iopub_data_rate_limit=1000000.0 (bytes/sec)\n",
      "NotebookApp.rate_limit_window=3.0 (secs)\n",
      "\n"
     ]
    }
   ],
   "source": [
    "print(text_data)"
   ]
  },
  {
   "cell_type": "markdown",
   "id": "c81d5786",
   "metadata": {},
   "source": [
    "## Now we will apply the BAG of WORDS using CountVectorizer using Natural Language Processing"
   ]
  },
  {
   "cell_type": "code",
   "execution_count": 100,
   "id": "45b3806d",
   "metadata": {},
   "outputs": [],
   "source": [
    "from sklearn.feature_extraction.text import CountVectorizer\n",
    "cv = CountVectorizer(ngram_range = (4,4))\n",
    "X = cv.fit_transform(text_data)"
   ]
  },
  {
   "cell_type": "code",
   "execution_count": 101,
   "id": "acb7d8f4",
   "metadata": {},
   "outputs": [
    {
     "name": "stdout",
     "output_type": "stream",
     "text": [
      "(3003, 51057)\n"
     ]
    }
   ],
   "source": [
    "print(X.shape)"
   ]
  },
  {
   "cell_type": "markdown",
   "id": "b3fef6ca",
   "metadata": {},
   "source": [
    "### Checking weather the dataset is balanced or not"
   ]
  },
  {
   "cell_type": "code",
   "execution_count": 102,
   "id": "8ec11a68",
   "metadata": {},
   "outputs": [
    {
     "data": {
      "text/plain": [
       "<AxesSubplot:>"
      ]
     },
     "execution_count": 102,
     "metadata": {},
     "output_type": "execute_result"
    },
    {
     "data": {
      "image/png": "[encoded data removed]",
      "text/plain": [
       "<Figure size 432x288 with 1 Axes>"
      ]
     },
     "metadata": {
      "needs_background": "light"
     },
     "output_type": "display_data"
    }
   ],
   "source": [
    "dataset['Prakruti'].value_counts().sort_index().plot.bar()"
   ]
  },
  {
   "cell_type": "code",
   "execution_count": 103,
   "id": "cd4c00ca",
   "metadata": {},
   "outputs": [],
   "source": [
    "from sklearn.model_selection import train_test_split\n",
    "X_train , X_test , y_train,y_test = train_test_split(X,y,test_size = 0.20,random_state=42)"
   ]
  },
  {
   "cell_type": "code",
   "execution_count": 104,
   "id": "9a5a567f",
   "metadata": {},
   "outputs": [
    {
     "name": "stdout",
     "output_type": "stream",
     "text": [
      "(2402, 51057)\n",
      "(601, 51057)\n"
     ]
    }
   ],
   "source": [
    "print(X_train.shape)\n",
    "print(X_test.shape)"
   ]
  },
  {
   "cell_type": "markdown",
   "id": "c5b125be",
   "metadata": {},
   "source": [
    "# Creating a multinomial naive Bayes classifier "
   ]
  },
  {
   "cell_type": "code",
   "execution_count": 105,
   "id": "7802b08f",
   "metadata": {},
   "outputs": [],
   "source": [
    "from sklearn.naive_bayes import MultinomialNB\n",
    "classifier = MultinomialNB(alpha = 0.1)\n",
    "classifier.fit(X_train,y_train)"
   ]
  },
  {
   "cell_type": "code",
   "execution_count": 106,
   "id": "1b6fb605",
   "metadata": {},
   "outputs": [],
   "source": [
    "y_pred = classifier.predict(X_test)"
   ]
  },
  {
   "cell_type": "markdown",
   "id": "c5773997",
   "metadata": {},
   "source": [
    "## Checking Accuracy of Modal using some model performce metrics like the confusion matrix, accuracy, precision, recall and f1 score."
   ]
  },
  {
   "cell_type": "code",
   "execution_count": 107,
   "id": "108fb55f",
   "metadata": {},
   "outputs": [
    {
     "name": "stdout",
     "output_type": "stream",
     "text": [
      "Confusion matrix\n",
      "\n",
      "Predicted    0    1    2\n",
      "Actual                  \n",
      "0          166   25    7\n",
      "1            0  170   29\n",
      "2            4   33  167\n",
      "accuracy = 0.837 \n",
      "precision =0.848 \n",
      "recall =0.837 \n",
      "f1 =0.839\n"
     ]
    }
   ],
   "source": [
    "from sklearn.metrics import accuracy_score , f1_score , precision_score , recall_score , confusion_matrix, ConfusionMatrixDisplay , RocCurveDisplay \n",
    "print(\"Confusion matrix\\n\")\n",
    "print(pd.crosstab(pd.Series(y_test,name=\"Actual\"),pd.Series(y_pred,name=\"Predicted\")))\n",
    "def get_metrics(y_test,y_predicted):\n",
    "    accuracy = accuracy_score(y_test,y_predicted)\n",
    "    precision = precision_score(y_test,y_predicted,average=\"weighted\")\n",
    "    recall = recall_score(y_test,y_predicted,average=\"weighted\")\n",
    "    f1 = f1_score(y_test,y_predicted,average=\"weighted\")\n",
    "    return accuracy , precision,recall,f1\n",
    "acuracy,precision,recall,f1 = get_metrics(y_test,y_pred)\n",
    "print(\"accuracy = %.3f \\nprecision =%.3f \\nrecall =%.3f \\nf1 =%.3f\" % (acuracy,precision,recall,f1))"
   ]
  },
  {
   "cell_type": "markdown",
   "id": "90d6a25c",
   "metadata": {},
   "source": [
    "### Plotting Confusion Matrix of multinomial naive bayes classifier"
   ]
  },
  {
   "cell_type": "code",
   "execution_count": 108,
   "id": "0a3607a3",
   "metadata": {
    "scrolled": true
   },
   "outputs": [
    {
     "data": {
      "image/png": "[encoded data removed]",
      "text/plain": [
       "<Figure size 432x288 with 2 Axes>"
      ]
     },
     "metadata": {
      "needs_background": "light"
     },
     "output_type": "display_data"
    }
   ],
   "source": [
    "cm = confusion_matrix(y_test,y_pred)\n",
    "cmp = ConfusionMatrixDisplay(cm,display_labels=['Kapha','Pitta','Vata'])\n",
    "cmp = cmp.plot(cmap=\"Blues\")\n",
    "plt.show()"
   ]
  },
  {
   "cell_type": "markdown",
   "id": "74c28d67",
   "metadata": {},
   "source": [
    "### Traning and validation accuracy of multinomial naive bayes classifier"
   ]
  },
  {
   "cell_type": "code",
   "execution_count": 146,
   "id": "c47d2091",
   "metadata": {},
   "outputs": [
    {
     "data": {
      "image/png": "[encoded data removed]",
      "text/plain": [
       "<Figure size 432x288 with 1 Axes>"
      ]
     },
     "metadata": {
      "needs_background": "light"
     },
     "output_type": "display_data"
    }
   ],
   "source": [
    "from sklearn.model_selection import validation_curve\n",
    "\n",
    "parameter_range = np.arange(0.1, 1, 0.1)\n",
    "\n",
    "train_score, test_score = validation_curve(MultinomialNB(), X, y,\n",
    "                                       param_name = \"alpha\",\n",
    "                                       param_range = parameter_range,\n",
    "                                        cv = 5, scoring = \"accuracy\")\n",
    " \n",
    "# Calculating mean and standard deviation of training score\n",
    "mean_train_score = np.mean(train_score, axis = 1)\n",
    "std_train_score = np.std(train_score, axis = 1)\n",
    " \n",
    "# Calculating mean and standard deviation of testing score\n",
    "mean_test_score = np.mean(test_score, axis = 1)\n",
    "std_test_score = np.std(test_score, axis = 1)\n",
    " \n",
    "# Plot mean accuracy scores for training and testing scores\n",
    "plt.plot(parameter_range, mean_train_score,\n",
    "     label = \"Training Accuracy\", color = 'b')\n",
    "plt.plot(parameter_range, mean_test_score,\n",
    "   label = \"Validation Accuracy\", color = 'g')\n",
    " \n",
    "# Creating the plot\n",
    "plt.title(\"Accuracy Curve with Multinomial Naive Bayes Classifier\")\n",
    "plt.xlabel(\"alpha\")\n",
    "plt.ylabel(\"Accuracy\")\n",
    "plt.tight_layout()\n",
    "plt.legend(loc = 'best')\n",
    "plt.show() "
   ]
  },
  {
   "cell_type": "markdown",
   "id": "ddb767d5",
   "metadata": {},
   "source": [
    "# Creating a k_nearest_neighbors classifier"
   ]
  },
  {
   "cell_type": "code",
   "execution_count": 152,
   "id": "990c6b2c",
   "metadata": {},
   "outputs": [
    {
     "data": {
      "text/html": [
       "<style>#sk-container-id-11 {color: black;background-color: white;}#sk-container-id-11 pre{padding: 0;}#sk-container-id-11 div.sk-toggleable {background-color: white;}#sk-container-id-11 label.sk-toggleable__label {cursor: pointer;display: block;width: 100%;margin-bottom: 0;padding: 0.3em;box-sizing: border-box;text-align: center;}#sk-container-id-11 label.sk-toggleable__label-arrow:before {content: \"▸\";float: left;margin-right: 0.25em;color: #696969;}#sk-container-id-11 label.sk-toggleable__label-arrow:hover:before {color: black;}#sk-container-id-11 div.sk-estimator:hover label.sk-toggleable__label-arrow:before {color: black;}#sk-container-id-11 div.sk-toggleable__content {max-height: 0;max-width: 0;overflow: hidden;text-align: left;background-color: #f0f8ff;}#sk-container-id-11 div.sk-toggleable__content pre {margin: 0.2em;color: black;border-radius: 0.25em;background-color: #f0f8ff;}#sk-container-id-11 input.sk-toggleable__control:checked~div.sk-toggleable__content {max-height: 200px;max-width: 100%;overflow: auto;}#sk-container-id-11 input.sk-toggleable__control:checked~label.sk-toggleable__label-arrow:before {content: \"▾\";}#sk-container-id-11 div.sk-estimator input.sk-toggleable__control:checked~label.sk-toggleable__label {background-color: #d4ebff;}#sk-container-id-11 div.sk-label input.sk-toggleable__control:checked~label.sk-toggleable__label {background-color: #d4ebff;}#sk-container-id-11 input.sk-hidden--visually {border: 0;clip: rect(1px 1px 1px 1px);clip: rect(1px, 1px, 1px, 1px);height: 1px;margin: -1px;overflow: hidden;padding: 0;position: absolute;width: 1px;}#sk-container-id-11 div.sk-estimator {font-family: monospace;background-color: #f0f8ff;border: 1px dotted black;border-radius: 0.25em;box-sizing: border-box;margin-bottom: 0.5em;}#sk-container-id-11 div.sk-estimator:hover {background-color: #d4ebff;}#sk-container-id-11 div.sk-parallel-item::after {content: \"\";width: 100%;border-bottom: 1px solid gray;flex-grow: 1;}#sk-container-id-11 div.sk-label:hover label.sk-toggleable__label {background-color: #d4ebff;}#sk-container-id-11 div.sk-serial::before {content: \"\";position: absolute;border-left: 1px solid gray;box-sizing: border-box;top: 0;bottom: 0;left: 50%;z-index: 0;}#sk-container-id-11 div.sk-serial {display: flex;flex-direction: column;align-items: center;background-color: white;padding-right: 0.2em;padding-left: 0.2em;position: relative;}#sk-container-id-11 div.sk-item {position: relative;z-index: 1;}#sk-container-id-11 div.sk-parallel {display: flex;align-items: stretch;justify-content: center;background-color: white;position: relative;}#sk-container-id-11 div.sk-item::before, #sk-container-id-11 div.sk-parallel-item::before {content: \"\";position: absolute;border-left: 1px solid gray;box-sizing: border-box;top: 0;bottom: 0;left: 50%;z-index: -1;}#sk-container-id-11 div.sk-parallel-item {display: flex;flex-direction: column;z-index: 1;position: relative;background-color: white;}#sk-container-id-11 div.sk-parallel-item:first-child::after {align-self: flex-end;width: 50%;}#sk-container-id-11 div.sk-parallel-item:last-child::after {align-self: flex-start;width: 50%;}#sk-container-id-11 div.sk-parallel-item:only-child::after {width: 0;}#sk-container-id-11 div.sk-dashed-wrapped {border: 1px dashed gray;margin: 0 0.4em 0.5em 0.4em;box-sizing: border-box;padding-bottom: 0.4em;background-color: white;}#sk-container-id-11 div.sk-label label {font-family: monospace;font-weight: bold;display: inline-block;line-height: 1.2em;}#sk-container-id-11 div.sk-label-container {text-align: center;}#sk-container-id-11 div.sk-container {/* jupyter's `normalize.less` sets `[hidden] { display: none; }` but bootstrap.min.css set `[hidden] { display: none !important; }` so we also need the `!important` here to be able to override the default hidden behavior on the sphinx rendered scikit-learn.org. See: https://github.com/scikit-learn/scikit-learn/issues/21755 */display: inline-block !important;position: relative;}#sk-container-id-11 div.sk-text-repr-fallback {display: none;}</style><div id=\"sk-container-id-11\" class=\"sk-top-container\"><div class=\"sk-text-repr-fallback\"><pre>KNeighborsClassifier()</pre><b>In a Jupyter environment, please rerun this cell to show the HTML representation or trust the notebook. <br />On GitHub, the HTML representation is unable to render, please try loading this page with nbviewer.org.</b></div><div class=\"sk-container\" hidden><div class=\"sk-item\"><div class=\"sk-estimator sk-toggleable\"><input class=\"sk-toggleable__control sk-hidden--visually\" id=\"sk-estimator-id-11\" type=\"checkbox\" checked><label for=\"sk-estimator-id-11\" class=\"sk-toggleable__label sk-toggleable__label-arrow\">KNeighborsClassifier</label><div class=\"sk-toggleable__content\"><pre>KNeighborsClassifier()</pre></div></div></div></div></div>"
      ],
      "text/plain": [
       "KNeighborsClassifier()"
      ]
     },
     "execution_count": 152,
     "metadata": {},
     "output_type": "execute_result"
    }
   ],
   "source": [
    "from sklearn.neighbors import KNeighborsClassifier\n",
    "classifier = KNeighborsClassifier(n_neighbors=5,metric = 'minkowski',p = 2)\n",
    "classifier.fit(X_train,y_train)"
   ]
  },
  {
   "cell_type": "code",
   "execution_count": 153,
   "id": "49f03d04",
   "metadata": {},
   "outputs": [],
   "source": [
    "y_pred = classifier.predict(X_test)"
   ]
  },
  {
   "cell_type": "code",
   "execution_count": 154,
   "id": "336217d8",
   "metadata": {},
   "outputs": [
    {
     "name": "stdout",
     "output_type": "stream",
     "text": [
      "Confusion matrix\n",
      "\n",
      "Predicted    0    1    2\n",
      "Actual                  \n",
      "0          188    6    4\n",
      "1            8  189    2\n",
      "2           11    5  188\n",
      "accuracy = 0.940 \n",
      "precision =0.941 \n",
      "recall =0.940 \n",
      "f1 =0.940\n"
     ]
    }
   ],
   "source": [
    "print(\"Confusion matrix\\n\")\n",
    "print(pd.crosstab(pd.Series(y_test,name=\"Actual\"),pd.Series(y_pred,name=\"Predicted\")))\n",
    "acuracy,precision,recall,f1 = get_metrics(y_test,y_pred)\n",
    "print(\"accuracy = %.3f \\nprecision =%.3f \\nrecall =%.3f \\nf1 =%.3f\" % (acuracy,precision,recall,f1))"
   ]
  },
  {
   "cell_type": "markdown",
   "id": "32e24ec2",
   "metadata": {},
   "source": [
    "### Plotting Confusion Matrix of k_nearest_neighbors classifier"
   ]
  },
  {
   "cell_type": "code",
   "execution_count": 155,
   "id": "5c3c6b9d",
   "metadata": {},
   "outputs": [
    {
     "data": {
      "image/png": "[encoded data removed]",
      "text/plain": [
       "<Figure size 432x288 with 2 Axes>"
      ]
     },
     "metadata": {
      "needs_background": "light"
     },
     "output_type": "display_data"
    }
   ],
   "source": [
    "cm = confusion_matrix(y_test,y_pred)\n",
    "cmp = ConfusionMatrixDisplay(cm,display_labels=['Kapha','Pitta','Vata'])\n",
    "cmp = cmp.plot(cmap=\"Blues\")\n",
    "plt.show()"
   ]
  },
  {
   "cell_type": "markdown",
   "id": "43250925",
   "metadata": {},
   "source": [
    "### Traning and validation accuracy of k_nearest_neighbors classifier"
   ]
  },
  {
   "cell_type": "code",
   "execution_count": 157,
   "id": "e415e361",
   "metadata": {},
   "outputs": [
    {
     "data": {
      "image/png": "[encoded data removed]",
      "text/plain": [
       "<Figure size 432x288 with 1 Axes>"
      ]
     },
     "metadata": {
      "needs_background": "light"
     },
     "output_type": "display_data"
    }
   ],
   "source": [
    "parameter_range = np.arange(3, 6, 1)\n",
    "\n",
    "train_score, test_score = validation_curve(KNeighborsClassifier(metric = 'minkowski',p = 2), X, y,\n",
    "                                       param_name = \"n_neighbors\",\n",
    "                                       param_range = parameter_range,\n",
    "                                        cv = 5, scoring = \"accuracy\")\n",
    " \n",
    "# Calculating mean and standard deviation of training score\n",
    "mean_train_score = np.mean(train_score, axis = 1)\n",
    "std_train_score = np.std(train_score, axis = 1)\n",
    " \n",
    "# Calculating mean and standard deviation of testing score\n",
    "mean_test_score = np.mean(test_score, axis = 1)\n",
    "std_test_score = np.std(test_score, axis = 1)\n",
    " \n",
    "# Plot mean accuracy scores for training and testing scores\n",
    "plt.plot(parameter_range, mean_train_score,\n",
    "     label = \"Training Accuracy\", color = 'b')\n",
    "plt.plot(parameter_range, mean_test_score,\n",
    "   label = \"Validation Accuracy\", color = 'g')\n",
    " \n",
    "# Creating the plot\n",
    "plt.title(\"Accuracy Curve with k_nearest_neighbors Classifier\")\n",
    "plt.xlabel(\"n neighbors\")\n",
    "plt.ylabel(\"Accuracy\")\n",
    "plt.tight_layout()\n",
    "plt.legend(loc = 'best')\n",
    "plt.show() "
   ]
  },
  {
   "cell_type": "markdown",
   "id": "5524d17f",
   "metadata": {},
   "source": [
    "###  Creating a support_vector_machine classifier"
   ]
  },
  {
   "cell_type": "code",
   "execution_count": 179,
   "id": "e217677b",
   "metadata": {},
   "outputs": [
    {
     "data": {
      "text/html": [
       "<style>#sk-container-id-15 {color: black;background-color: white;}#sk-container-id-15 pre{padding: 0;}#sk-container-id-15 div.sk-toggleable {background-color: white;}#sk-container-id-15 label.sk-toggleable__label {cursor: pointer;display: block;width: 100%;margin-bottom: 0;padding: 0.3em;box-sizing: border-box;text-align: center;}#sk-container-id-15 label.sk-toggleable__label-arrow:before {content: \"▸\";float: left;margin-right: 0.25em;color: #696969;}#sk-container-id-15 label.sk-toggleable__label-arrow:hover:before {color: black;}#sk-container-id-15 div.sk-estimator:hover label.sk-toggleable__label-arrow:before {color: black;}#sk-container-id-15 div.sk-toggleable__content {max-height: 0;max-width: 0;overflow: hidden;text-align: left;background-color: #f0f8ff;}#sk-container-id-15 div.sk-toggleable__content pre {margin: 0.2em;color: black;border-radius: 0.25em;background-color: #f0f8ff;}#sk-container-id-15 input.sk-toggleable__control:checked~div.sk-toggleable__content {max-height: 200px;max-width: 100%;overflow: auto;}#sk-container-id-15 input.sk-toggleable__control:checked~label.sk-toggleable__label-arrow:before {content: \"▾\";}#sk-container-id-15 div.sk-estimator input.sk-toggleable__control:checked~label.sk-toggleable__label {background-color: #d4ebff;}#sk-container-id-15 div.sk-label input.sk-toggleable__control:checked~label.sk-toggleable__label {background-color: #d4ebff;}#sk-container-id-15 input.sk-hidden--visually {border: 0;clip: rect(1px 1px 1px 1px);clip: rect(1px, 1px, 1px, 1px);height: 1px;margin: -1px;overflow: hidden;padding: 0;position: absolute;width: 1px;}#sk-container-id-15 div.sk-estimator {font-family: monospace;background-color: #f0f8ff;border: 1px dotted black;border-radius: 0.25em;box-sizing: border-box;margin-bottom: 0.5em;}#sk-container-id-15 div.sk-estimator:hover {background-color: #d4ebff;}#sk-container-id-15 div.sk-parallel-item::after {content: \"\";width: 100%;border-bottom: 1px solid gray;flex-grow: 1;}#sk-container-id-15 div.sk-label:hover label.sk-toggleable__label {background-color: #d4ebff;}#sk-container-id-15 div.sk-serial::before {content: \"\";position: absolute;border-left: 1px solid gray;box-sizing: border-box;top: 0;bottom: 0;left: 50%;z-index: 0;}#sk-container-id-15 div.sk-serial {display: flex;flex-direction: column;align-items: center;background-color: white;padding-right: 0.2em;padding-left: 0.2em;position: relative;}#sk-container-id-15 div.sk-item {position: relative;z-index: 1;}#sk-container-id-15 div.sk-parallel {display: flex;align-items: stretch;justify-content: center;background-color: white;position: relative;}#sk-container-id-15 div.sk-item::before, #sk-container-id-15 div.sk-parallel-item::before {content: \"\";position: absolute;border-left: 1px solid gray;box-sizing: border-box;top: 0;bottom: 0;left: 50%;z-index: -1;}#sk-container-id-15 div.sk-parallel-item {display: flex;flex-direction: column;z-index: 1;position: relative;background-color: white;}#sk-container-id-15 div.sk-parallel-item:first-child::after {align-self: flex-end;width: 50%;}#sk-container-id-15 div.sk-parallel-item:last-child::after {align-self: flex-start;width: 50%;}#sk-container-id-15 div.sk-parallel-item:only-child::after {width: 0;}#sk-container-id-15 div.sk-dashed-wrapped {border: 1px dashed gray;margin: 0 0.4em 0.5em 0.4em;box-sizing: border-box;padding-bottom: 0.4em;background-color: white;}#sk-container-id-15 div.sk-label label {font-family: monospace;font-weight: bold;display: inline-block;line-height: 1.2em;}#sk-container-id-15 div.sk-label-container {text-align: center;}#sk-container-id-15 div.sk-container {/* jupyter's `normalize.less` sets `[hidden] { display: none; }` but bootstrap.min.css set `[hidden] { display: none !important; }` so we also need the `!important` here to be able to override the default hidden behavior on the sphinx rendered scikit-learn.org. See: https://github.com/scikit-learn/scikit-learn/issues/21755 */display: inline-block !important;position: relative;}#sk-container-id-15 div.sk-text-repr-fallback {display: none;}</style><div id=\"sk-container-id-15\" class=\"sk-top-container\"><div class=\"sk-text-repr-fallback\"><pre>SVC(random_state=0)</pre><b>In a Jupyter environment, please rerun this cell to show the HTML representation or trust the notebook. <br />On GitHub, the HTML representation is unable to render, please try loading this page with nbviewer.org.</b></div><div class=\"sk-container\" hidden><div class=\"sk-item\"><div class=\"sk-estimator sk-toggleable\"><input class=\"sk-toggleable__control sk-hidden--visually\" id=\"sk-estimator-id-15\" type=\"checkbox\" checked><label for=\"sk-estimator-id-15\" class=\"sk-toggleable__label sk-toggleable__label-arrow\">SVC</label><div class=\"sk-toggleable__content\"><pre>SVC(random_state=0)</pre></div></div></div></div></div>"
      ],
      "text/plain": [
       "SVC(random_state=0)"
      ]
     },
     "execution_count": 179,
     "metadata": {},
     "output_type": "execute_result"
    }
   ],
   "source": [
    "from sklearn.svm import SVC\n",
    "classifier = SVC(kernel = 'rbf',random_state=0)\n",
    "classifier.fit(X_train,y_train)"
   ]
  },
  {
   "cell_type": "code",
   "execution_count": 180,
   "id": "dfd0378e",
   "metadata": {},
   "outputs": [],
   "source": [
    "y_pred = classifier.predict(X_test)"
   ]
  },
  {
   "cell_type": "code",
   "execution_count": 181,
   "id": "f2ca0f35",
   "metadata": {},
   "outputs": [
    {
     "name": "stdout",
     "output_type": "stream",
     "text": [
      "Confusion matrix\n",
      "\n",
      "Predicted    0    1    2\n",
      "Actual                  \n",
      "0          192    5    1\n",
      "1            0  197    2\n",
      "2            5    5  194\n",
      "accuracy = 0.970 \n",
      "precision =0.970 \n",
      "recall =0.970 \n",
      "f1 =0.970\n"
     ]
    }
   ],
   "source": [
    "print(\"Confusion matrix\\n\")\n",
    "print(pd.crosstab(pd.Series(y_test,name=\"Actual\"),pd.Series(y_pred,name=\"Predicted\")))\n",
    "acuracy,precision,recall,f1 = get_metrics(y_test,y_pred)\n",
    "print(\"accuracy = %.3f \\nprecision =%.3f \\nrecall =%.3f \\nf1 =%.3f\" % (acuracy,precision,recall,f1))"
   ]
  },
  {
   "cell_type": "markdown",
   "id": "b386877a",
   "metadata": {},
   "source": [
    "### Plotting Confusion Matrix of support_vector_machine classifier "
   ]
  },
  {
   "cell_type": "code",
   "execution_count": 182,
   "id": "d5cb6dec",
   "metadata": {},
   "outputs": [
    {
     "data": {
      "image/png": "[encoded data removed]",
      "text/plain": [
       "<Figure size 432x288 with 2 Axes>"
      ]
     },
     "metadata": {
      "needs_background": "light"
     },
     "output_type": "display_data"
    }
   ],
   "source": [
    "cm = confusion_matrix(y_test,y_pred)\n",
    "cmp = ConfusionMatrixDisplay(cm,display_labels=['Kapha','Pitta','Vata'])\n",
    "cmp = cmp.plot(cmap=\"Blues\")\n",
    "plt.show()"
   ]
  },
  {
   "cell_type": "markdown",
   "id": "4d65b7f4",
   "metadata": {},
   "source": [
    "### Traning and validation accuracy of support_vector_machine classifier "
   ]
  },
  {
   "cell_type": "code",
   "execution_count": null,
   "id": "ca56680f",
   "metadata": {},
   "outputs": [],
   "source": [
    "parameter_range = [\"linear\", \"poly\", \"rbf\"]\n",
    "\n",
    "train_score, test_score = validation_curve(SVC(random_state=0), X, y,\n",
    "                                       param_name = \"kernel\",\n",
    "                                       param_range = parameter_range,\n",
    "                                        cv = 5, scoring = \"accuracy\")\n",
    " \n",
    "# Calculating mean and standard deviation of training score\n",
    "mean_train_score = np.mean(train_score, axis = 1)\n",
    "std_train_score = np.std(train_score, axis = 1)\n",
    " \n",
    "# Calculating mean and standard deviation of testing score\n",
    "mean_test_score = np.mean(test_score, axis = 1)\n",
    "std_test_score = np.std(test_score, axis = 1)\n",
    " \n",
    "# Plot mean accuracy scores for training and testing scores\n",
    "plt.plot(parameter_range, mean_train_score,\n",
    "     label = \"Training Accuracy\", color = 'b')\n",
    "plt.plot(parameter_range, mean_test_score,\n",
    "   label = \"Validation Accuracy\", color = 'g')\n",
    " \n",
    "# Creating the plot\n",
    "plt.title(\"Accuracy Curve with support_vector_machine classifier\")\n",
    "plt.xlabel(\"kernel\")\n",
    "plt.ylabel(\"Accuracy\")\n",
    "plt.tight_layout()\n",
    "plt.legend(loc = 'best')\n",
    "plt.show() "
   ]
  },
  {
   "cell_type": "markdown",
   "id": "2435c345",
   "metadata": {},
   "source": [
    "### Creating a decision_tree classifier"
   ]
  },
  {
   "cell_type": "code",
   "execution_count": 164,
   "id": "1d405aa9",
   "metadata": {},
   "outputs": [
    {
     "data": {
      "text/html": [
       "<style>#sk-container-id-13 {color: black;background-color: white;}#sk-container-id-13 pre{padding: 0;}#sk-container-id-13 div.sk-toggleable {background-color: white;}#sk-container-id-13 label.sk-toggleable__label {cursor: pointer;display: block;width: 100%;margin-bottom: 0;padding: 0.3em;box-sizing: border-box;text-align: center;}#sk-container-id-13 label.sk-toggleable__label-arrow:before {content: \"▸\";float: left;margin-right: 0.25em;color: #696969;}#sk-container-id-13 label.sk-toggleable__label-arrow:hover:before {color: black;}#sk-container-id-13 div.sk-estimator:hover label.sk-toggleable__label-arrow:before {color: black;}#sk-container-id-13 div.sk-toggleable__content {max-height: 0;max-width: 0;overflow: hidden;text-align: left;background-color: #f0f8ff;}#sk-container-id-13 div.sk-toggleable__content pre {margin: 0.2em;color: black;border-radius: 0.25em;background-color: #f0f8ff;}#sk-container-id-13 input.sk-toggleable__control:checked~div.sk-toggleable__content {max-height: 200px;max-width: 100%;overflow: auto;}#sk-container-id-13 input.sk-toggleable__control:checked~label.sk-toggleable__label-arrow:before {content: \"▾\";}#sk-container-id-13 div.sk-estimator input.sk-toggleable__control:checked~label.sk-toggleable__label {background-color: #d4ebff;}#sk-container-id-13 div.sk-label input.sk-toggleable__control:checked~label.sk-toggleable__label {background-color: #d4ebff;}#sk-container-id-13 input.sk-hidden--visually {border: 0;clip: rect(1px 1px 1px 1px);clip: rect(1px, 1px, 1px, 1px);height: 1px;margin: -1px;overflow: hidden;padding: 0;position: absolute;width: 1px;}#sk-container-id-13 div.sk-estimator {font-family: monospace;background-color: #f0f8ff;border: 1px dotted black;border-radius: 0.25em;box-sizing: border-box;margin-bottom: 0.5em;}#sk-container-id-13 div.sk-estimator:hover {background-color: #d4ebff;}#sk-container-id-13 div.sk-parallel-item::after {content: \"\";width: 100%;border-bottom: 1px solid gray;flex-grow: 1;}#sk-container-id-13 div.sk-label:hover label.sk-toggleable__label {background-color: #d4ebff;}#sk-container-id-13 div.sk-serial::before {content: \"\";position: absolute;border-left: 1px solid gray;box-sizing: border-box;top: 0;bottom: 0;left: 50%;z-index: 0;}#sk-container-id-13 div.sk-serial {display: flex;flex-direction: column;align-items: center;background-color: white;padding-right: 0.2em;padding-left: 0.2em;position: relative;}#sk-container-id-13 div.sk-item {position: relative;z-index: 1;}#sk-container-id-13 div.sk-parallel {display: flex;align-items: stretch;justify-content: center;background-color: white;position: relative;}#sk-container-id-13 div.sk-item::before, #sk-container-id-13 div.sk-parallel-item::before {content: \"\";position: absolute;border-left: 1px solid gray;box-sizing: border-box;top: 0;bottom: 0;left: 50%;z-index: -1;}#sk-container-id-13 div.sk-parallel-item {display: flex;flex-direction: column;z-index: 1;position: relative;background-color: white;}#sk-container-id-13 div.sk-parallel-item:first-child::after {align-self: flex-end;width: 50%;}#sk-container-id-13 div.sk-parallel-item:last-child::after {align-self: flex-start;width: 50%;}#sk-container-id-13 div.sk-parallel-item:only-child::after {width: 0;}#sk-container-id-13 div.sk-dashed-wrapped {border: 1px dashed gray;margin: 0 0.4em 0.5em 0.4em;box-sizing: border-box;padding-bottom: 0.4em;background-color: white;}#sk-container-id-13 div.sk-label label {font-family: monospace;font-weight: bold;display: inline-block;line-height: 1.2em;}#sk-container-id-13 div.sk-label-container {text-align: center;}#sk-container-id-13 div.sk-container {/* jupyter's `normalize.less` sets `[hidden] { display: none; }` but bootstrap.min.css set `[hidden] { display: none !important; }` so we also need the `!important` here to be able to override the default hidden behavior on the sphinx rendered scikit-learn.org. See: https://github.com/scikit-learn/scikit-learn/issues/21755 */display: inline-block !important;position: relative;}#sk-container-id-13 div.sk-text-repr-fallback {display: none;}</style><div id=\"sk-container-id-13\" class=\"sk-top-container\"><div class=\"sk-text-repr-fallback\"><pre>DecisionTreeClassifier(criterion=&#x27;entropy&#x27;, random_state=0)</pre><b>In a Jupyter environment, please rerun this cell to show the HTML representation or trust the notebook. <br />On GitHub, the HTML representation is unable to render, please try loading this page with nbviewer.org.</b></div><div class=\"sk-container\" hidden><div class=\"sk-item\"><div class=\"sk-estimator sk-toggleable\"><input class=\"sk-toggleable__control sk-hidden--visually\" id=\"sk-estimator-id-13\" type=\"checkbox\" checked><label for=\"sk-estimator-id-13\" class=\"sk-toggleable__label sk-toggleable__label-arrow\">DecisionTreeClassifier</label><div class=\"sk-toggleable__content\"><pre>DecisionTreeClassifier(criterion=&#x27;entropy&#x27;, random_state=0)</pre></div></div></div></div></div>"
      ],
      "text/plain": [
       "DecisionTreeClassifier(criterion='entropy', random_state=0)"
      ]
     },
     "execution_count": 164,
     "metadata": {},
     "output_type": "execute_result"
    }
   ],
   "source": [
    "from sklearn.tree import DecisionTreeClassifier\n",
    "classifier = DecisionTreeClassifier(criterion = 'entropy',random_state=0)\n",
    "classifier.fit(X_train,y_train)"
   ]
  },
  {
   "cell_type": "code",
   "execution_count": 165,
   "id": "a11adc9e",
   "metadata": {},
   "outputs": [],
   "source": [
    "y_pred = classifier.predict(X_test)"
   ]
  },
  {
   "cell_type": "code",
   "execution_count": 166,
   "id": "2a0d51c3",
   "metadata": {},
   "outputs": [
    {
     "name": "stdout",
     "output_type": "stream",
     "text": [
      "Confusion matrix\n",
      "\n",
      "Predicted    0    1    2\n",
      "Actual                  \n",
      "0          190    2    6\n",
      "1            3  184   12\n",
      "2            7    8  189\n",
      "accuracy = 0.937 \n",
      "precision =0.937 \n",
      "recall =0.937 \n",
      "f1 =0.937\n"
     ]
    }
   ],
   "source": [
    "print(\"Confusion matrix\\n\")\n",
    "print(pd.crosstab(pd.Series(y_test,name=\"Actual\"),pd.Series(y_pred,name=\"Predicted\")))\n",
    "acuracy,precision,recall,f1 = get_metrics(y_test,y_pred)\n",
    "print(\"accuracy = %.3f \\nprecision =%.3f \\nrecall =%.3f \\nf1 =%.3f\" % (acuracy,precision,recall,f1))"
   ]
  },
  {
   "cell_type": "markdown",
   "id": "201b5d26",
   "metadata": {},
   "source": [
    "### Plotting Confusion Matrix of decision_tree classifier"
   ]
  },
  {
   "cell_type": "code",
   "execution_count": 170,
   "id": "c32a98d6",
   "metadata": {},
   "outputs": [
    {
     "data": {
      "image/png": "[encoded data removed]",
      "text/plain": [
       "<Figure size 432x288 with 2 Axes>"
      ]
     },
     "metadata": {
      "needs_background": "light"
     },
     "output_type": "display_data"
    }
   ],
   "source": [
    "cm = confusion_matrix(y_test,y_pred)\n",
    "cmp = ConfusionMatrixDisplay(cm,display_labels=['Kapha','Pitta','Vata'])\n",
    "cmp = cmp.plot(cmap=\"Blues\")\n",
    "plt.show()"
   ]
  },
  {
   "cell_type": "markdown",
   "id": "f695b17f",
   "metadata": {},
   "source": [
    "### Traning and validation accuracy of decision_tree classifier"
   ]
  },
  {
   "cell_type": "code",
   "execution_count": 173,
   "id": "c30605f1",
   "metadata": {},
   "outputs": [
    {
     "data": {
      "image/png": "[encoded data removed]",
      "text/plain": [
       "<Figure size 432x288 with 1 Axes>"
      ]
     },
     "metadata": {
      "needs_background": "light"
     },
     "output_type": "display_data"
    }
   ],
   "source": [
    "parameter_range = [\"gini\", \"entropy\", \"log_loss\"]\n",
    "\n",
    "train_score, test_score = validation_curve(DecisionTreeClassifier(random_state=0), X, y,\n",
    "                                       param_name = \"criterion\",\n",
    "                                       param_range = parameter_range,\n",
    "                                        cv = 5, scoring = \"accuracy\")\n",
    " \n",
    "# Calculating mean and standard deviation of training score\n",
    "mean_train_score = np.mean(train_score, axis = 1)\n",
    "std_train_score = np.std(train_score, axis = 1)\n",
    " \n",
    "# Calculating mean and standard deviation of testing score\n",
    "mean_test_score = np.mean(test_score, axis = 1)\n",
    "std_test_score = np.std(test_score, axis = 1)\n",
    " \n",
    "# Plot mean accuracy scores for training and testing scores\n",
    "plt.plot(parameter_range, mean_train_score,\n",
    "     label = \"Training Accuracy\", color = 'b')\n",
    "plt.plot(parameter_range, mean_test_score,\n",
    "   label = \"Validation Accuracy\", color = 'g')\n",
    " \n",
    "# Creating the plot\n",
    "plt.title(\"Accuracy Curve with decision_tree classifier\")\n",
    "plt.xlabel(\"criterion\")\n",
    "plt.ylabel(\"Accuracy\")\n",
    "plt.tight_layout()\n",
    "plt.legend(loc = 'best')\n",
    "plt.show() "
   ]
  },
  {
   "cell_type": "markdown",
   "id": "2fd75ed0",
   "metadata": {},
   "source": [
    "### Creating a random_forest classifier "
   ]
  },
  {
   "cell_type": "code",
   "execution_count": 174,
   "id": "9d299649",
   "metadata": {},
   "outputs": [
    {
     "data": {
      "text/html": [
       "<style>#sk-container-id-14 {color: black;background-color: white;}#sk-container-id-14 pre{padding: 0;}#sk-container-id-14 div.sk-toggleable {background-color: white;}#sk-container-id-14 label.sk-toggleable__label {cursor: pointer;display: block;width: 100%;margin-bottom: 0;padding: 0.3em;box-sizing: border-box;text-align: center;}#sk-container-id-14 label.sk-toggleable__label-arrow:before {content: \"▸\";float: left;margin-right: 0.25em;color: #696969;}#sk-container-id-14 label.sk-toggleable__label-arrow:hover:before {color: black;}#sk-container-id-14 div.sk-estimator:hover label.sk-toggleable__label-arrow:before {color: black;}#sk-container-id-14 div.sk-toggleable__content {max-height: 0;max-width: 0;overflow: hidden;text-align: left;background-color: #f0f8ff;}#sk-container-id-14 div.sk-toggleable__content pre {margin: 0.2em;color: black;border-radius: 0.25em;background-color: #f0f8ff;}#sk-container-id-14 input.sk-toggleable__control:checked~div.sk-toggleable__content {max-height: 200px;max-width: 100%;overflow: auto;}#sk-container-id-14 input.sk-toggleable__control:checked~label.sk-toggleable__label-arrow:before {content: \"▾\";}#sk-container-id-14 div.sk-estimator input.sk-toggleable__control:checked~label.sk-toggleable__label {background-color: #d4ebff;}#sk-container-id-14 div.sk-label input.sk-toggleable__control:checked~label.sk-toggleable__label {background-color: #d4ebff;}#sk-container-id-14 input.sk-hidden--visually {border: 0;clip: rect(1px 1px 1px 1px);clip: rect(1px, 1px, 1px, 1px);height: 1px;margin: -1px;overflow: hidden;padding: 0;position: absolute;width: 1px;}#sk-container-id-14 div.sk-estimator {font-family: monospace;background-color: #f0f8ff;border: 1px dotted black;border-radius: 0.25em;box-sizing: border-box;margin-bottom: 0.5em;}#sk-container-id-14 div.sk-estimator:hover {background-color: #d4ebff;}#sk-container-id-14 div.sk-parallel-item::after {content: \"\";width: 100%;border-bottom: 1px solid gray;flex-grow: 1;}#sk-container-id-14 div.sk-label:hover label.sk-toggleable__label {background-color: #d4ebff;}#sk-container-id-14 div.sk-serial::before {content: \"\";position: absolute;border-left: 1px solid gray;box-sizing: border-box;top: 0;bottom: 0;left: 50%;z-index: 0;}#sk-container-id-14 div.sk-serial {display: flex;flex-direction: column;align-items: center;background-color: white;padding-right: 0.2em;padding-left: 0.2em;position: relative;}#sk-container-id-14 div.sk-item {position: relative;z-index: 1;}#sk-container-id-14 div.sk-parallel {display: flex;align-items: stretch;justify-content: center;background-color: white;position: relative;}#sk-container-id-14 div.sk-item::before, #sk-container-id-14 div.sk-parallel-item::before {content: \"\";position: absolute;border-left: 1px solid gray;box-sizing: border-box;top: 0;bottom: 0;left: 50%;z-index: -1;}#sk-container-id-14 div.sk-parallel-item {display: flex;flex-direction: column;z-index: 1;position: relative;background-color: white;}#sk-container-id-14 div.sk-parallel-item:first-child::after {align-self: flex-end;width: 50%;}#sk-container-id-14 div.sk-parallel-item:last-child::after {align-self: flex-start;width: 50%;}#sk-container-id-14 div.sk-parallel-item:only-child::after {width: 0;}#sk-container-id-14 div.sk-dashed-wrapped {border: 1px dashed gray;margin: 0 0.4em 0.5em 0.4em;box-sizing: border-box;padding-bottom: 0.4em;background-color: white;}#sk-container-id-14 div.sk-label label {font-family: monospace;font-weight: bold;display: inline-block;line-height: 1.2em;}#sk-container-id-14 div.sk-label-container {text-align: center;}#sk-container-id-14 div.sk-container {/* jupyter's `normalize.less` sets `[hidden] { display: none; }` but bootstrap.min.css set `[hidden] { display: none !important; }` so we also need the `!important` here to be able to override the default hidden behavior on the sphinx rendered scikit-learn.org. See: https://github.com/scikit-learn/scikit-learn/issues/21755 */display: inline-block !important;position: relative;}#sk-container-id-14 div.sk-text-repr-fallback {display: none;}</style><div id=\"sk-container-id-14\" class=\"sk-top-container\"><div class=\"sk-text-repr-fallback\"><pre>RandomForestClassifier(criterion=&#x27;entropy&#x27;, n_estimators=10, random_state=0)</pre><b>In a Jupyter environment, please rerun this cell to show the HTML representation or trust the notebook. <br />On GitHub, the HTML representation is unable to render, please try loading this page with nbviewer.org.</b></div><div class=\"sk-container\" hidden><div class=\"sk-item\"><div class=\"sk-estimator sk-toggleable\"><input class=\"sk-toggleable__control sk-hidden--visually\" id=\"sk-estimator-id-14\" type=\"checkbox\" checked><label for=\"sk-estimator-id-14\" class=\"sk-toggleable__label sk-toggleable__label-arrow\">RandomForestClassifier</label><div class=\"sk-toggleable__content\"><pre>RandomForestClassifier(criterion=&#x27;entropy&#x27;, n_estimators=10, random_state=0)</pre></div></div></div></div></div>"
      ],
      "text/plain": [
       "RandomForestClassifier(criterion='entropy', n_estimators=10, random_state=0)"
      ]
     },
     "execution_count": 174,
     "metadata": {},
     "output_type": "execute_result"
    }
   ],
   "source": [
    "from sklearn.ensemble import RandomForestClassifier\n",
    "classifier = RandomForestClassifier(n_estimators = 10,criterion = 'entropy',random_state = 0)\n",
    "classifier.fit(X_train,y_train)"
   ]
  },
  {
   "cell_type": "code",
   "execution_count": 175,
   "id": "c839479f",
   "metadata": {},
   "outputs": [],
   "source": [
    "y_pred = classifier.predict(X_test)"
   ]
  },
  {
   "cell_type": "code",
   "execution_count": 176,
   "id": "9bfe97ae",
   "metadata": {
    "scrolled": false
   },
   "outputs": [
    {
     "name": "stdout",
     "output_type": "stream",
     "text": [
      "Confusion matrix\n",
      "\n",
      "Predicted    0    1    2\n",
      "Actual                  \n",
      "0          193    1    4\n",
      "1            4  194    1\n",
      "2            8    4  192\n",
      "accuracy = 0.963 \n",
      "precision =0.964 \n",
      "recall =0.963 \n",
      "f1 =0.963\n"
     ]
    }
   ],
   "source": [
    "print(\"Confusion matrix\\n\")\n",
    "print(pd.crosstab(pd.Series(y_test,name=\"Actual\"),pd.Series(y_pred,name=\"Predicted\")))\n",
    "acuracy,precision,recall,f1 = get_metrics(y_test,y_pred)\n",
    "print(\"accuracy = %.3f \\nprecision =%.3f \\nrecall =%.3f \\nf1 =%.3f\" % (acuracy,precision,recall,f1))"
   ]
  },
  {
   "cell_type": "markdown",
   "id": "55f784ab",
   "metadata": {},
   "source": [
    "### Plotting Confusion Matrix of random_forest classifier"
   ]
  },
  {
   "cell_type": "code",
   "execution_count": 177,
   "id": "d0b08981",
   "metadata": {},
   "outputs": [
    {
     "data": {
      "image/png": "[encoded data removed]",
      "text/plain": [
       "<Figure size 432x288 with 2 Axes>"
      ]
     },
     "metadata": {
      "needs_background": "light"
     },
     "output_type": "display_data"
    }
   ],
   "source": [
    "cm = confusion_matrix(y_test,y_pred)\n",
    "cmp = ConfusionMatrixDisplay(cm,display_labels=['Kapha','Pitta','Vata'])\n",
    "cmp = cmp.plot(cmap=\"Blues\")\n",
    "plt.show()"
   ]
  },
  {
   "cell_type": "markdown",
   "id": "7003892b",
   "metadata": {},
   "source": [
    "### Traning and validation accuracy of random_forest classifier"
   ]
  },
  {
   "cell_type": "code",
   "execution_count": 178,
   "id": "38a972f6",
   "metadata": {},
   "outputs": [
    {
     "data": {
      "image/png": "[encoded data removed]",
      "text/plain": [
       "<Figure size 432x288 with 1 Axes>"
      ]
     },
     "metadata": {
      "needs_background": "light"
     },
     "output_type": "display_data"
    }
   ],
   "source": [
    "parameter_range = np.arange(3, 15, 1)\n",
    "\n",
    "train_score, test_score = validation_curve(RandomForestClassifier(criterion = 'entropy',random_state = 0), X, y,\n",
    "                                       param_name = \"n_estimators\",\n",
    "                                       param_range = parameter_range,\n",
    "                                        cv = 5, scoring = \"accuracy\")\n",
    " \n",
    "# Calculating mean and standard deviation of training score\n",
    "mean_train_score = np.mean(train_score, axis = 1)\n",
    "std_train_score = np.std(train_score, axis = 1)\n",
    " \n",
    "# Calculating mean and standard deviation of testing score\n",
    "mean_test_score = np.mean(test_score, axis = 1)\n",
    "std_test_score = np.std(test_score, axis = 1)\n",
    " \n",
    "# Plot mean accuracy scores for training and testing scores\n",
    "plt.plot(parameter_range, mean_train_score,\n",
    "     label = \"Training Accuracy\", color = 'b')\n",
    "plt.plot(parameter_range, mean_test_score,\n",
    "   label = \"Validation Accuracy\", color = 'g')\n",
    " \n",
    "# Creating the plot\n",
    "plt.title(\"Accuracy Curve with random_forest classifier\")\n",
    "plt.xlabel(\"n_estimators\")\n",
    "plt.ylabel(\"Accuracy\")\n",
    "plt.tight_layout()\n",
    "plt.legend(loc = 'best')\n",
    "plt.show()"
   ]
  }
 ],
 "metadata": {
  "kernelspec": {
   "display_name": "Python 3 (ipykernel)",
   "language": "python",
   "name": "python3"
  },
  "language_info": {
   "codemirror_mode": {
    "name": "ipython",
    "version": 3
   },
   "file_extension": ".py",
   "mimetype": "text/x-python",
   "name": "python",
   "nbconvert_exporter": "python",
   "pygments_lexer": "ipython3",
   "version": "3.8.0"
  }
 },
 "nbformat": 4,
 "nbformat_minor": 5
}
