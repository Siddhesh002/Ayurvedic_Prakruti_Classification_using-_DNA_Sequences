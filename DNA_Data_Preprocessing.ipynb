{
 "cells": [
  {
   "cell_type": "code",
   "execution_count": null,
   "id": "f733b9ee",
   "metadata": {},
   "outputs": [],
   "source": [
    "from Bio import SeqIO \n",
    "import csv"
   ]
  },
  {
   "cell_type": "code",
   "execution_count": null,
   "id": "17e9bc89",
   "metadata": {},
   "outputs": [],
   "source": [
    "filename = 'F16V2_TRISUTRA_Metagenomics.fna'\n",
    "\n",
    "sequences = [i for i in SeqIO.parse(filename,'fasta')]"
   ]
  },
  {
   "cell_type": "code",
   "execution_count": null,
   "id": "f8b6404c",
   "metadata": {},
   "outputs": [],
   "source": [
    "mp = {}"
   ]
  },
  {
   "cell_type": "code",
   "execution_count": null,
   "id": "331b967d",
   "metadata": {},
   "outputs": [],
   "source": [
    "with open(\"Prakruti_data.csv\") as f:\n",
    "\n",
    "    DictReader_obj = csv.DictReader(f)\n",
    "\n",
    "    for item in DictReader_obj:\n",
    "\n",
    "        mp[item['SampleID']] = item['Prakruti']\n",
    "\n",
    "with open(\"Dataset.csv\",'w',newline='') as f1:\n",
    "    fieldnames = ['Sequence','Prakruti']\n",
    "    thewriter = csv.DictWriter(f1,fieldnames=fieldnames)\n",
    "\n",
    "    thewriter.writeheader()\n",
    "\n",
    "    for item in sequences:\n",
    "\n",
    "            thewriter.writerow({'Sequence' : item.seq , 'Prakruti' : mp[item.name[0:7]]})\n",
    "            "
   ]
  },
  {
   "cell_type": "code",
   "execution_count": null,
   "id": "0f188ab8",
   "metadata": {},
   "outputs": [],
   "source": [
    "f1.close()\n",
    "f.close()"
   ]
  }
 ],
 "metadata": {
  "kernelspec": {
   "display_name": "Python 3 (ipykernel)",
   "language": "python",
   "name": "python3"
  },
  "language_info": {
   "codemirror_mode": {
    "name": "ipython",
    "version": 3
   },
   "file_extension": ".py",
   "mimetype": "text/x-python",
   "name": "python",
   "nbconvert_exporter": "python",
   "pygments_lexer": "ipython3",
   "version": "3.8.0"
  }
 },
 "nbformat": 4,
 "nbformat_minor": 5
}
